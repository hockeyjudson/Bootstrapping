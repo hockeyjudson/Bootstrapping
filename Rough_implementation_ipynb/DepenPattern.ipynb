{
 "cells": [
  {
   "cell_type": "code",
   "execution_count": 1,
   "metadata": {
    "collapsed": true
   },
   "outputs": [],
   "source": [
    "import stanfordcorenlp\n",
    "import spacy\n",
    "nlp=spacy.load('en_core_web_sm')"
   ]
  },
  {
   "cell_type": "code",
   "execution_count": 9,
   "metadata": {
    "collapsed": true
   },
   "outputs": [],
   "source": [
    "s=u\"Mr Robinson and Mr Lowth relied upon the views formed by Mr Bradley and Mr Ong about whether the Agreement applied to work carried out on the X50 work site.\""
   ]
  },
  {
   "cell_type": "code",
   "execution_count": 10,
   "metadata": {},
   "outputs": [
    {
     "name": "stdout",
     "output_type": "stream",
     "text": [
      "Mr NNP\n",
      "Robinson NNP\n",
      "and CC\n",
      "Mr NNP\n",
      "Lowth NNP\n",
      "relied VBD\n",
      "upon IN\n",
      "the DT\n",
      "views NNS\n",
      "formed VBN\n",
      "by IN\n",
      "Mr NNP\n",
      "Bradley NNP\n",
      "and CC\n",
      "Mr NNP\n",
      "Ong NNP\n",
      "about IN\n",
      "whether IN\n",
      "the DT\n",
      "Agreement NNP\n",
      "applied VBD\n",
      "to IN\n",
      "work NN\n",
      "carried VBN\n",
      "out RP\n",
      "on IN\n",
      "the DT\n",
      "X50 NNP\n",
      "work NN\n",
      "site NN\n",
      ". .\n"
     ]
    }
   ],
   "source": [
    "d=nlp(s)\n",
    "for i in d:\n",
    "    print i.text,i.tag_"
   ]
  },
  {
   "cell_type": "code",
   "execution_count": 6,
   "metadata": {},
   "outputs": [
    {
     "ename": "TypeError",
     "evalue": "'LazyCorpusLoader' object is not callable",
     "output_type": "error",
     "traceback": [
      "\u001b[1;31m---------------------------------------------------------------------------\u001b[0m",
      "\u001b[1;31mTypeError\u001b[0m                                 Traceback (most recent call last)",
      "\u001b[1;32m<ipython-input-6-1f8d9436fae1>\u001b[0m in \u001b[0;36m<module>\u001b[1;34m()\u001b[0m\n\u001b[0;32m      1\u001b[0m \u001b[1;32mfrom\u001b[0m \u001b[0mnltk\u001b[0m\u001b[1;33m.\u001b[0m\u001b[0mcorpus\u001b[0m \u001b[1;32mimport\u001b[0m \u001b[0mstopwords\u001b[0m\u001b[1;33m\u001b[0m\u001b[0m\n\u001b[1;32m----> 2\u001b[1;33m \u001b[0mst\u001b[0m\u001b[1;33m=\u001b[0m\u001b[0mstopwords\u001b[0m\u001b[1;33m(\u001b[0m\u001b[1;34m\"english\"\u001b[0m\u001b[1;33m)\u001b[0m\u001b[1;33m\u001b[0m\u001b[0m\n\u001b[0m\u001b[0;32m      3\u001b[0m \u001b[1;32mprint\u001b[0m \u001b[0mst\u001b[0m\u001b[1;33m,\u001b[0m\u001b[0mlen\u001b[0m\u001b[1;33m(\u001b[0m\u001b[0mst\u001b[0m\u001b[1;33m)\u001b[0m\u001b[1;33m\u001b[0m\u001b[0m\n",
      "\u001b[1;31mTypeError\u001b[0m: 'LazyCorpusLoader' object is not callable"
     ]
    }
   ],
   "source": [
    "from nltk.corpus import stopwords\n",
    "st=stopwords(\"english\")\n",
    "print st,len(st)"
   ]
  },
  {
   "cell_type": "code",
   "execution_count": 3,
   "metadata": {},
   "outputs": [
    {
     "data": {
      "text/plain": [
       "[(u'ROOT', 0, 6),\n",
       " (u'det', 6, 1),\n",
       " (u'amod', 6, 2),\n",
       " (u'compound', 6, 3),\n",
       " (u'compound', 6, 4),\n",
       " (u'compound', 6, 5),\n",
       " (u'case', 8, 7),\n",
       " (u'nmod', 6, 8),\n",
       " (u'punct', 6, 9)]"
      ]
     },
     "execution_count": 3,
     "metadata": {},
     "output_type": "execute_result"
    }
   ],
   "source": [
    "nlt=stanfordcorenlp.StanfordCoreNLP('/home/judson/Documents/stanford-corenlp-full-2018-02-27/')\n",
    "tr=nlt.dependency_parse(s)\n",
    "(tr)"
   ]
  },
  {
   "cell_type": "code",
   "execution_count": 4,
   "metadata": {},
   "outputs": [
    {
     "data": {
      "text/plain": [
       "[[u'The', u'det', u'cars', u'NOUN', []],\n",
       " [u'Autonomous', u'amod', u'cars', u'NOUN', []],\n",
       " [u'cars', u'nsubj', u'shift', u'VERB', [The, Autonomous]],\n",
       " [u'shift', u'ROOT', u'shift', u'VERB', [cars, liability, toward, .]],\n",
       " [u'insurance', u'compound', u'liability', u'NOUN', []],\n",
       " [u'liability', u'dobj', u'shift', u'VERB', [insurance]],\n",
       " [u'toward', u'prep', u'shift', u'VERB', [manufacturers]],\n",
       " [u'manufacturers', u'pobj', u'toward', u'ADP', []],\n",
       " [u'.', u'punct', u'shift', u'VERB', []]]"
      ]
     },
     "execution_count": 4,
     "metadata": {},
     "output_type": "execute_result"
    }
   ],
   "source": [
    "doc=nlp(s)\n",
    "a=[]\n",
    "for token in doc:\n",
    "    a.append([token.text,token.dep_, token.head.text, token.head.pos_,[child for child in token.children]])\n",
    "#a={i[0]:i[1:] for i in a}\n",
    "a"
   ]
  },
  {
   "cell_type": "code",
   "execution_count": 8,
   "metadata": {},
   "outputs": [
    {
     "ename": "LookupError",
     "evalue": "\n\n===========================================================================\n  NLTK was unable to find stanford-parser\\.jar! Set the CLASSPATH\n  environment variable.\n\n  For more information, on stanford-parser\\.jar, see:\n    <https://nlp.stanford.edu/software/lex-parser.shtml>\n===========================================================================",
     "output_type": "error",
     "traceback": [
      "\u001b[1;31m---------------------------------------------------------------------------\u001b[0m",
      "\u001b[1;31mLookupError\u001b[0m                               Traceback (most recent call last)",
      "\u001b[1;32m<ipython-input-8-c56112bda688>\u001b[0m in \u001b[0;36m<module>\u001b[1;34m()\u001b[0m\n\u001b[0;32m      1\u001b[0m \u001b[1;32mfrom\u001b[0m \u001b[0mnltk\u001b[0m\u001b[1;33m.\u001b[0m\u001b[0mparse\u001b[0m\u001b[1;33m.\u001b[0m\u001b[0mstanford\u001b[0m \u001b[1;32mimport\u001b[0m \u001b[0mStanfordDependencyParser\u001b[0m\u001b[1;33m\u001b[0m\u001b[0m\n\u001b[1;32m----> 2\u001b[1;33m \u001b[0mdep_parser\u001b[0m\u001b[1;33m=\u001b[0m\u001b[0mStanfordDependencyParser\u001b[0m\u001b[1;33m(\u001b[0m\u001b[0mmodel_path\u001b[0m\u001b[1;33m=\u001b[0m\u001b[1;34m\"/home/judson/Documents/stanford-english-corenlp-2018-02-27-models/edu/stanford/nlp/models/lexparser/englishPCFG.ser.gz\"\u001b[0m\u001b[1;33m)\u001b[0m\u001b[1;33m\u001b[0m\u001b[0m\n\u001b[0m\u001b[0;32m      3\u001b[0m \u001b[0mr\u001b[0m\u001b[1;33m=\u001b[0m\u001b[0mdep_parser\u001b[0m\u001b[1;33m.\u001b[0m\u001b[0mraw_parse\u001b[0m\u001b[1;33m(\u001b[0m\u001b[0ms\u001b[0m\u001b[1;33m)\u001b[0m\u001b[1;33m\u001b[0m\u001b[0m\n\u001b[0;32m      4\u001b[0m \u001b[1;32mfrom\u001b[0m \u001b[0mnltk\u001b[0m\u001b[1;33m.\u001b[0m\u001b[0mparse\u001b[0m\u001b[1;33m.\u001b[0m\u001b[0mcorenlp\u001b[0m \u001b[1;32mimport\u001b[0m \u001b[0mCoreNLPDependencyParser\u001b[0m\u001b[1;33m\u001b[0m\u001b[0m\n\u001b[0;32m      5\u001b[0m \u001b[0md\u001b[0m\u001b[1;33m=\u001b[0m\u001b[0mCoreNLPDependencyParser\u001b[0m\u001b[1;33m(\u001b[0m\u001b[1;33m)\u001b[0m\u001b[1;33m\u001b[0m\u001b[0m\n",
      "\u001b[1;32m/home/judson/anaconda2/lib/python2.7/site-packages/nltk/parse/stanford.pyc\u001b[0m in \u001b[0;36m__init__\u001b[1;34m(self, path_to_jar, path_to_models_jar, model_path, encoding, verbose, java_options, corenlp_options)\u001b[0m\n\u001b[0;32m     50\u001b[0m                 \u001b[0mverbose\u001b[0m\u001b[1;33m=\u001b[0m\u001b[0mverbose\u001b[0m\u001b[1;33m,\u001b[0m \u001b[0mis_regex\u001b[0m\u001b[1;33m=\u001b[0m\u001b[0mTrue\u001b[0m\u001b[1;33m\u001b[0m\u001b[0m\n\u001b[0;32m     51\u001b[0m             ),\n\u001b[1;32m---> 52\u001b[1;33m             \u001b[0mkey\u001b[0m\u001b[1;33m=\u001b[0m\u001b[1;32mlambda\u001b[0m \u001b[0mmodel_path\u001b[0m\u001b[1;33m:\u001b[0m \u001b[0mos\u001b[0m\u001b[1;33m.\u001b[0m\u001b[0mpath\u001b[0m\u001b[1;33m.\u001b[0m\u001b[0mdirname\u001b[0m\u001b[1;33m(\u001b[0m\u001b[0mmodel_path\u001b[0m\u001b[1;33m)\u001b[0m\u001b[1;33m\u001b[0m\u001b[0m\n\u001b[0m\u001b[0;32m     53\u001b[0m         )\n\u001b[0;32m     54\u001b[0m \u001b[1;33m\u001b[0m\u001b[0m\n",
      "\u001b[1;32m/home/judson/anaconda2/lib/python2.7/site-packages/nltk/__init__.pyc\u001b[0m in \u001b[0;36mfind_jar_iter\u001b[1;34m(name_pattern, path_to_jar, env_vars, searchpath, url, verbose, is_regex)\u001b[0m\n\u001b[0;32m    714\u001b[0m                     (name_pattern, url))\n\u001b[0;32m    715\u001b[0m         \u001b[0mdiv\u001b[0m \u001b[1;33m=\u001b[0m \u001b[1;34m'='\u001b[0m\u001b[1;33m*\u001b[0m\u001b[1;36m75\u001b[0m\u001b[1;33m\u001b[0m\u001b[0m\n\u001b[1;32m--> 716\u001b[1;33m         \u001b[1;32mraise\u001b[0m \u001b[0mLookupError\u001b[0m\u001b[1;33m(\u001b[0m\u001b[1;34m'\\n\\n%s\\n%s\\n%s'\u001b[0m \u001b[1;33m%\u001b[0m \u001b[1;33m(\u001b[0m\u001b[0mdiv\u001b[0m\u001b[1;33m,\u001b[0m \u001b[0mmsg\u001b[0m\u001b[1;33m,\u001b[0m \u001b[0mdiv\u001b[0m\u001b[1;33m)\u001b[0m\u001b[1;33m)\u001b[0m\u001b[1;33m\u001b[0m\u001b[0m\n\u001b[0m\u001b[0;32m    717\u001b[0m \u001b[1;33m\u001b[0m\u001b[0m\n\u001b[0;32m    718\u001b[0m def find_jar(name_pattern, path_to_jar=None, env_vars=(),\n",
      "\u001b[1;31mLookupError\u001b[0m: \n\n===========================================================================\n  NLTK was unable to find stanford-parser\\.jar! Set the CLASSPATH\n  environment variable.\n\n  For more information, on stanford-parser\\.jar, see:\n    <https://nlp.stanford.edu/software/lex-parser.shtml>\n==========================================================================="
     ]
    }
   ],
   "source": [
    "from nltk.parse.stanford import StanfordDependencyParser\n",
    "dep_parser=StanfordDependencyParser(model_path=\"/home/judson/Documents/stanford-english-corenlp-2018-02-27-models/edu/stanford/nlp/models/lexparser/englishPCFG.ser.gz\")\n",
    "r=dep_parser.raw_parse(s)\n",
    "from nltk.parse.corenlp import CoreNLPDependencyParser \n",
    "d=CoreNLPDependencyParser()"
   ]
  },
  {
   "cell_type": "code",
   "execution_count": 22,
   "metadata": {},
   "outputs": [],
   "source": [
    "#for i in list(d.parse(s)):\n",
    "#    print i"
   ]
  },
  {
   "cell_type": "code",
   "execution_count": 8,
   "metadata": {},
   "outputs": [
    {
     "name": "stdout",
     "output_type": "stream",
     "text": [
      "The [The] det DET 0\n",
      "Autonomous [Autonomous] amod ADJ 4\n",
      "cars [The, Autonomous, cars] nsubj NOUN 15\n",
      "shift [The, Autonomous, cars, shift, insurance, liability, toward, manufacturers, .] ROOT VERB 20\n",
      "insurance [insurance] compound NOUN 26\n",
      "liability [insurance, liability] dobj NOUN 36\n",
      "toward [toward, manufacturers] prep ADP 46\n",
      "manufacturers [manufacturers] pobj NOUN 53\n",
      ". [.] punct PUNCT 66\n"
     ]
    },
    {
     "data": {
      "text/plain": [
       "spacy.tokens.doc.Doc"
      ]
     },
     "execution_count": 8,
     "metadata": {},
     "output_type": "execute_result"
    }
   ],
   "source": [
    "for i in doc:\n",
    "    if i.subtree:\n",
    "        print i,list(i.subtree),i.dep_,i.pos_,i.idx\n",
    "    else:\n",
    "        print i,i.dep_,i.pos_,i.idx\n",
    "type(doc)   "
   ]
  },
  {
   "cell_type": "code",
   "execution_count": 9,
   "metadata": {
    "scrolled": true
   },
   "outputs": [
    {
     "name": "stdout",
     "output_type": "stream",
     "text": [
      "(u'The', u'det', u'cars', u'NOUN', [])\n",
      "(u'Autonomous', u'amod', u'cars', u'NOUN', [])\n",
      "(u'cars', u'nsubj', u'shift', u'VERB', [The, Autonomous])\n",
      "(u'shift', u'ROOT', u'shift', u'VERB', [cars, liability, toward, .])\n",
      "(u'insurance', u'compound', u'liability', u'NOUN', [])\n",
      "(u'liability', u'dobj', u'shift', u'VERB', [insurance])\n",
      "(u'toward', u'prep', u'shift', u'VERB', [manufacturers])\n",
      "(u'manufacturers', u'pobj', u'toward', u'ADP', [])\n",
      "(u'.', u'punct', u'shift', u'VERB', [])\n",
      "{u'manufacturers': [u'pobj', u'toward', u'NNS', []], u'cars': [u'nsubj', u'shift', u'NNS', [The, Autonomous]], u'Autonomous': [u'amod', u'cars', u'JJ', []], u'.': [u'punct', u'shift', u'.', []], u'liability': [u'dobj', u'shift', u'NN', [insurance]], u'shift': [u'ROOT', u'shift', u'VBP', [cars, liability, toward, .]], u'The': [u'det', u'cars', u'DT', []], u'toward': [u'prep', u'shift', u'IN', [manufacturers]], u'insurance': [u'compound', u'liability', u'NN', []]}\n"
     ]
    },
    {
     "data": {
      "text/plain": [
       "{u'.': [],\n",
       " u'Autonomous': [],\n",
       " u'The': [],\n",
       " u'cars': [The, Autonomous],\n",
       " u'insurance': [],\n",
       " u'liability': [insurance],\n",
       " u'manufacturers': [],\n",
       " u'shift': [cars, liability, toward, .],\n",
       " u'toward': [manufacturers]}"
      ]
     },
     "execution_count": 9,
     "metadata": {},
     "output_type": "execute_result"
    }
   ],
   "source": [
    "for token in doc:\n",
    "    print(token.text, token.dep_, token.head.text, token.head.pos_,[child for child in token.children])\n",
    "d={tok.text:[tok.dep_,tok.head.text,tok.tag_,[child for child in tok.children]] for tok in doc}\n",
    "print d\n",
    "md= {i:j[3] for i,j in d.items()}\n",
    "md"
   ]
  },
  {
   "cell_type": "code",
   "execution_count": 2,
   "metadata": {},
   "outputs": [],
   "source": [
    "import spacy\n",
    "nlp=spacy.load('en_core_web_sm')\n",
    "def dict_conv(st):\n",
    "    doc=nlp(remove_stop_punct(st))\n",
    "    d={tok.text:[tok.dep_,tok.head.text,tok.tag_,[child for child in tok.children]] for tok in doc}\n",
    "    return d"
   ]
  },
  {
   "cell_type": "code",
   "execution_count": 3,
   "metadata": {},
   "outputs": [],
   "source": [
    "data = {1 : [],2 : [],3 : [],4 : [3,2],5:[],6:[5],7:[],8:[4,6,9,1],9:[7]}\n",
    "def dfs(data, path, paths = []):   \n",
    "    datum = str(path[-1])\n",
    "    if datum in data:\n",
    "        if data[datum]==[]:\n",
    "            paths+=[path]\n",
    "            return paths\n",
    "        else:\n",
    "            for val in data[datum]:\n",
    "                new_path = path + [val]\n",
    "                paths = dfs(data, new_path, paths)\n",
    "    else:\n",
    "        paths += [path]\n",
    "    return paths"
   ]
  },
  {
   "cell_type": "code",
   "execution_count": 33,
   "metadata": {},
   "outputs": [
    {
     "ename": "NameError",
     "evalue": "name 'd' is not defined",
     "output_type": "error",
     "traceback": [
      "\u001b[1;31m---------------------------------------------------------------------------\u001b[0m",
      "\u001b[1;31mNameError\u001b[0m                                 Traceback (most recent call last)",
      "\u001b[1;32m<ipython-input-33-ab9df7056b02>\u001b[0m in \u001b[0;36m<module>\u001b[1;34m()\u001b[0m\n\u001b[0;32m      8\u001b[0m     \u001b[0mmpos\u001b[0m\u001b[1;33m=\u001b[0m\u001b[1;33m[\u001b[0m\u001b[1;33m[\u001b[0m\u001b[0mdt\u001b[0m\u001b[1;33m[\u001b[0m\u001b[0mstr\u001b[0m\u001b[1;33m(\u001b[0m\u001b[0mj\u001b[0m\u001b[1;33m)\u001b[0m\u001b[1;33m]\u001b[0m\u001b[1;33m[\u001b[0m\u001b[1;36m2\u001b[0m\u001b[1;33m]\u001b[0m \u001b[1;32mfor\u001b[0m \u001b[0mj\u001b[0m \u001b[1;32min\u001b[0m \u001b[0mi\u001b[0m\u001b[1;33m]\u001b[0m\u001b[1;32mfor\u001b[0m \u001b[0mi\u001b[0m \u001b[1;32min\u001b[0m \u001b[0mml\u001b[0m\u001b[1;33m]\u001b[0m\u001b[1;33m\u001b[0m\u001b[0m\n\u001b[0;32m      9\u001b[0m     \u001b[1;32mreturn\u001b[0m \u001b[0mmpos\u001b[0m\u001b[1;33m\u001b[0m\u001b[0m\n\u001b[1;32m---> 10\u001b[1;33m \u001b[1;32mprint\u001b[0m \u001b[0mparse_depend\u001b[0m\u001b[1;33m(\u001b[0m\u001b[0md\u001b[0m\u001b[1;33m)\u001b[0m\u001b[1;33m\u001b[0m\u001b[0m\n\u001b[0m",
      "\u001b[1;31mNameError\u001b[0m: name 'd' is not defined"
     ]
    }
   ],
   "source": [
    "def parse_depend(dt):\n",
    "    md= {i:j[3] for i,j in dt.items()}\n",
    "    m=\"\"\n",
    "    for i,j in dt.items():\n",
    "        if j[0]==\"ROOT\":\n",
    "            m=str(i)\n",
    "    ml=dfs(md,[m],[])\n",
    "    mpos=[[dt[str(j)][2] for j in i]for i in ml]\n",
    "    return mpos\n",
    "print parse_depend(d)"
   ]
  },
  {
   "cell_type": "code",
   "execution_count": 32,
   "metadata": {},
   "outputs": [],
   "source": [
    "def remove_stop_punct(s):\n",
    "        from nltk.corpus import stopwords\n",
    "        stopwords=stopwords.words('english')\n",
    "        doc=nlp(s)\n",
    "        #k=sorted([\".\",\"DT\",\"TO\",\"CC\",\"IN\"])\n",
    "        st=\" \".join(t.text for t in doc if (t.pos_ not in [\"PUNCT\"] )and(t.text.lower() not in stopwords))\n",
    "        return st\n",
    "#print remove_stop_punct(s)"
   ]
  },
  {
   "cell_type": "code",
   "execution_count": 14,
   "metadata": {},
   "outputs": [
    {
     "name": "stdout",
     "output_type": "stream",
     "text": [
      "{u'manufacturers': [u'pobj', u'toward', u'NNS', []], u'cars': [u'nsubj', u'shift', u'NNS', [Autonomous]], u'liability': [u'dobj', u'shift', u'NN', [insurance]], u'shift': [u'ROOT', u'shift', u'VBP', [cars, liability, toward]], u'Autonomous': [u'amod', u'cars', u'JJ', []], u'toward': [u'prep', u'shift', u'IN', [manufacturers]], u'insurance': [u'compound', u'liability', u'NN', []]}\n"
     ]
    }
   ],
   "source": [
    "print (dict_conv(s))"
   ]
  },
  {
   "cell_type": "code",
   "execution_count": 15,
   "metadata": {},
   "outputs": [
    {
     "name": "stdout",
     "output_type": "stream",
     "text": [
      "[[u'VBP', u'NNS', u'JJ'], [u'VBP', u'NN', u'NN'], [u'VBP', u'IN', u'NNS']]\n"
     ]
    }
   ],
   "source": [
    "print parse_depend(dict_conv(s))"
   ]
  },
  {
   "cell_type": "code",
   "execution_count": 16,
   "metadata": {},
   "outputs": [],
   "source": [
    "def deppars_matcher(s1,s2):\n",
    "    m1=parse_depend(dict_conv(unicode(s1, \"utf-8\")))\n",
    "    m2=parse_depend(dict_conv(unicode(s2, \"utf-8\")))\n",
    "    m3=[]\n",
    "    for i in m1:\n",
    "        if i in m2:\n",
    "            m3.append(i)\n",
    "    return m3"
   ]
  },
  {
   "cell_type": "code",
   "execution_count": 1,
   "metadata": {},
   "outputs": [],
   "source": [
    "s2=\"I should interpolate to record that subsequent to reserving judgment on the question of leave to appeal, the Sharman applicants applied for a stay on Moore J's order requiring Ms Hemming to file that affidavit, and that I refused to grant that stay, but made orders requiring the affidavit to be left in a sealed envelope to be opened only upon further order of the Court.\"\n",
    "s1=\"Those obligations were said to be no different in principle to any other interlocutory procedural order of the court, whether made pre-trial or during a trial, requiring parties to swear affidavits, to answer questions in cross-examination and to provide documentation.\""
   ]
  },
  {
   "cell_type": "code",
   "execution_count": 18,
   "metadata": {},
   "outputs": [
    {
     "data": {
      "text/plain": [
       "[]"
      ]
     },
     "execution_count": 18,
     "metadata": {},
     "output_type": "execute_result"
    }
   ],
   "source": [
    "deppars_matcher(s1,s2)"
   ]
  },
  {
   "cell_type": "code",
   "execution_count": 19,
   "metadata": {},
   "outputs": [
    {
     "name": "stdout",
     "output_type": "stream",
     "text": [
      "[[u'VBN', u'NNS'], [u'VBN', u'VBD'], [u'VBN', u'VB', u'JJ', u'RB'], [u'VBN', u'VB', u'JJ', u'IN', u'NN', u'NN', u'NN', u'NN'], [u'VBN', u'VB', u'JJ', u'IN', u'NN', u'NN', u'NN', u'HYPH'], [u'VBN', u'VB', u'JJ', u'IN', u'NN', u'JJ'], [u'VBN', u'VB', u'JJ', u'IN', u'NN', u'JJ'], [u'VBN', u'VB', u'JJ', u'IN', u'NN', u'JJ'], [u'VBN', u'VB', u'JJ', u'IN', u'NN', u'IN', u'NN'], [u'VBN', u','], [u'VBN', u'VBN', u'IN'], [u'VBN', u'VBN', u'IN', u'NN'], [u'VBN', u'VBN', u'IN', u'NN'], [u'VBN', u'VBN', u','], [u'VBN', u'VBN', u'VBG', u'VBP', u'NNS'], [u'VBN', u'VBN', u'VBG', u'VBP', u'NNS'], [u'VBN', u'VBN', u'VBG', u'VBP', u','], [u'VBN', u'VBN', u'VBG', u'VBP', u'NN', u'NNS', u'IN', u'NN', u'NN', u'NN', u'NN'], [u'VBN', u'VBN', u'VBG', u'VBP', u'NN', u'NNS', u'IN', u'NN', u'NN', u'NN', u'HYPH']]\n",
      "[[u'VBD', u'VB', u'PRP'], [u'VBD', u'VB', u'MD'], [u'VBD', u'VB', u'NN', u'NN', u'IN', u'VBG', u'NN'], [u'VBD', u'VB', u'NN', u'NN', u'IN', u'VBG', u'IN', u'NN', u'JJ'], [u'VBD', u'VB', u'NN', u'NN', u'IN', u'VBG', u'IN', u'NN', u'IN', u'NNP'], [u'VBD', u','], [u'VBD', u'NNS', u'NNP'], [u'VBD', u'IN', u'NN', u'NN'], [u'VBD', u','], [u'VBD', u'VBD', u'IN'], [u'VBD', u'VBD', u'PRP'], [u'VBD', u'VBD', u'NN', u'NN'], [u'VBD', u'VBD', u','], [u'VBD', u'VBD', u'VBD', u'VBN', u'NNS', u'VBG', u'NN'], [u'VBD', u'VBD', u'VBD', u'VBN', u'VB'], [u'VBD', u'VBD', u'VBD', u'VBN', u'IN', u'NN', u'VBN'], [u'VBD', u'VBD', u'VBD', u'VBN', u'VBN', u'VB'], [u'VBD', u'VBD', u'VBD', u'VBN', u'VBN', u'IN', u'RB'], [u'VBD', u'VBD', u'VBD', u'VBN', u'VBN', u'IN', u'NN', u'JJ'], [u'VBD', u'VBD', u'VBD', u'VBN', u'VBN', u'IN', u'NN', u'IN', u'NNP']]\n"
     ]
    }
   ],
   "source": [
    "print parse_depend(dict_conv(unicode(s1, \"utf-8\")))\n",
    "print parse_depend(dict_conv(unicode(s2, \"utf-8\")))"
   ]
  },
  {
   "cell_type": "code",
   "execution_count": 20,
   "metadata": {},
   "outputs": [
    {
     "name": "stdout",
     "output_type": "stream",
     "text": [
      "{u'pre': [u'nmod', u'-', u'AFX', []], u'obligations': [u'nsubjpass', u'said', u'NNS', []], u'requiring': [u'advcl', u'made', u'VBG', [swear]], u'parties': [u'nsubj', u'swear', u'NNS', []], u'cross': [u'compound', u'examination', u'NN', []], u'questions': [u'dobj', u'answer', u'NNS', [in]], u'in': [u'prep', u'questions', u'IN', [documentation]], u'different': [u'acomp', u'be', u'JJ', [no, in, to]], u'said': [u'ROOT', u'said', u'VBN', [obligations, were, be, ,, made]], u'court': [u'pobj', u'of', u'NN', []], u'no': [u'neg', u'different', u'RB', []], u'provide': [u'compound', u'documentation', u'NN', [examination]], u'-': [u'punct', u'examination', u'HYPH', []], u',': [u'punct', u'swear', u',', []], u'to': [u'prep', u'different', u'IN', [order]], u'other': [u'amod', u'order', u'JJ', []], u'examination': [u'compound', u'provide', u'NN', [cross, -]], u'answer': [u'conj', u'swear', u'NN', [questions]], u'be': [u'ccomp', u'said', u'VB', [different]], u'affidavits': [u'dobj', u'swear', u'NNS', []], u'during': [u'prep', u'made', u'IN', [trial, trial]], u'made': [u'advcl', u'said', u'VBN', [whether, during, ,, requiring]], u'whether': [u'mark', u'made', u'IN', []], u'of': [u'prep', u'order', u'IN', [court]], u'documentation': [u'pobj', u'in', u'NN', [provide]], u'trial': [u'pobj', u'during', u'NN', []], u'swear': [u'ccomp', u'requiring', u'VBP', [parties, affidavits, ,, answer]], u'principle': [u'pobj', u'in', u'NN', []], u'were': [u'auxpass', u'said', u'VBD', []], u'interlocutory': [u'amod', u'order', u'JJ', []], u'order': [u'pobj', u'to', u'NN', [other, interlocutory, procedural, of]], u'procedural': [u'amod', u'order', u'JJ', []]}\n"
     ]
    }
   ],
   "source": [
    "print dict_conv(unicode(s1,\"utf-8\"))"
   ]
  },
  {
   "cell_type": "code",
   "execution_count": 23,
   "metadata": {},
   "outputs": [
    {
     "data": {
      "text/plain": [
       "{u'-': [u'punct', u'examination', u'HYPH', []],\n",
       " u'affidavits': [u'nsubj', u'answer', u'NNS', []],\n",
       " u'answer': [u'ccomp', u'swear', u'NN', [affidavits, documentation]],\n",
       " u'court': [u'dobj',\n",
       "  u'said',\n",
       "  u'NN',\n",
       "  [different, principle, interlocutory, order]],\n",
       " u'cross': [u'compound', u'examination', u'NN', []],\n",
       " u'different': [u'amod', u'court', u'JJ', []],\n",
       " u'documentation': [u'dobj', u'answer', u'NN', [provide]],\n",
       " u'examination': [u'compound', u'provide', u'NN', [cross, -]],\n",
       " u'interlocutory': [u'amod', u'court', u'JJ', []],\n",
       " u'made': [u'advcl', u'said', u'VBD', [whether, trial]],\n",
       " u'obligations': [u'nsubj', u'said', u'NNS', []],\n",
       " u'order': [u'compound', u'court', u'NN', [procedural]],\n",
       " u'parties': [u'dobj', u'requiring', u'NNS', []],\n",
       " u'pre': [u'nmod', u'-', u'AFX', []],\n",
       " u'principle': [u'amod', u'court', u'JJ', []],\n",
       " u'procedural': [u'amod', u'order', u'JJ', []],\n",
       " u'provide': [u'compound', u'documentation', u'NN', [questions, examination]],\n",
       " u'questions': [u'compound', u'provide', u'NNS', []],\n",
       " u'requiring': [u'acl', u'trial', u'VBG', [parties, swear]],\n",
       " u'said': [u'ROOT', u'said', u'VBD', [obligations, court, made]],\n",
       " u'swear': [u'ccomp', u'requiring', u'VBP', [answer]],\n",
       " u'trial': [u'dobj', u'made', u'NN', [trial, requiring]],\n",
       " u'whether': [u'mark', u'made', u'IN', []]}"
      ]
     },
     "execution_count": 23,
     "metadata": {},
     "output_type": "execute_result"
    }
   ],
   "source": [
    "from nltk.corpus import stopwords\n",
    "stopwords=stopwords.words('english')\n",
    "sop=\" \".join([i for i in s1.split() if i.lower() not in stopwords])\n",
    "#print sop\n",
    "dict_conv(unicode(sop,\"utf-8\"))"
   ]
  },
  {
   "cell_type": "code",
   "execution_count": 30,
   "metadata": {},
   "outputs": [
    {
     "name": "stdout",
     "output_type": "stream",
     "text": [
      "this DET\n",
      "is VERB\n",
      "a DET\n",
      "doctor NOUN\n",
      ", PUNCT\n",
      "tent NOUN\n",
      "- PUNCT\n",
      "tative ADJ\n",
      "from ADP\n",
      "US PROPN\n",
      "in ADP\n",
      "( PUNCT\n",
      "1990 NUM\n",
      ") PUNCT\n",
      ". PUNCT\n"
     ]
    },
    {
     "data": {
      "text/plain": [
       "u'doctor tent tative US 1990'"
      ]
     },
     "execution_count": 30,
     "metadata": {},
     "output_type": "execute_result"
    }
   ],
   "source": [
    "dd=nlp(u\"this is a doctor,tent-tative from US in (1990).\")\n",
    "for df in dd:\n",
    "    print df.text,df.pos_\n",
    "remove_stop_punct(u\"this is a doctor,tent-tative from US in (1990).\")"
   ]
  },
  {
   "cell_type": "code",
   "execution_count": 31,
   "metadata": {
    "collapsed": true
   },
   "outputs": [
    {
     "data": {
      "text/plain": [
       "['Mr Robinson and Mr Lowth relied upon the views formed by Mr Bradley and Mr Ong about whether the Agreement applied to work carried out on the X50 work site.\\n',\n",
       " 'On 27 February 2009, Herbert Geer sent a lengthy letter to the CFMEU, AMWU and CEPU setting out in 20 pages a detailed analysis of the view that work undertaken by John Holland employees at the X50 work site is covered by the Agreement.\\n',\n",
       " 'Dr Awerbuch was of the view that there was not.\\n',\n",
       " 'I am also of the view that the subjective views of the Tribunal prior to the hearing as to defects, lack of detail or lack of specificity in evidence in the appellant\\'s case do not constitute \"information\" within the meaning of s 424A(1) which needed to be communicated in writing to the appellant: VAF v Minister for Immigration and Multicultural and Indigenous Affairs [2004] FCAFC 123 at [24] , cf Minister for Immigration and Citizenship v SZLFX [2009] HCA 31.\\n',\n",
       " 'In no sense does this proceeding engage the merits of any aspect of the views expressed in the Investigation Report.\\n',\n",
       " \"15 In light of the above, I am of the view that the respondents cannot plead that the applicant's loss or damage can be reduced having regard to the applicant's own failure to take reasonable care in the manner pleaded by the respondents.\\n\",\n",
       " '32 However, even if Pt IVAA applies to these proceedings according to its own terms, I am of the view that Pt IVAA is not picked up by s 79 of the Judiciary Act because the Commonwealth Legislation \"otherwise provides\".\\n',\n",
       " \"However, from having seen her this morning I am of the view that if oral submissions can be given today, it would be to the appellant's benefit.\\n\",\n",
       " '38 I am of the view that interlocutory restraining orders against certain of these companies within the Australvic Group which are trading and which may have some property in their name should be made to prevent the disposal of such property and to protect the integrity of the financial records held.\\n',\n",
       " \" '88 On the basis of that evidence, I am of the view that there is a foundation beyond mere assertion upon which the applicants can base a potential claim that, in referring in its press releases to the proposed power station as having a 300MW to 330MW of baseload generating capacity, the respondent, thereby, represented that it 'would only consider tenders that provided for a generated capacity of at least 300 megawatts to 330 megawatts constantly provided on that sent-out basis'.\\n\",\n",
       " ' 53 For the above reasons, I am of the view that ERC has not established that the decision to make the order for preliminary discovery is attended with sufficient doubt to warrant it being reconsidered by the Full Court.\\n',\n",
       " 'The 1964 Act, like the similar Australian legislation, largely incorporates into municipal law the terms of the Vienna Convention on Diplomatic Relations 1961.\\n',\n",
       " 'Both the Diplomatic Immunities Act and the UK Diplomatic Privileges Act effectively adopt relevant provisions of the Vienna Convention on Diplomatic Relations (the \"Vienna Convention\"), particularly articles 1, 22-24 inclusive and 27-40 inclusive, giving them legal effect.\\n',\n",
       " '20 In relation to Requests 3(b) and 3(c), although compelling arguments have been submitted from both parties, I am of the view that the Respondent is entitled to further and better particulars as sought.\\n',\n",
       " '52 Based on this response from the applicant the second respondent considered that the applicant was of the view that he had put forward all relevant information and that he did not want to speak to the second respondent.\\n',\n",
       " \" This may assist in the resolution of this matter and we are therefore of the view that Monday's hearing should be adjourned to enable this to take place.\\n\",\n",
       " \"I am of the view that it is implausible that the applicant's employer, the Hotel Ternopol, would not have taken some steps to curb such behaviour of persons banging on windows and doors of the premises and writing on the windows.\\n\",\n",
       " \"The delegate's decision to reject the appellant's claim was based solely upon the view he took of s 91R(2).\\n\",\n",
       " \"I the applicant is of the view that there is no basis of fact for the conclusions and decisions and spin set out by Justice Besenko on Monday 16/10/06 in 2 nd page 'THE COURT ORDER THAT'\\n\",\n",
       " \" '196B(3) If the Authority is of the view that on the sound medical-scientific evidence available it is more probable than not that a particular kind of .\\n\",\n",
       " ' On the sound medical-scientific evidence available, the Repatriation Medical Authority is of the view that it is more probable than not that malignant neoplasm of the lung and death from malignant neoplasm of the lung can be related to relevant service rendered by veterans .\\n',\n",
       " \"39 Lord Brandon was of the view that the wider construction was to be preferred and the first contention argued for by Mr Saville QC should be rejected because (a) the words were the implementation of an international convention and should, in general, be given a broad and liberal construction; (b) the text and structure of the words in Article 1 of the 1952 Convention in introducing all the listed maritime claims tended to a broad construction; (c) the rearrangement of the words from Article 1 to those in s 20(2) was not to be taken as intending a narrowing of the meaning found in the 1952 Convention; and (d) the existing English authorities, The 'St Elefterio' [1957] P 179 and the The 'Sennar' [1981] 1 Lloyd's Rep 295, supported the capacity to bring a claim in tort under the antecedent to s 20(2)(h).\\n\",\n",
       " '5 Wilcox J dismissed the application, being of the view that there was no matter appropriate for inquiry.\\n',\n",
       " '11 In relation to future harm based on the circumstances in Indonesia, the Tribunal was of the view that the prospects of renewed violence and other persecutory harm were remote.\\n',\n",
       " '15 In relation to the first ground, the Federal Magistrate noted that the Tribunal did put some independent country information to the appellant, but was of the view that the independent country information came under the exception in s 424A(3)(a) of the Act and that s 422B of the Act applied in this matter.\\n',\n",
       " \"However, the material in the Commissioner's reasons for the assessment of the administrative penalties indicate that Amex Wholesale was aware of the view taken by the Commissioner as to the appropriate treatment of the Fee Payments.\\n\",\n",
       " \" 'As I have already noted, I would, as a matter of comity, follow the decision of Kiefel J in Essenbourne unless the case was either distinguishable or I was of the view that the decision was clearly wrong.\\n\",\n",
       " 'Further, far from being of the view that her Honour was clearly wrong, I am of the view that her Honour was clearly right.\\n',\n",
       " 'Although TS&B had failed, Trollope was of the view that the business could operate profitably provided it was conducted in a different manner.\\n',\n",
       " \"Despite his denials, I am of the view that D'Mello knew Oakes had taken the data from TS&B and used it to create 3Fold's database.\\n\",\n",
       " 'I am of the view, however, that if Ms Bell does not pay the fine after having been allowed a substantial opportunity to acquire the money, I should impose a sentence of imprisonment in default of payment.\\n',\n",
       " '61 As to other orders, I am of the view that I should exercise the powers given to the Court by O 35A of the Federal Court Rules , and terminate the proceeding as against Ms Bell, by giving judgment against her.\\n',\n",
       " 'As to the quantification of the amount to be paid, I am of the view that I can act on the admission made in the defence that the bankrupt and Ms Bell were registered proprietors of the Neerim Road property as joint tenants, to conclude that the interest of each is to be valued as a half-interest.\\n',\n",
       " '67 Before the orders for judgment against Ms Bell, a fine and imprisonment in default of payment of the fine take effect, I am of the view that I should give Ms Bell one further opportunity to purge her contempt.\\n',\n",
       " 'It may be accepted that from 10 November 2003 onwards, Alfred was of the view that proceedings were more likely than not.\\n',\n",
       " 'Lord Edmund-Davies in Waugh, in adopting the test propounded by Barwick CJ, was of the view that the element of clear paramountcy should be the touchstone.\\n',\n",
       " 'The relief is premised upon the view that s 8WB(1) of the Taxation Administration Act 1953 (Cth) prevents the Registrar from exercising powers under ss 16C(1) of the Registration Act [a reference to the Collection Act] or s 150D(1) of the Assessment Act to require the Commissioner of Taxation to provide the Registrar with information about people, including their tax file numbers, unless and until the person or persons concerned have first provided statements under ss 16B(4) or (5) and 150C(2) or (3) of those respective Acts.\\n',\n",
       " 'His Honour found that it was clear that the Tribunal had considered all of the claims made by the appellant, who was unsuccessful before the Tribunal because of the view that the Tribunal took of his credibility.\\n',\n",
       " 'He said that in the circumstances, the administrators were of the view that holding the meeting at that time would have no utility.\\n',\n",
       " 'But in this case where the administrators are of the view that the company will be able to meet post-appointment cash flow, in effect, obtaining the benefit of the moratorium period provided for in Pt 5.\\n',\n",
       " 'She clearly firmly believed in the reliability of the views she had expressed, and was anxious to persuade as to their accuracy.\\n',\n",
       " 'Despite this, I am of the view that it can be inferred that Larrakia people made up at least some part of the number of Aboriginal people who attended the mission.\\n',\n",
       " \"127 It was apparent from Worimi's evidence in cross-examination that he is of the view that he has been badly treated by the Maaiangal people, who say that they own the Land.\\n\",\n",
       " \"Further, his Honour was of the view that the Tribunal had applied the correct criteria in determining whether the applicant was a 'special need relative' of the nominator, and had embarked upon its fact-finding mission in a manner consistent with the law (decision of McInnis FM, par 25).\\n\",\n",
       " '22 In Narayan , the Full Court was of the view that the opening paragraph in the definition and par (a) should read purposively and as a whole.\\n',\n",
       " 'Further, I am of the view that this is not vexatious litigation.\\n',\n",
       " '25 For the above reasons, I granted leave, being of the view that both of the tests set out in Decor Corporation Pty Ltd v Dart Industries Inc (1991) 33 FCR had application in the circumstances of the present matter.\\n',\n",
       " 'I am of the view that this paragraph also raises a question of law.\\n',\n",
       " 'The fact that I am presently of the view that there is a difficulty in accepting such arguments, does not mean that my discretion should by exercised against an extension of time; on the contrary, for the foregoing reasons, time should be extended to the extent indicated in the orders I propose to make.\\n',\n",
       " '11 Mr Vouris is of the view that the amalgamation meeting could be held on 13 June 2008 or possibly at an earlier date.\\n',\n",
       " '468 Professor Sutton recognises that Tindale, in particular, was a strong proponent of the view that Western Desert society was divided into small groups (clans) founded on patrilineal descent.\\n',\n",
       " \"477 Professor Sutton's rejection of the view that the eastern Western Desert was subdivided into land-holding descent-based groups is at odds not only with Tindale's views, but with the opinions expressed by other anthropologists who worked closely with Western Desert people.\\n\"]"
      ]
     },
     "execution_count": 31,
     "metadata": {},
     "output_type": "execute_result"
    }
   ],
   "source": []
  }
 ],
 "metadata": {
  "kernelspec": {
   "display_name": "Python 3",
   "language": "python",
   "name": "python3"
  },
  "language_info": {
   "codemirror_mode": {
    "name": "ipython",
    "version": 3
   },
   "file_extension": ".py",
   "mimetype": "text/x-python",
   "name": "python",
   "nbconvert_exporter": "python",
   "pygments_lexer": "ipython3",
   "version": "3.6.5"
  }
 },
 "nbformat": 4,
 "nbformat_minor": 1
}
