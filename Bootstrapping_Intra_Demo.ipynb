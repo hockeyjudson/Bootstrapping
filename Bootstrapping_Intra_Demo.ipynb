{
 "cells": [
  {
   "cell_type": "markdown",
   "metadata": {},
   "source": [
    "# All these execution are consider as sample execution.\n",
    "## This a implemaentation of intra sentence level bootstrapping technique.\n",
    "## For further clarity please refer pattern_extract module"
   ]
  },
  {
   "cell_type": "code",
   "execution_count": 1,
   "metadata": {},
   "outputs": [],
   "source": [
    "#import package pattern_extract\n",
    "import pattern_extract as pe"
   ]
  },
  {
   "cell_type": "markdown",
   "metadata": {},
   "source": [
    "# Reading seed dataset from the class decision"
   ]
  },
  {
   "cell_type": "code",
   "execution_count": 2,
   "metadata": {
    "collapsed": true
   },
   "outputs": [
    {
     "data": {
      "text/plain": [
       "['The applicant submitted that until an order of the court was relevantly made, if otherwise permissible, declaring the CDS Collective Agreement to be void under s 409(a) , it was taken to be in force.\\n',\n",
       " '12 In view of my conclusions, the order of the Court will be that the application is dismissed with costs and the name of the first respondent will be changed to the Minister for Immigration and Citizenship.\\n',\n",
       " 'In the event of liberty to apply under Order 3 not being availed of in the time permitted, the Court will make no order for compensation.\\n',\n",
       " 'I certify that the preceding eighteen (18) numbered paragraphs are a true copy of the Reasons for Judgment herein of the Honourable Justice Marshall.\\n',\n",
       " '\\'I can very well see that on the particular facts of many cases --- perhaps most cases --- the court might not consider it \"just and convenient\" to order the cross-examination of a defendant who has filed an affidavit in purported compliance with a Mareva order, in a case where the plaintiff has not yet seen fit to issue a motion for contempt and is not seeking an order for the swearing of a second affidavit by the defendant concerned.\\n',\n",
       " 'Lord Justice Slade made those remarks in the course of overruling the decision of Scott J at first instance, which decision had been to the effect that a court did not have the power under s 37 of the Supreme Court Act 1981 (UK) to make an order requiring cross-examination ancillary to compliance with a Mareva order, in the absence of circumstances whereby a justiciable issue is before the Court in respect of which the evidence of the deponent is relevant to the resolution thereof, for instance where the deponent of the disclosure affidavit was the subject of a contempt motion.\\n',\n",
       " \"'The tribunal affirms the decision under review in relation to the inclusion of the sum of $1,228,500 in the applicant's assessable income for the year ended 30 June 1988, but in relation to penalty remits the matter to the respondent with the direction that the assessment for that income year be amended by remitting additional tax in full.\\n\",\n",
       " 'In that sense, the Tribunal exercised the discretion for the purpose of reviewing the objection decision and any argument that it did not must be rejected.\\n',\n",
       " '24 For the foregoing reasons, the appeal must be dismissed with costs.\\n',\n",
       " 'In this case, there was no obligation upon the R R T to provide the Applicant with a transcript of the information provided to the R R T by George Ddungu.\\n',\n",
       " 'A consideration of the letter dated 27 February 2004 [32] demonstrates that the R R T conveyed the information the Tribunal then considered would be the reason or a part of the reason for affirming the decision under review, to the Applicant in clear and precise terms.\\n',\n",
       " 'Plainly enough, the Applicant understood the content of the letter and responded comprehensively [33].\\n',\n",
       " '102 Accordingly, the application must be dismissed.\\n',\n",
       " \"18 It is preferable to allow sufficient time to elapse to permit the parties' agreement to take effect.\\n\",\n",
       " 'I will place the onus on the Union to re-agitate this issue within 28 days of these reasons for judgment, failing which there will be no order made under s 298U(c) concerning compensation and the file will be closed.\\n']"
      ]
     },
     "execution_count": 2,
     "metadata": {},
     "output_type": "execute_result"
    }
   ],
   "source": [
    "\n",
    "f=open(\"/home/judson/Desktop/sentenceSeg/SecondPhase/SeedLabel/decision.txt\").readlines()\n",
    "f"
   ]
  },
  {
   "cell_type": "markdown",
   "metadata": {},
   "source": [
    "# extracting patterns from sentences with window size - 6"
   ]
  },
  {
   "cell_type": "code",
   "execution_count": 3,
   "metadata": {
    "collapsed": true
   },
   "outputs": [
    {
     "name": "stdout",
     "output_type": "stream",
     "text": [
      "dict_values([[['nsubj', 'ccomp', 'nsubjpass', 'pobj', 'advmod', 'ccomp'], ['ccomp', 'nsubjpass', 'pobj', 'advmod', 'ccomp', 'advmod'], ['nsubjpass', 'pobj', 'advmod', 'ccomp', 'advmod', 'advcl'], ['pobj', 'advmod', 'ccomp', 'advmod', 'advcl', 'advcl'], ['advmod', 'ccomp', 'advmod', 'advcl', 'advcl', 'compound'], ['ccomp', 'advmod', 'advcl', 'advcl', 'compound', 'compound'], ['advmod', 'advcl', 'advcl', 'compound', 'compound', 'nsubjpass'], ['advcl', 'advcl', 'compound', 'compound', 'nsubjpass', 'ccomp'], ['advcl', 'compound', 'compound', 'nsubjpass', 'ccomp', 'dobj'], ['compound', 'compound', 'nsubjpass', 'ccomp', 'dobj', 'ROOT'], ['compound', 'nsubjpass', 'ccomp', 'dobj', 'ROOT', 'pobj']], [['ROOT', 'pobj', 'pobj', 'nsubj', 'pobj', 'nsubjpass'], ['pobj', 'pobj', 'nsubj', 'pobj', 'nsubjpass', 'ccomp'], ['pobj', 'nsubj', 'pobj', 'nsubjpass', 'ccomp', 'pobj'], ['nsubj', 'pobj', 'nsubjpass', 'ccomp', 'pobj', 'nsubjpass'], ['pobj', 'nsubjpass', 'ccomp', 'pobj', 'nsubjpass', 'amod'], ['nsubjpass', 'ccomp', 'pobj', 'nsubjpass', 'amod', 'pobj'], ['ccomp', 'pobj', 'nsubjpass', 'amod', 'pobj', 'conj'], ['pobj', 'nsubjpass', 'amod', 'pobj', 'conj', 'pobj'], ['nsubjpass', 'amod', 'pobj', 'conj', 'pobj', 'pobj'], ['amod', 'pobj', 'conj', 'pobj', 'pobj', 'conj']], [['pobj', 'pobj', 'advcl', 'pobj', 'nummod', 'advcl'], ['pobj', 'advcl', 'pobj', 'nummod', 'advcl', 'pobj'], ['advcl', 'pobj', 'nummod', 'advcl', 'pobj', 'acl'], ['pobj', 'nummod', 'advcl', 'pobj', 'acl', 'nsubj'], ['nummod', 'advcl', 'pobj', 'acl', 'nsubj', 'ROOT'], ['advcl', 'pobj', 'acl', 'nsubj', 'ROOT', 'dobj'], ['pobj', 'acl', 'nsubj', 'ROOT', 'dobj', 'pobj']], [['ROOT', 'amod', 'nummod', 'nummod', 'amod', 'nsubj'], ['amod', 'nummod', 'nummod', 'amod', 'nsubj', 'amod'], ['nummod', 'nummod', 'amod', 'nsubj', 'amod', 'attr'], ['nummod', 'amod', 'nsubj', 'amod', 'attr', 'pobj'], ['amod', 'nsubj', 'amod', 'attr', 'pobj', 'compound'], ['nsubj', 'amod', 'attr', 'pobj', 'compound', 'pobj'], ['amod', 'attr', 'pobj', 'compound', 'pobj', 'amod'], ['attr', 'pobj', 'compound', 'pobj', 'amod', 'compound'], ['pobj', 'compound', 'pobj', 'amod', 'compound', 'pobj']], [['advmod', 'ROOT', 'amod', 'pobj', 'amod', 'pobj'], ['ROOT', 'amod', 'pobj', 'amod', 'pobj', 'advmod'], ['amod', 'pobj', 'amod', 'pobj', 'advmod', 'pobj'], ['pobj', 'amod', 'pobj', 'advmod', 'pobj', 'nsubj'], ['amod', 'pobj', 'advmod', 'pobj', 'nsubj', 'aux'], ['pobj', 'advmod', 'pobj', 'nsubj', 'aux', 'ccomp'], ['advmod', 'pobj', 'nsubj', 'aux', 'ccomp', 'ccomp'], ['pobj', 'nsubj', 'aux', 'ccomp', 'ccomp', 'advcl'], ['nsubj', 'aux', 'ccomp', 'ccomp', 'advcl', 'compound'], ['aux', 'ccomp', 'ccomp', 'advcl', 'compound', 'dobj'], ['ccomp', 'ccomp', 'advcl', 'compound', 'dobj', 'pobj'], ['ccomp', 'advcl', 'compound', 'dobj', 'pobj', 'relcl'], ['advcl', 'compound', 'dobj', 'pobj', 'relcl', 'dobj'], ['compound', 'dobj', 'pobj', 'relcl', 'dobj', 'amod'], ['dobj', 'pobj', 'relcl', 'dobj', 'amod', 'pobj'], ['pobj', 'relcl', 'dobj', 'amod', 'pobj', 'compound'], ['relcl', 'dobj', 'amod', 'pobj', 'compound', 'pobj'], ['dobj', 'amod', 'pobj', 'compound', 'pobj', 'pobj'], ['amod', 'pobj', 'compound', 'pobj', 'pobj', 'nsubj'], ['pobj', 'compound', 'pobj', 'pobj', 'nsubj', 'advmod'], ['compound', 'pobj', 'pobj', 'nsubj', 'advmod', 'relcl'], ['pobj', 'pobj', 'nsubj', 'advmod', 'relcl', 'ccomp'], ['pobj', 'nsubj', 'advmod', 'relcl', 'ccomp', 'advcl'], ['nsubj', 'advmod', 'relcl', 'ccomp', 'advcl', 'dobj'], ['advmod', 'relcl', 'ccomp', 'advcl', 'dobj', 'pobj'], ['relcl', 'ccomp', 'advcl', 'dobj', 'pobj', 'conj'], ['ccomp', 'advcl', 'dobj', 'pobj', 'conj', 'dobj'], ['advcl', 'dobj', 'pobj', 'conj', 'dobj', 'pobj'], ['dobj', 'pobj', 'conj', 'dobj', 'pobj', 'amod'], ['pobj', 'conj', 'dobj', 'pobj', 'amod', 'pobj'], ['conj', 'dobj', 'pobj', 'amod', 'pobj', 'pobj'], ['dobj', 'pobj', 'amod', 'pobj', 'pobj', 'acl']], [['compound', 'compound', 'nsubj', 'ROOT', 'dobj', 'pobj'], ['compound', 'nsubj', 'ROOT', 'dobj', 'pobj', 'pcomp'], ['nsubj', 'ROOT', 'dobj', 'pobj', 'pcomp', 'dobj'], ['ROOT', 'dobj', 'pobj', 'pcomp', 'dobj', 'compound'], ['dobj', 'pobj', 'pcomp', 'dobj', 'compound', 'pobj'], ['pobj', 'pcomp', 'dobj', 'compound', 'pobj', 'amod'], ['pcomp', 'dobj', 'compound', 'pobj', 'amod', 'pobj'], ['dobj', 'compound', 'pobj', 'amod', 'pobj', 'nsubj'], ['compound', 'pobj', 'amod', 'pobj', 'nsubj', 'pobj'], ['pobj', 'amod', 'pobj', 'nsubj', 'pobj', 'nsubj'], ['amod', 'pobj', 'nsubj', 'pobj', 'nsubj', 'dobj'], ['pobj', 'nsubj', 'pobj', 'nsubj', 'dobj', 'pobj'], ['nsubj', 'pobj', 'nsubj', 'dobj', 'pobj', 'compound'], ['pobj', 'nsubj', 'dobj', 'pobj', 'compound', 'compound'], ['nsubj', 'dobj', 'pobj', 'compound', 'compound', 'pobj'], ['dobj', 'pobj', 'compound', 'compound', 'pobj', 'nummod'], ['pobj', 'compound', 'compound', 'pobj', 'nummod', 'appos'], ['compound', 'compound', 'pobj', 'nummod', 'appos', 'acl'], ['compound', 'pobj', 'nummod', 'appos', 'acl', 'dobj'], ['pobj', 'nummod', 'appos', 'acl', 'dobj', 'acl'], ['nummod', 'appos', 'acl', 'dobj', 'acl', 'compound'], ['appos', 'acl', 'dobj', 'acl', 'compound', 'punct'], ['acl', 'dobj', 'acl', 'compound', 'punct', 'dobj'], ['dobj', 'acl', 'compound', 'punct', 'dobj', 'xcomp'], ['acl', 'compound', 'punct', 'dobj', 'xcomp', 'compound'], ['compound', 'punct', 'dobj', 'xcomp', 'compound', 'pobj'], ['punct', 'dobj', 'xcomp', 'compound', 'pobj', 'pobj'], ['dobj', 'xcomp', 'compound', 'pobj', 'pobj', 'pobj'], ['xcomp', 'compound', 'pobj', 'pobj', 'pobj', 'advmod'], ['compound', 'pobj', 'pobj', 'pobj', 'advmod', 'amod'], ['pobj', 'pobj', 'pobj', 'advmod', 'amod', 'nsubj'], ['pobj', 'pobj', 'advmod', 'amod', 'nsubj', 'pobj'], ['pobj', 'advmod', 'amod', 'nsubj', 'pobj', 'pobj'], ['advmod', 'amod', 'nsubj', 'pobj', 'pobj', 'nsubj'], ['amod', 'nsubj', 'pobj', 'pobj', 'nsubj', 'pobj'], ['nsubj', 'pobj', 'pobj', 'nsubj', 'pobj', 'acomp'], ['pobj', 'pobj', 'nsubj', 'pobj', 'acomp', 'pobj'], ['pobj', 'nsubj', 'pobj', 'acomp', 'pobj', 'advmod'], ['nsubj', 'pobj', 'acomp', 'pobj', 'advmod', 'pobj'], ['pobj', 'acomp', 'pobj', 'advmod', 'pobj', 'nsubj'], ['acomp', 'pobj', 'advmod', 'pobj', 'nsubj', 'compound'], ['pobj', 'advmod', 'pobj', 'nsubj', 'compound', 'pobj'], ['advmod', 'pobj', 'nsubj', 'compound', 'pobj', 'attr'], ['pobj', 'nsubj', 'compound', 'pobj', 'attr', 'compound'], ['nsubj', 'compound', 'pobj', 'attr', 'compound', 'pobj']], [['nsubj', 'ROOT', 'dobj', 'pobj', 'pobj', 'pobj'], ['ROOT', 'dobj', 'pobj', 'pobj', 'pobj', 'pobj'], ['dobj', 'pobj', 'pobj', 'pobj', 'pobj', 'nmod'], ['pobj', 'pobj', 'pobj', 'pobj', 'nmod', 'pobj'], ['pobj', 'pobj', 'pobj', 'nmod', 'pobj', 'poss'], ['pobj', 'pobj', 'nmod', 'pobj', 'poss', 'case'], ['pobj', 'nmod', 'pobj', 'poss', 'case', 'amod'], ['nmod', 'pobj', 'poss', 'case', 'amod', 'pobj'], ['pobj', 'poss', 'case', 'amod', 'pobj', 'pobj'], ['poss', 'case', 'amod', 'pobj', 'pobj', 'acl'], ['case', 'amod', 'pobj', 'pobj', 'acl', 'nummod'], ['amod', 'pobj', 'pobj', 'acl', 'nummod', 'npadvmod'], ['pobj', 'pobj', 'acl', 'nummod', 'npadvmod', 'nummod'], ['pobj', 'acl', 'nummod', 'npadvmod', 'nummod', 'pobj'], ['acl', 'nummod', 'npadvmod', 'nummod', 'pobj', 'pobj'], ['nummod', 'npadvmod', 'nummod', 'pobj', 'pobj', 'conj'], ['npadvmod', 'nummod', 'pobj', 'pobj', 'conj', 'dobj'], ['nummod', 'pobj', 'pobj', 'conj', 'dobj', 'pobj'], ['pobj', 'pobj', 'conj', 'dobj', 'pobj', 'pobj'], ['pobj', 'conj', 'dobj', 'pobj', 'pobj', 'nsubjpass'], ['conj', 'dobj', 'pobj', 'pobj', 'nsubjpass', 'compound'], ['dobj', 'pobj', 'pobj', 'nsubjpass', 'compound', 'pobj'], ['pobj', 'pobj', 'nsubjpass', 'compound', 'pobj', 'ccomp'], ['pobj', 'nsubjpass', 'compound', 'pobj', 'ccomp', 'pcomp'], ['nsubjpass', 'compound', 'pobj', 'ccomp', 'pcomp', 'amod'], ['compound', 'pobj', 'ccomp', 'pcomp', 'amod', 'dobj'], ['pobj', 'ccomp', 'pcomp', 'amod', 'dobj', 'amod']], [['pobj', 'nsubj', 'ROOT', 'dobj', 'pobj', 'pcomp'], ['nsubj', 'ROOT', 'dobj', 'pobj', 'pcomp', 'compound'], ['ROOT', 'dobj', 'pobj', 'pcomp', 'compound', 'dobj'], ['dobj', 'pobj', 'pcomp', 'compound', 'dobj', 'conj'], ['pobj', 'pcomp', 'compound', 'dobj', 'conj', 'aux'], ['pcomp', 'compound', 'dobj', 'conj', 'aux', 'acl']], [['npadvmod', 'compound', 'pobj', 'nsubjpass', 'aux', 'ROOT'], ['compound', 'pobj', 'nsubjpass', 'aux', 'ROOT', 'pobj']], [['pobj', 'attr', 'prep', 'compound', 'compound', 'acl'], ['attr', 'prep', 'compound', 'compound', 'acl', 'dobj'], ['prep', 'compound', 'compound', 'acl', 'dobj', 'pobj'], ['compound', 'compound', 'acl', 'dobj', 'pobj', 'pobj'], ['compound', 'acl', 'dobj', 'pobj', 'pobj', 'acl'], ['acl', 'dobj', 'pobj', 'pobj', 'acl', 'compound'], ['dobj', 'pobj', 'pobj', 'acl', 'compound', 'compound'], ['pobj', 'pobj', 'acl', 'compound', 'compound', 'compound'], ['pobj', 'acl', 'compound', 'compound', 'compound', 'pobj']], [['nsubj', 'pobj', 'acl', 'nummod', 'npadvmod', 'nummod'], ['pobj', 'acl', 'nummod', 'npadvmod', 'nummod', 'appos'], ['acl', 'nummod', 'npadvmod', 'nummod', 'appos', 'ROOT'], ['nummod', 'npadvmod', 'nummod', 'appos', 'ROOT', 'compound'], ['npadvmod', 'nummod', 'appos', 'ROOT', 'compound', 'compound'], ['nummod', 'appos', 'ROOT', 'compound', 'compound', 'ccomp'], ['appos', 'ROOT', 'compound', 'compound', 'ccomp', 'dobj'], ['ROOT', 'compound', 'compound', 'ccomp', 'dobj', 'nsubj'], ['compound', 'compound', 'ccomp', 'dobj', 'nsubj', 'relcl'], ['compound', 'ccomp', 'dobj', 'nsubj', 'relcl', 'aux'], ['ccomp', 'dobj', 'nsubj', 'relcl', 'aux', 'attr'], ['dobj', 'nsubj', 'relcl', 'aux', 'attr', 'conj'], ['nsubj', 'relcl', 'aux', 'attr', 'conj', 'pobj'], ['relcl', 'aux', 'attr', 'conj', 'pobj', 'pcomp'], ['aux', 'attr', 'conj', 'pobj', 'pcomp', 'dobj'], ['attr', 'conj', 'pobj', 'pcomp', 'dobj', 'pobj'], ['conj', 'pobj', 'pcomp', 'dobj', 'pobj', 'pobj'], ['pobj', 'pcomp', 'dobj', 'pobj', 'pobj', 'amod'], ['pcomp', 'dobj', 'pobj', 'pobj', 'amod', 'conj'], ['dobj', 'pobj', 'pobj', 'amod', 'conj', 'pobj']], [['advmod', 'advmod', 'nsubj', 'ROOT', 'dobj', 'pobj'], ['advmod', 'nsubj', 'ROOT', 'dobj', 'pobj', 'conj'], ['nsubj', 'ROOT', 'dobj', 'pobj', 'conj', 'advmod'], ['ROOT', 'dobj', 'pobj', 'conj', 'advmod', 'dobj']], [], [['nummod', 'acomp', 'xcomp', 'amod', 'dobj', 'relcl'], ['acomp', 'xcomp', 'amod', 'dobj', 'relcl', 'advcl'], ['xcomp', 'amod', 'dobj', 'relcl', 'advcl', 'poss'], ['amod', 'dobj', 'relcl', 'advcl', 'poss', 'dobj'], ['dobj', 'relcl', 'advcl', 'poss', 'dobj', 'acl'], ['relcl', 'advcl', 'poss', 'dobj', 'acl', 'dobj']], [['ROOT', 'dobj', 'pobj', 'punct', 'npadvmod', 'prep'], ['dobj', 'pobj', 'punct', 'npadvmod', 'prep', 'nummod'], ['pobj', 'punct', 'npadvmod', 'prep', 'nummod', 'pobj'], ['punct', 'npadvmod', 'prep', 'nummod', 'pobj', 'pobj'], ['npadvmod', 'prep', 'nummod', 'pobj', 'pobj', 'pobj'], ['prep', 'nummod', 'pobj', 'pobj', 'pobj', 'advcl'], ['nummod', 'pobj', 'pobj', 'pobj', 'advcl', 'attr'], ['pobj', 'pobj', 'pobj', 'advcl', 'attr', 'acl'], ['pobj', 'pobj', 'advcl', 'attr', 'acl', 'pobj'], ['pobj', 'advcl', 'attr', 'acl', 'pobj', 'acl'], ['advcl', 'attr', 'acl', 'pobj', 'acl', 'dobj'], ['attr', 'acl', 'pobj', 'acl', 'dobj', 'conj'], ['acl', 'pobj', 'acl', 'dobj', 'conj', 'conj']]])\n"
     ]
    }
   ],
   "source": [
    "dep_pat=pe.pos_dep_Ngrams(f,6,1)[1].values()\n",
    "print(dep_pat)"
   ]
  },
  {
   "cell_type": "markdown",
   "metadata": {},
   "source": [
    "# getting unique patterns and their counts"
   ]
  },
  {
   "cell_type": "code",
   "execution_count": 4,
   "metadata": {
    "collapsed": true
   },
   "outputs": [
    {
     "name": "stdout",
     "output_type": "stream",
     "text": [
      "[[['acl', 'pobj', 'acl', 'dobj', 'conj', 'conj'], 1], [['relcl', 'ccomp', 'advcl', 'dobj', 'pobj', 'conj'], 1], [['ROOT', 'dobj', 'pobj', 'pcomp', 'dobj', 'compound'], 1], [['nsubj', 'ROOT', 'dobj', 'pobj', 'pcomp', 'dobj'], 1], [['compound', 'nsubj', 'ROOT', 'dobj', 'pobj', 'pcomp'], 1], [['compound', 'compound', 'nsubj', 'ROOT', 'dobj', 'pobj'], 1], [['dobj', 'pobj', 'amod', 'pobj', 'pobj', 'acl'], 1], [['conj', 'dobj', 'pobj', 'amod', 'pobj', 'pobj'], 1], [['pobj', 'conj', 'dobj', 'pobj', 'amod', 'pobj'], 1], [['dobj', 'pobj', 'conj', 'dobj', 'pobj', 'amod'], 1], [['advcl', 'dobj', 'pobj', 'conj', 'dobj', 'pobj'], 1], [['ccomp', 'advcl', 'dobj', 'pobj', 'conj', 'dobj'], 1], [['advmod', 'relcl', 'ccomp', 'advcl', 'dobj', 'pobj'], 1], [['pobj', 'pobj', 'pobj', 'advmod', 'amod', 'nsubj'], 1], [['nsubj', 'advmod', 'relcl', 'ccomp', 'advcl', 'dobj'], 1], [['pobj', 'nsubj', 'advmod', 'relcl', 'ccomp', 'advcl'], 1], [['pobj', 'pobj', 'nsubj', 'advmod', 'relcl', 'ccomp'], 1], [['compound', 'pobj', 'pobj', 'nsubj', 'advmod', 'relcl'], 1], [['pobj', 'compound', 'pobj', 'pobj', 'nsubj', 'advmod'], 1], [['amod', 'pobj', 'compound', 'pobj', 'pobj', 'nsubj'], 1], [['dobj', 'amod', 'pobj', 'compound', 'pobj', 'pobj'], 1], [['relcl', 'dobj', 'amod', 'pobj', 'compound', 'pobj'], 1], [['pobj', 'relcl', 'dobj', 'amod', 'pobj', 'compound'], 1], [['dobj', 'pobj', 'relcl', 'dobj', 'amod', 'pobj'], 1], [['dobj', 'pobj', 'pcomp', 'dobj', 'compound', 'pobj'], 1], [['pobj', 'pcomp', 'dobj', 'compound', 'pobj', 'amod'], 1], [['pcomp', 'dobj', 'compound', 'pobj', 'amod', 'pobj'], 1], [['dobj', 'compound', 'pobj', 'amod', 'pobj', 'nsubj'], 1], [['xcomp', 'compound', 'pobj', 'pobj', 'pobj', 'advmod'], 1], [['dobj', 'xcomp', 'compound', 'pobj', 'pobj', 'pobj'], 1], [['punct', 'dobj', 'xcomp', 'compound', 'pobj', 'pobj'], 1], [['compound', 'punct', 'dobj', 'xcomp', 'compound', 'pobj'], 1], [['acl', 'compound', 'punct', 'dobj', 'xcomp', 'compound'], 1], [['dobj', 'acl', 'compound', 'punct', 'dobj', 'xcomp'], 1], [['acl', 'dobj', 'acl', 'compound', 'punct', 'dobj'], 1], [['appos', 'acl', 'dobj', 'acl', 'compound', 'punct'], 1], [['nummod', 'appos', 'acl', 'dobj', 'acl', 'compound'], 1], [['pobj', 'nummod', 'appos', 'acl', 'dobj', 'acl'], 1], [['compound', 'pobj', 'nummod', 'appos', 'acl', 'dobj'], 1], [['compound', 'compound', 'pobj', 'nummod', 'appos', 'acl'], 1], [['pobj', 'compound', 'compound', 'pobj', 'nummod', 'appos'], 1], [['dobj', 'pobj', 'compound', 'compound', 'pobj', 'nummod'], 1], [['nsubj', 'dobj', 'pobj', 'compound', 'compound', 'pobj'], 1], [['pobj', 'nsubj', 'dobj', 'pobj', 'compound', 'compound'], 1], [['nsubj', 'pobj', 'nsubj', 'dobj', 'pobj', 'compound'], 1], [['pobj', 'nsubj', 'pobj', 'nsubj', 'dobj', 'pobj'], 1], [['amod', 'pobj', 'nsubj', 'pobj', 'nsubj', 'dobj'], 1], [['pobj', 'amod', 'pobj', 'nsubj', 'pobj', 'nsubj'], 1], [['compound', 'pobj', 'amod', 'pobj', 'nsubj', 'pobj'], 1], [['compound', 'dobj', 'pobj', 'relcl', 'dobj', 'amod'], 1], [['advcl', 'compound', 'dobj', 'pobj', 'relcl', 'dobj'], 1], [['ccomp', 'advcl', 'compound', 'dobj', 'pobj', 'relcl'], 1], [['advcl', 'pobj', 'nummod', 'advcl', 'pobj', 'acl'], 1], [['pobj', 'pobj', 'advcl', 'pobj', 'nummod', 'advcl'], 1], [['amod', 'pobj', 'conj', 'pobj', 'pobj', 'conj'], 1], [['nsubjpass', 'amod', 'pobj', 'conj', 'pobj', 'pobj'], 1], [['pobj', 'nsubjpass', 'amod', 'pobj', 'conj', 'pobj'], 1], [['ccomp', 'pobj', 'nsubjpass', 'amod', 'pobj', 'conj'], 1], [['nsubjpass', 'ccomp', 'pobj', 'nsubjpass', 'amod', 'pobj'], 1], [['pobj', 'nsubjpass', 'ccomp', 'pobj', 'nsubjpass', 'amod'], 1], [['nsubj', 'pobj', 'nsubjpass', 'ccomp', 'pobj', 'nsubjpass'], 1], [['pobj', 'nsubj', 'pobj', 'nsubjpass', 'ccomp', 'pobj'], 1], [['pobj', 'pobj', 'nsubj', 'pobj', 'nsubjpass', 'ccomp'], 1], [['ROOT', 'pobj', 'pobj', 'nsubj', 'pobj', 'nsubjpass'], 1], [['compound', 'nsubjpass', 'ccomp', 'dobj', 'ROOT', 'pobj'], 1], [['compound', 'compound', 'nsubjpass', 'ccomp', 'dobj', 'ROOT'], 1], [['advcl', 'compound', 'compound', 'nsubjpass', 'ccomp', 'dobj'], 1], [['advcl', 'advcl', 'compound', 'compound', 'nsubjpass', 'ccomp'], 1], [['advmod', 'advcl', 'advcl', 'compound', 'compound', 'nsubjpass'], 1], [['ccomp', 'advmod', 'advcl', 'advcl', 'compound', 'compound'], 1], [['advmod', 'ccomp', 'advmod', 'advcl', 'advcl', 'compound'], 1], [['pobj', 'advmod', 'ccomp', 'advmod', 'advcl', 'advcl'], 1], [['nsubjpass', 'pobj', 'advmod', 'ccomp', 'advmod', 'advcl'], 1], [['ccomp', 'nsubjpass', 'pobj', 'advmod', 'ccomp', 'advmod'], 1], [['pobj', 'advcl', 'pobj', 'nummod', 'advcl', 'pobj'], 1], [['pobj', 'nummod', 'advcl', 'pobj', 'acl', 'nsubj'], 1], [['ccomp', 'ccomp', 'advcl', 'compound', 'dobj', 'pobj'], 1], [['nummod', 'advcl', 'pobj', 'acl', 'nsubj', 'ROOT'], 1], [['aux', 'ccomp', 'ccomp', 'advcl', 'compound', 'dobj'], 1], [['nsubj', 'aux', 'ccomp', 'ccomp', 'advcl', 'compound'], 1], [['pobj', 'nsubj', 'aux', 'ccomp', 'ccomp', 'advcl'], 1], [['advmod', 'pobj', 'nsubj', 'aux', 'ccomp', 'ccomp'], 1], [['pobj', 'advmod', 'pobj', 'nsubj', 'aux', 'ccomp'], 1], [['amod', 'pobj', 'advmod', 'pobj', 'nsubj', 'aux'], 1], [['pobj', 'amod', 'pobj', 'advmod', 'pobj', 'nsubj'], 1], [['amod', 'pobj', 'amod', 'pobj', 'advmod', 'pobj'], 1], [['ROOT', 'amod', 'pobj', 'amod', 'pobj', 'advmod'], 1], [['advmod', 'ROOT', 'amod', 'pobj', 'amod', 'pobj'], 1], [['pobj', 'compound', 'pobj', 'amod', 'compound', 'pobj'], 1], [['attr', 'pobj', 'compound', 'pobj', 'amod', 'compound'], 1], [['amod', 'attr', 'pobj', 'compound', 'pobj', 'amod'], 1], [['nsubj', 'amod', 'attr', 'pobj', 'compound', 'pobj'], 1], [['amod', 'nsubj', 'amod', 'attr', 'pobj', 'compound'], 1], [['nummod', 'amod', 'nsubj', 'amod', 'attr', 'pobj'], 1], [['nummod', 'nummod', 'amod', 'nsubj', 'amod', 'attr'], 1], [['amod', 'nummod', 'nummod', 'amod', 'nsubj', 'amod'], 1], [['ROOT', 'amod', 'nummod', 'nummod', 'amod', 'nsubj'], 1], [['pobj', 'acl', 'nsubj', 'ROOT', 'dobj', 'pobj'], 1], [['advcl', 'pobj', 'acl', 'nsubj', 'ROOT', 'dobj'], 1], [['compound', 'pobj', 'pobj', 'pobj', 'advmod', 'amod'], 1], [['pobj', 'pobj', 'advmod', 'amod', 'nsubj', 'pobj'], 1], [['attr', 'acl', 'pobj', 'acl', 'dobj', 'conj'], 1], [['nummod', 'appos', 'ROOT', 'compound', 'compound', 'ccomp'], 1], [['attr', 'conj', 'pobj', 'pcomp', 'dobj', 'pobj'], 1], [['aux', 'attr', 'conj', 'pobj', 'pcomp', 'dobj'], 1], [['relcl', 'aux', 'attr', 'conj', 'pobj', 'pcomp'], 1], [['nsubj', 'relcl', 'aux', 'attr', 'conj', 'pobj'], 1], [['dobj', 'nsubj', 'relcl', 'aux', 'attr', 'conj'], 1], [['ccomp', 'dobj', 'nsubj', 'relcl', 'aux', 'attr'], 1], [['compound', 'ccomp', 'dobj', 'nsubj', 'relcl', 'aux'], 1], [['compound', 'compound', 'ccomp', 'dobj', 'nsubj', 'relcl'], 1], [['ROOT', 'compound', 'compound', 'ccomp', 'dobj', 'nsubj'], 1], [['appos', 'ROOT', 'compound', 'compound', 'ccomp', 'dobj'], 1], [['npadvmod', 'nummod', 'appos', 'ROOT', 'compound', 'compound'], 1], [['pobj', 'advmod', 'amod', 'nsubj', 'pobj', 'pobj'], 1], [['nummod', 'npadvmod', 'nummod', 'appos', 'ROOT', 'compound'], 1], [['acl', 'nummod', 'npadvmod', 'nummod', 'appos', 'ROOT'], 1], [['pobj', 'acl', 'nummod', 'npadvmod', 'nummod', 'appos'], 1], [['nsubj', 'pobj', 'acl', 'nummod', 'npadvmod', 'nummod'], 1], [['pobj', 'acl', 'compound', 'compound', 'compound', 'pobj'], 1], [['pobj', 'pobj', 'acl', 'compound', 'compound', 'compound'], 1], [['dobj', 'pobj', 'pobj', 'acl', 'compound', 'compound'], 1], [['acl', 'dobj', 'pobj', 'pobj', 'acl', 'compound'], 1], [['compound', 'acl', 'dobj', 'pobj', 'pobj', 'acl'], 1], [['compound', 'compound', 'acl', 'dobj', 'pobj', 'pobj'], 1], [['conj', 'pobj', 'pcomp', 'dobj', 'pobj', 'pobj'], 1], [['pobj', 'pcomp', 'dobj', 'pobj', 'pobj', 'amod'], 1], [['pcomp', 'dobj', 'pobj', 'pobj', 'amod', 'conj'], 1], [['dobj', 'pobj', 'pobj', 'amod', 'conj', 'pobj'], 1], [['advcl', 'attr', 'acl', 'pobj', 'acl', 'dobj'], 1], [['pobj', 'advcl', 'attr', 'acl', 'pobj', 'acl'], 1], [['pobj', 'pobj', 'advcl', 'attr', 'acl', 'pobj'], 1], [['pobj', 'pobj', 'pobj', 'advcl', 'attr', 'acl'], 1], [['nummod', 'pobj', 'pobj', 'pobj', 'advcl', 'attr'], 1], [['prep', 'nummod', 'pobj', 'pobj', 'pobj', 'advcl'], 1], [['npadvmod', 'prep', 'nummod', 'pobj', 'pobj', 'pobj'], 1], [['punct', 'npadvmod', 'prep', 'nummod', 'pobj', 'pobj'], 1], [['pobj', 'punct', 'npadvmod', 'prep', 'nummod', 'pobj'], 1], [['dobj', 'pobj', 'punct', 'npadvmod', 'prep', 'nummod'], 1], [['ROOT', 'dobj', 'pobj', 'punct', 'npadvmod', 'prep'], 1], [['relcl', 'advcl', 'poss', 'dobj', 'acl', 'dobj'], 1], [['dobj', 'relcl', 'advcl', 'poss', 'dobj', 'acl'], 1], [['amod', 'dobj', 'relcl', 'advcl', 'poss', 'dobj'], 1], [['xcomp', 'amod', 'dobj', 'relcl', 'advcl', 'poss'], 1], [['acomp', 'xcomp', 'amod', 'dobj', 'relcl', 'advcl'], 1], [['nummod', 'acomp', 'xcomp', 'amod', 'dobj', 'relcl'], 1], [['ROOT', 'dobj', 'pobj', 'conj', 'advmod', 'dobj'], 1], [['nsubj', 'ROOT', 'dobj', 'pobj', 'conj', 'advmod'], 1], [['advmod', 'nsubj', 'ROOT', 'dobj', 'pobj', 'conj'], 1], [['advmod', 'advmod', 'nsubj', 'ROOT', 'dobj', 'pobj'], 1], [['prep', 'compound', 'compound', 'acl', 'dobj', 'pobj'], 1], [['attr', 'prep', 'compound', 'compound', 'acl', 'dobj'], 1], [['pobj', 'attr', 'prep', 'compound', 'compound', 'acl'], 1], [['case', 'amod', 'pobj', 'pobj', 'acl', 'nummod'], 1], [['pobj', 'poss', 'case', 'amod', 'pobj', 'pobj'], 1], [['nmod', 'pobj', 'poss', 'case', 'amod', 'pobj'], 1], [['pobj', 'nmod', 'pobj', 'poss', 'case', 'amod'], 1], [['pobj', 'pobj', 'nmod', 'pobj', 'poss', 'case'], 1], [['pobj', 'pobj', 'pobj', 'nmod', 'pobj', 'poss'], 1], [['pobj', 'pobj', 'pobj', 'pobj', 'nmod', 'pobj'], 1], [['dobj', 'pobj', 'pobj', 'pobj', 'pobj', 'nmod'], 1], [['ROOT', 'dobj', 'pobj', 'pobj', 'pobj', 'pobj'], 1], [['nsubj', 'ROOT', 'dobj', 'pobj', 'pobj', 'pobj'], 1], [['nsubj', 'compound', 'pobj', 'attr', 'compound', 'pobj'], 1], [['pobj', 'nsubj', 'compound', 'pobj', 'attr', 'compound'], 1], [['advmod', 'pobj', 'nsubj', 'compound', 'pobj', 'attr'], 1], [['pobj', 'advmod', 'pobj', 'nsubj', 'compound', 'pobj'], 1], [['acomp', 'pobj', 'advmod', 'pobj', 'nsubj', 'compound'], 1], [['pobj', 'acomp', 'pobj', 'advmod', 'pobj', 'nsubj'], 1], [['nsubj', 'pobj', 'acomp', 'pobj', 'advmod', 'pobj'], 1], [['pobj', 'nsubj', 'pobj', 'acomp', 'pobj', 'advmod'], 1], [['pobj', 'pobj', 'nsubj', 'pobj', 'acomp', 'pobj'], 1], [['nsubj', 'pobj', 'pobj', 'nsubj', 'pobj', 'acomp'], 1], [['amod', 'nsubj', 'pobj', 'pobj', 'nsubj', 'pobj'], 1], [['advmod', 'amod', 'nsubj', 'pobj', 'pobj', 'nsubj'], 1], [['poss', 'case', 'amod', 'pobj', 'pobj', 'acl'], 1], [['amod', 'pobj', 'pobj', 'acl', 'nummod', 'npadvmod'], 1], [['compound', 'pobj', 'nsubjpass', 'aux', 'ROOT', 'pobj'], 1], [['pobj', 'pobj', 'acl', 'nummod', 'npadvmod', 'nummod'], 1], [['npadvmod', 'compound', 'pobj', 'nsubjpass', 'aux', 'ROOT'], 1], [['pcomp', 'compound', 'dobj', 'conj', 'aux', 'acl'], 1], [['pobj', 'pcomp', 'compound', 'dobj', 'conj', 'aux'], 1], [['dobj', 'pobj', 'pcomp', 'compound', 'dobj', 'conj'], 1], [['ROOT', 'dobj', 'pobj', 'pcomp', 'compound', 'dobj'], 1], [['nsubj', 'ROOT', 'dobj', 'pobj', 'pcomp', 'compound'], 1], [['pobj', 'nsubj', 'ROOT', 'dobj', 'pobj', 'pcomp'], 1], [['pobj', 'ccomp', 'pcomp', 'amod', 'dobj', 'amod'], 1], [['compound', 'pobj', 'ccomp', 'pcomp', 'amod', 'dobj'], 1], [['nsubjpass', 'compound', 'pobj', 'ccomp', 'pcomp', 'amod'], 1], [['pobj', 'nsubjpass', 'compound', 'pobj', 'ccomp', 'pcomp'], 1], [['pobj', 'pobj', 'nsubjpass', 'compound', 'pobj', 'ccomp'], 1], [['dobj', 'pobj', 'pobj', 'nsubjpass', 'compound', 'pobj'], 1], [['conj', 'dobj', 'pobj', 'pobj', 'nsubjpass', 'compound'], 1], [['pobj', 'conj', 'dobj', 'pobj', 'pobj', 'nsubjpass'], 1], [['pobj', 'pobj', 'conj', 'dobj', 'pobj', 'pobj'], 1], [['nummod', 'pobj', 'pobj', 'conj', 'dobj', 'pobj'], 1], [['npadvmod', 'nummod', 'pobj', 'pobj', 'conj', 'dobj'], 1], [['nummod', 'npadvmod', 'nummod', 'pobj', 'pobj', 'conj'], 1], [['acl', 'nummod', 'npadvmod', 'nummod', 'pobj', 'pobj'], 1], [['pobj', 'acl', 'nummod', 'npadvmod', 'nummod', 'pobj'], 1], [['nsubj', 'ccomp', 'nsubjpass', 'pobj', 'advmod', 'ccomp'], 1]]\n"
     ]
    }
   ],
   "source": [
    "freq_pat=pe.frequent_patterns(list(dep_pat))\n",
    "print(freq_pat)"
   ]
  },
  {
   "cell_type": "markdown",
   "metadata": {},
   "source": [
    "# sample scoring of patterns using jaro metric"
   ]
  },
  {
   "cell_type": "code",
   "execution_count": 5,
   "metadata": {
    "collapsed": true
   },
   "outputs": [
    {
     "name": "stdout",
     "output_type": "stream",
     "text": [
      "['acl', 'pobj', 'acl', 'dobj', 'conj', 'conj'] : ['acl', 'pobj', 'acl', 'dobj', 'conj', 'conj'] : 1.0\n",
      "['acl', 'pobj', 'acl', 'dobj', 'conj', 'conj'] : ['relcl', 'ccomp', 'advcl', 'dobj', 'pobj', 'conj'] : 0.5555555555555555\n",
      "['acl', 'pobj', 'acl', 'dobj', 'conj', 'conj'] : ['ROOT', 'dobj', 'pobj', 'pcomp', 'dobj', 'compound'] : 0.38888888888888884\n",
      "['acl', 'pobj', 'acl', 'dobj', 'conj', 'conj'] : ['nsubj', 'ROOT', 'dobj', 'pobj', 'pcomp', 'dobj'] : 0.38888888888888884\n",
      "['acl', 'pobj', 'acl', 'dobj', 'conj', 'conj'] : ['compound', 'nsubj', 'ROOT', 'dobj', 'pobj', 'pcomp'] : 0.4444444444444444\n",
      "['acl', 'pobj', 'acl', 'dobj', 'conj', 'conj'] : ['compound', 'compound', 'nsubj', 'ROOT', 'dobj', 'pobj'] : 0.4444444444444444\n",
      "['acl', 'pobj', 'acl', 'dobj', 'conj', 'conj'] : ['dobj', 'pobj', 'amod', 'pobj', 'pobj', 'acl'] : 0.4444444444444444\n",
      "['acl', 'pobj', 'acl', 'dobj', 'conj', 'conj'] : ['conj', 'dobj', 'pobj', 'amod', 'pobj', 'pobj'] : 0.38888888888888884\n",
      "['acl', 'pobj', 'acl', 'dobj', 'conj', 'conj'] : ['pobj', 'conj', 'dobj', 'pobj', 'amod', 'pobj'] : 0.5555555555555555\n",
      "['acl', 'pobj', 'acl', 'dobj', 'conj', 'conj'] : ['dobj', 'pobj', 'conj', 'dobj', 'pobj', 'amod'] : 0.5555555555555555\n",
      "['acl', 'pobj', 'acl', 'dobj', 'conj', 'conj'] : ['advcl', 'dobj', 'pobj', 'conj', 'dobj', 'pobj'] : 0.5555555555555555\n",
      "['acl', 'pobj', 'acl', 'dobj', 'conj', 'conj'] : ['ccomp', 'advcl', 'dobj', 'pobj', 'conj', 'dobj'] : 0.5555555555555555\n",
      "['acl', 'pobj', 'acl', 'dobj', 'conj', 'conj'] : ['advmod', 'relcl', 'ccomp', 'advcl', 'dobj', 'pobj'] : 0.4444444444444444\n",
      "['acl', 'pobj', 'acl', 'dobj', 'conj', 'conj'] : ['pobj', 'pobj', 'pobj', 'advmod', 'amod', 'nsubj'] : 0.4444444444444444\n",
      "['acl', 'pobj', 'acl', 'dobj', 'conj', 'conj'] : ['nsubj', 'advmod', 'relcl', 'ccomp', 'advcl', 'dobj'] : 0.4444444444444444\n",
      "['acl', 'pobj', 'acl', 'dobj', 'conj', 'conj'] : ['pobj', 'nsubj', 'advmod', 'relcl', 'ccomp', 'advcl'] : 0.4444444444444444\n",
      "['acl', 'pobj', 'acl', 'dobj', 'conj', 'conj'] : ['pobj', 'pobj', 'nsubj', 'advmod', 'relcl', 'ccomp'] : 0.4444444444444444\n",
      "['acl', 'pobj', 'acl', 'dobj', 'conj', 'conj'] : ['compound', 'pobj', 'pobj', 'nsubj', 'advmod', 'relcl'] : 0.4444444444444444\n",
      "['acl', 'pobj', 'acl', 'dobj', 'conj', 'conj'] : ['pobj', 'compound', 'pobj', 'pobj', 'nsubj', 'advmod'] : 0.4444444444444444\n",
      "['acl', 'pobj', 'acl', 'dobj', 'conj', 'conj'] : ['amod', 'pobj', 'compound', 'pobj', 'pobj', 'nsubj'] : 0.4444444444444444\n",
      "['acl', 'pobj', 'acl', 'dobj', 'conj', 'conj'] : ['dobj', 'amod', 'pobj', 'compound', 'pobj', 'pobj'] : 0.4444444444444444\n",
      "['acl', 'pobj', 'acl', 'dobj', 'conj', 'conj'] : ['relcl', 'dobj', 'amod', 'pobj', 'compound', 'pobj'] : 0.38888888888888884\n",
      "['acl', 'pobj', 'acl', 'dobj', 'conj', 'conj'] : ['pobj', 'relcl', 'dobj', 'amod', 'pobj', 'compound'] : 0.5555555555555555\n",
      "['acl', 'pobj', 'acl', 'dobj', 'conj', 'conj'] : ['dobj', 'pobj', 'relcl', 'dobj', 'amod', 'pobj'] : 0.5555555555555555\n",
      "['acl', 'pobj', 'acl', 'dobj', 'conj', 'conj'] : ['dobj', 'pobj', 'pcomp', 'dobj', 'compound', 'pobj'] : 0.5555555555555555\n",
      "['acl', 'pobj', 'acl', 'dobj', 'conj', 'conj'] : ['pobj', 'pcomp', 'dobj', 'compound', 'pobj', 'amod'] : 0.5555555555555555\n",
      "['acl', 'pobj', 'acl', 'dobj', 'conj', 'conj'] : ['pcomp', 'dobj', 'compound', 'pobj', 'amod', 'pobj'] : 0.38888888888888884\n",
      "['acl', 'pobj', 'acl', 'dobj', 'conj', 'conj'] : ['dobj', 'compound', 'pobj', 'amod', 'pobj', 'nsubj'] : 0.4444444444444444\n",
      "['acl', 'pobj', 'acl', 'dobj', 'conj', 'conj'] : ['xcomp', 'compound', 'pobj', 'pobj', 'pobj', 'advmod'] : 0.4444444444444444\n",
      "['acl', 'pobj', 'acl', 'dobj', 'conj', 'conj'] : ['dobj', 'xcomp', 'compound', 'pobj', 'pobj', 'pobj'] : 0.4444444444444444\n",
      "['acl', 'pobj', 'acl', 'dobj', 'conj', 'conj'] : ['punct', 'dobj', 'xcomp', 'compound', 'pobj', 'pobj'] : 0.4444444444444444\n",
      "['acl', 'pobj', 'acl', 'dobj', 'conj', 'conj'] : ['compound', 'punct', 'dobj', 'xcomp', 'compound', 'pobj'] : 0.4444444444444444\n",
      "['acl', 'pobj', 'acl', 'dobj', 'conj', 'conj'] : ['acl', 'compound', 'punct', 'dobj', 'xcomp', 'compound'] : 0.5555555555555555\n",
      "['acl', 'pobj', 'acl', 'dobj', 'conj', 'conj'] : ['dobj', 'acl', 'compound', 'punct', 'dobj', 'xcomp'] : 0.5555555555555555\n",
      "['acl', 'pobj', 'acl', 'dobj', 'conj', 'conj'] : ['acl', 'dobj', 'acl', 'compound', 'punct', 'dobj'] : 0.5555555555555555\n",
      "['acl', 'pobj', 'acl', 'dobj', 'conj', 'conj'] : ['appos', 'acl', 'dobj', 'acl', 'compound', 'punct'] : 0.5555555555555555\n",
      "['acl', 'pobj', 'acl', 'dobj', 'conj', 'conj'] : ['nummod', 'appos', 'acl', 'dobj', 'acl', 'compound'] : 0.5555555555555555\n",
      "['acl', 'pobj', 'acl', 'dobj', 'conj', 'conj'] : ['pobj', 'nummod', 'appos', 'acl', 'dobj', 'acl'] : 0.6666666666666666\n",
      "['acl', 'pobj', 'acl', 'dobj', 'conj', 'conj'] : ['compound', 'pobj', 'nummod', 'appos', 'acl', 'dobj'] : 0.6666666666666666\n",
      "['acl', 'pobj', 'acl', 'dobj', 'conj', 'conj'] : ['compound', 'compound', 'pobj', 'nummod', 'appos', 'acl'] : 0.4444444444444444\n",
      "['acl', 'pobj', 'acl', 'dobj', 'conj', 'conj'] : ['pobj', 'compound', 'compound', 'pobj', 'nummod', 'appos'] : 0.4444444444444444\n",
      "['acl', 'pobj', 'acl', 'dobj', 'conj', 'conj'] : ['dobj', 'pobj', 'compound', 'compound', 'pobj', 'nummod'] : 0.4444444444444444\n",
      "['acl', 'pobj', 'acl', 'dobj', 'conj', 'conj'] : ['nsubj', 'dobj', 'pobj', 'compound', 'compound', 'pobj'] : 0.38888888888888884\n",
      "['acl', 'pobj', 'acl', 'dobj', 'conj', 'conj'] : ['pobj', 'nsubj', 'dobj', 'pobj', 'compound', 'compound'] : 0.5555555555555555\n",
      "['acl', 'pobj', 'acl', 'dobj', 'conj', 'conj'] : ['nsubj', 'pobj', 'nsubj', 'dobj', 'pobj', 'compound'] : 0.5555555555555555\n",
      "['acl', 'pobj', 'acl', 'dobj', 'conj', 'conj'] : ['pobj', 'nsubj', 'pobj', 'nsubj', 'dobj', 'pobj'] : 0.5555555555555555\n",
      "['acl', 'pobj', 'acl', 'dobj', 'conj', 'conj'] : ['amod', 'pobj', 'nsubj', 'pobj', 'nsubj', 'dobj'] : 0.5555555555555555\n",
      "['acl', 'pobj', 'acl', 'dobj', 'conj', 'conj'] : ['pobj', 'amod', 'pobj', 'nsubj', 'pobj', 'nsubj'] : 0.4444444444444444\n",
      "['acl', 'pobj', 'acl', 'dobj', 'conj', 'conj'] : ['compound', 'pobj', 'amod', 'pobj', 'nsubj', 'pobj'] : 0.4444444444444444\n",
      "['acl', 'pobj', 'acl', 'dobj', 'conj', 'conj'] : ['compound', 'dobj', 'pobj', 'relcl', 'dobj', 'amod'] : 0.38888888888888884\n",
      "['acl', 'pobj', 'acl', 'dobj', 'conj', 'conj'] : ['advcl', 'compound', 'dobj', 'pobj', 'relcl', 'dobj'] : 0.38888888888888884\n",
      "['acl', 'pobj', 'acl', 'dobj', 'conj', 'conj'] : ['ccomp', 'advcl', 'compound', 'dobj', 'pobj', 'relcl'] : 0.4444444444444444\n",
      "['acl', 'pobj', 'acl', 'dobj', 'conj', 'conj'] : ['advcl', 'pobj', 'nummod', 'advcl', 'pobj', 'acl'] : 0.4444444444444444\n",
      "['acl', 'pobj', 'acl', 'dobj', 'conj', 'conj'] : ['pobj', 'pobj', 'advcl', 'pobj', 'nummod', 'advcl'] : 0.4444444444444444\n",
      "['acl', 'pobj', 'acl', 'dobj', 'conj', 'conj'] : ['amod', 'pobj', 'conj', 'pobj', 'pobj', 'conj'] : 0.6666666666666666\n",
      "['acl', 'pobj', 'acl', 'dobj', 'conj', 'conj'] : ['nsubjpass', 'amod', 'pobj', 'conj', 'pobj', 'pobj'] : 0.5555555555555555\n",
      "['acl', 'pobj', 'acl', 'dobj', 'conj', 'conj'] : ['pobj', 'nsubjpass', 'amod', 'pobj', 'conj', 'pobj'] : 0.5555555555555555\n",
      "['acl', 'pobj', 'acl', 'dobj', 'conj', 'conj'] : ['ccomp', 'pobj', 'nsubjpass', 'amod', 'pobj', 'conj'] : 0.5555555555555555\n",
      "['acl', 'pobj', 'acl', 'dobj', 'conj', 'conj'] : ['nsubjpass', 'ccomp', 'pobj', 'nsubjpass', 'amod', 'pobj'] : 0.4444444444444444\n",
      "['acl', 'pobj', 'acl', 'dobj', 'conj', 'conj'] : ['pobj', 'nsubjpass', 'ccomp', 'pobj', 'nsubjpass', 'amod'] : 0.4444444444444444\n",
      "['acl', 'pobj', 'acl', 'dobj', 'conj', 'conj'] : ['nsubj', 'pobj', 'nsubjpass', 'ccomp', 'pobj', 'nsubjpass'] : 0.4444444444444444\n",
      "['acl', 'pobj', 'acl', 'dobj', 'conj', 'conj'] : ['pobj', 'nsubj', 'pobj', 'nsubjpass', 'ccomp', 'pobj'] : 0.4444444444444444\n",
      "['acl', 'pobj', 'acl', 'dobj', 'conj', 'conj'] : ['pobj', 'pobj', 'nsubj', 'pobj', 'nsubjpass', 'ccomp'] : 0.4444444444444444\n",
      "['acl', 'pobj', 'acl', 'dobj', 'conj', 'conj'] : ['ROOT', 'pobj', 'pobj', 'nsubj', 'pobj', 'nsubjpass'] : 0.4444444444444444\n",
      "['acl', 'pobj', 'acl', 'dobj', 'conj', 'conj'] : ['compound', 'nsubjpass', 'ccomp', 'dobj', 'ROOT', 'pobj'] : 0.4444444444444444\n",
      "['acl', 'pobj', 'acl', 'dobj', 'conj', 'conj'] : ['compound', 'compound', 'nsubjpass', 'ccomp', 'dobj', 'ROOT'] : 0.4444444444444444\n",
      "['acl', 'pobj', 'acl', 'dobj', 'conj', 'conj'] : ['advcl', 'compound', 'compound', 'nsubjpass', 'ccomp', 'dobj'] : 0.4444444444444444\n",
      "['acl', 'pobj', 'acl', 'dobj', 'conj', 'conj'] : ['advcl', 'advcl', 'compound', 'compound', 'nsubjpass', 'ccomp'] : 0\n",
      "['acl', 'pobj', 'acl', 'dobj', 'conj', 'conj'] : ['advmod', 'advcl', 'advcl', 'compound', 'compound', 'nsubjpass'] : 0\n",
      "['acl', 'pobj', 'acl', 'dobj', 'conj', 'conj'] : ['ccomp', 'advmod', 'advcl', 'advcl', 'compound', 'compound'] : 0\n",
      "['acl', 'pobj', 'acl', 'dobj', 'conj', 'conj'] : ['advmod', 'ccomp', 'advmod', 'advcl', 'advcl', 'compound'] : 0\n",
      "['acl', 'pobj', 'acl', 'dobj', 'conj', 'conj'] : ['pobj', 'advmod', 'ccomp', 'advmod', 'advcl', 'advcl'] : 0.4444444444444444\n",
      "['acl', 'pobj', 'acl', 'dobj', 'conj', 'conj'] : ['nsubjpass', 'pobj', 'advmod', 'ccomp', 'advmod', 'advcl'] : 0.4444444444444444\n",
      "['acl', 'pobj', 'acl', 'dobj', 'conj', 'conj'] : ['ccomp', 'nsubjpass', 'pobj', 'advmod', 'ccomp', 'advmod'] : 0.4444444444444444\n",
      "['acl', 'pobj', 'acl', 'dobj', 'conj', 'conj'] : ['pobj', 'advcl', 'pobj', 'nummod', 'advcl', 'pobj'] : 0.4444444444444444\n",
      "['acl', 'pobj', 'acl', 'dobj', 'conj', 'conj'] : ['pobj', 'nummod', 'advcl', 'pobj', 'acl', 'nsubj'] : 0.5555555555555555\n",
      "['acl', 'pobj', 'acl', 'dobj', 'conj', 'conj'] : ['ccomp', 'ccomp', 'advcl', 'compound', 'dobj', 'pobj'] : 0.4444444444444444\n",
      "['acl', 'pobj', 'acl', 'dobj', 'conj', 'conj'] : ['nummod', 'advcl', 'pobj', 'acl', 'nsubj', 'ROOT'] : 0.5555555555555555\n",
      "['acl', 'pobj', 'acl', 'dobj', 'conj', 'conj'] : ['aux', 'ccomp', 'ccomp', 'advcl', 'compound', 'dobj'] : 0.4444444444444444\n",
      "['acl', 'pobj', 'acl', 'dobj', 'conj', 'conj'] : ['nsubj', 'aux', 'ccomp', 'ccomp', 'advcl', 'compound'] : 0\n",
      "['acl', 'pobj', 'acl', 'dobj', 'conj', 'conj'] : ['pobj', 'nsubj', 'aux', 'ccomp', 'ccomp', 'advcl'] : 0.4444444444444444\n",
      "['acl', 'pobj', 'acl', 'dobj', 'conj', 'conj'] : ['advmod', 'pobj', 'nsubj', 'aux', 'ccomp', 'ccomp'] : 0.4444444444444444\n",
      "['acl', 'pobj', 'acl', 'dobj', 'conj', 'conj'] : ['pobj', 'advmod', 'pobj', 'nsubj', 'aux', 'ccomp'] : 0.4444444444444444\n",
      "['acl', 'pobj', 'acl', 'dobj', 'conj', 'conj'] : ['amod', 'pobj', 'advmod', 'pobj', 'nsubj', 'aux'] : 0.4444444444444444\n",
      "['acl', 'pobj', 'acl', 'dobj', 'conj', 'conj'] : ['pobj', 'amod', 'pobj', 'advmod', 'pobj', 'nsubj'] : 0.4444444444444444\n",
      "['acl', 'pobj', 'acl', 'dobj', 'conj', 'conj'] : ['amod', 'pobj', 'amod', 'pobj', 'advmod', 'pobj'] : 0.4444444444444444\n",
      "['acl', 'pobj', 'acl', 'dobj', 'conj', 'conj'] : ['ROOT', 'amod', 'pobj', 'amod', 'pobj', 'advmod'] : 0.4444444444444444\n",
      "['acl', 'pobj', 'acl', 'dobj', 'conj', 'conj'] : ['advmod', 'ROOT', 'amod', 'pobj', 'amod', 'pobj'] : 0.4444444444444444\n",
      "['acl', 'pobj', 'acl', 'dobj', 'conj', 'conj'] : ['pobj', 'compound', 'pobj', 'amod', 'compound', 'pobj'] : 0.4444444444444444\n",
      "['acl', 'pobj', 'acl', 'dobj', 'conj', 'conj'] : ['attr', 'pobj', 'compound', 'pobj', 'amod', 'compound'] : 0.4444444444444444\n",
      "['acl', 'pobj', 'acl', 'dobj', 'conj', 'conj'] : ['amod', 'attr', 'pobj', 'compound', 'pobj', 'amod'] : 0.4444444444444444\n",
      "['acl', 'pobj', 'acl', 'dobj', 'conj', 'conj'] : ['nsubj', 'amod', 'attr', 'pobj', 'compound', 'pobj'] : 0.4444444444444444\n",
      "['acl', 'pobj', 'acl', 'dobj', 'conj', 'conj'] : ['amod', 'nsubj', 'amod', 'attr', 'pobj', 'compound'] : 0\n",
      "['acl', 'pobj', 'acl', 'dobj', 'conj', 'conj'] : ['nummod', 'amod', 'nsubj', 'amod', 'attr', 'pobj'] : 0\n",
      "['acl', 'pobj', 'acl', 'dobj', 'conj', 'conj'] : ['nummod', 'nummod', 'amod', 'nsubj', 'amod', 'attr'] : 0\n",
      "['acl', 'pobj', 'acl', 'dobj', 'conj', 'conj'] : ['amod', 'nummod', 'nummod', 'amod', 'nsubj', 'amod'] : 0\n",
      "['acl', 'pobj', 'acl', 'dobj', 'conj', 'conj'] : ['ROOT', 'amod', 'nummod', 'nummod', 'amod', 'nsubj'] : 0\n",
      "['acl', 'pobj', 'acl', 'dobj', 'conj', 'conj'] : ['pobj', 'acl', 'nsubj', 'ROOT', 'dobj', 'pobj'] : 0.5555555555555555\n",
      "['acl', 'pobj', 'acl', 'dobj', 'conj', 'conj'] : ['advcl', 'pobj', 'acl', 'nsubj', 'ROOT', 'dobj'] : 0.5555555555555555\n",
      "['acl', 'pobj', 'acl', 'dobj', 'conj', 'conj'] : ['compound', 'pobj', 'pobj', 'pobj', 'advmod', 'amod'] : 0.4444444444444444\n",
      "['acl', 'pobj', 'acl', 'dobj', 'conj', 'conj'] : ['pobj', 'pobj', 'advmod', 'amod', 'nsubj', 'pobj'] : 0.4444444444444444\n",
      "['acl', 'pobj', 'acl', 'dobj', 'conj', 'conj'] : ['attr', 'acl', 'pobj', 'acl', 'dobj', 'conj'] : 0.888888888888889\n",
      "['acl', 'pobj', 'acl', 'dobj', 'conj', 'conj'] : ['nummod', 'appos', 'ROOT', 'compound', 'compound', 'ccomp'] : 0\n",
      "['acl', 'pobj', 'acl', 'dobj', 'conj', 'conj'] : ['attr', 'conj', 'pobj', 'pcomp', 'dobj', 'pobj'] : 0.5555555555555555\n",
      "['acl', 'pobj', 'acl', 'dobj', 'conj', 'conj'] : ['aux', 'attr', 'conj', 'pobj', 'pcomp', 'dobj'] : 0.5\n",
      "['acl', 'pobj', 'acl', 'dobj', 'conj', 'conj'] : ['relcl', 'aux', 'attr', 'conj', 'pobj', 'pcomp'] : 0.4444444444444444\n",
      "['acl', 'pobj', 'acl', 'dobj', 'conj', 'conj'] : ['nsubj', 'relcl', 'aux', 'attr', 'conj', 'pobj'] : 0.4444444444444444\n",
      "['acl', 'pobj', 'acl', 'dobj', 'conj', 'conj'] : ['dobj', 'nsubj', 'relcl', 'aux', 'attr', 'conj'] : 0.4444444444444444\n",
      "['acl', 'pobj', 'acl', 'dobj', 'conj', 'conj'] : ['ccomp', 'dobj', 'nsubj', 'relcl', 'aux', 'attr'] : 0.4444444444444444\n",
      "['acl', 'pobj', 'acl', 'dobj', 'conj', 'conj'] : ['compound', 'ccomp', 'dobj', 'nsubj', 'relcl', 'aux'] : 0.4444444444444444\n",
      "['acl', 'pobj', 'acl', 'dobj', 'conj', 'conj'] : ['compound', 'compound', 'ccomp', 'dobj', 'nsubj', 'relcl'] : 0.4444444444444444\n",
      "['acl', 'pobj', 'acl', 'dobj', 'conj', 'conj'] : ['ROOT', 'compound', 'compound', 'ccomp', 'dobj', 'nsubj'] : 0.4444444444444444\n",
      "['acl', 'pobj', 'acl', 'dobj', 'conj', 'conj'] : ['appos', 'ROOT', 'compound', 'compound', 'ccomp', 'dobj'] : 0.4444444444444444\n",
      "['acl', 'pobj', 'acl', 'dobj', 'conj', 'conj'] : ['npadvmod', 'nummod', 'appos', 'ROOT', 'compound', 'compound'] : 0\n",
      "['acl', 'pobj', 'acl', 'dobj', 'conj', 'conj'] : ['pobj', 'advmod', 'amod', 'nsubj', 'pobj', 'pobj'] : 0.4444444444444444\n",
      "['acl', 'pobj', 'acl', 'dobj', 'conj', 'conj'] : ['nummod', 'npadvmod', 'nummod', 'appos', 'ROOT', 'compound'] : 0\n",
      "['acl', 'pobj', 'acl', 'dobj', 'conj', 'conj'] : ['acl', 'nummod', 'npadvmod', 'nummod', 'appos', 'ROOT'] : 0.4444444444444444\n",
      "['acl', 'pobj', 'acl', 'dobj', 'conj', 'conj'] : ['pobj', 'acl', 'nummod', 'npadvmod', 'nummod', 'appos'] : 0.38888888888888884\n",
      "['acl', 'pobj', 'acl', 'dobj', 'conj', 'conj'] : ['nsubj', 'pobj', 'acl', 'nummod', 'npadvmod', 'nummod'] : 0.38888888888888884\n",
      "['acl', 'pobj', 'acl', 'dobj', 'conj', 'conj'] : ['pobj', 'acl', 'compound', 'compound', 'compound', 'pobj'] : 0.38888888888888884\n",
      "['acl', 'pobj', 'acl', 'dobj', 'conj', 'conj'] : ['pobj', 'pobj', 'acl', 'compound', 'compound', 'compound'] : 0.38888888888888884\n",
      "['acl', 'pobj', 'acl', 'dobj', 'conj', 'conj'] : ['dobj', 'pobj', 'pobj', 'acl', 'compound', 'compound'] : 0.5555555555555555\n",
      "['acl', 'pobj', 'acl', 'dobj', 'conj', 'conj'] : ['acl', 'dobj', 'pobj', 'pobj', 'acl', 'compound'] : 0.6527777777777778\n",
      "['acl', 'pobj', 'acl', 'dobj', 'conj', 'conj'] : ['compound', 'acl', 'dobj', 'pobj', 'pobj', 'acl'] : 0.5555555555555555\n",
      "['acl', 'pobj', 'acl', 'dobj', 'conj', 'conj'] : ['compound', 'compound', 'acl', 'dobj', 'pobj', 'pobj'] : 0.5555555555555555\n",
      "['acl', 'pobj', 'acl', 'dobj', 'conj', 'conj'] : ['conj', 'pobj', 'pcomp', 'dobj', 'pobj', 'pobj'] : 0.5555555555555555\n",
      "['acl', 'pobj', 'acl', 'dobj', 'conj', 'conj'] : ['pobj', 'pcomp', 'dobj', 'pobj', 'pobj', 'amod'] : 0.5555555555555555\n",
      "['acl', 'pobj', 'acl', 'dobj', 'conj', 'conj'] : ['pcomp', 'dobj', 'pobj', 'pobj', 'amod', 'conj'] : 0.5555555555555555\n",
      "['acl', 'pobj', 'acl', 'dobj', 'conj', 'conj'] : ['dobj', 'pobj', 'pobj', 'amod', 'conj', 'pobj'] : 0.5555555555555555\n",
      "['acl', 'pobj', 'acl', 'dobj', 'conj', 'conj'] : ['advcl', 'attr', 'acl', 'pobj', 'acl', 'dobj'] : 0.7777777777777777\n",
      "['acl', 'pobj', 'acl', 'dobj', 'conj', 'conj'] : ['pobj', 'advcl', 'attr', 'acl', 'pobj', 'acl'] : 0.5555555555555555\n",
      "['acl', 'pobj', 'acl', 'dobj', 'conj', 'conj'] : ['pobj', 'pobj', 'advcl', 'attr', 'acl', 'pobj'] : 0.5555555555555555\n",
      "['acl', 'pobj', 'acl', 'dobj', 'conj', 'conj'] : ['pobj', 'pobj', 'pobj', 'advcl', 'attr', 'acl'] : 0.4444444444444444\n",
      "['acl', 'pobj', 'acl', 'dobj', 'conj', 'conj'] : ['nummod', 'pobj', 'pobj', 'pobj', 'advcl', 'attr'] : 0.4444444444444444\n",
      "['acl', 'pobj', 'acl', 'dobj', 'conj', 'conj'] : ['prep', 'nummod', 'pobj', 'pobj', 'pobj', 'advcl'] : 0.4444444444444444\n",
      "['acl', 'pobj', 'acl', 'dobj', 'conj', 'conj'] : ['npadvmod', 'prep', 'nummod', 'pobj', 'pobj', 'pobj'] : 0.4444444444444444\n",
      "['acl', 'pobj', 'acl', 'dobj', 'conj', 'conj'] : ['punct', 'npadvmod', 'prep', 'nummod', 'pobj', 'pobj'] : 0\n",
      "['acl', 'pobj', 'acl', 'dobj', 'conj', 'conj'] : ['pobj', 'punct', 'npadvmod', 'prep', 'nummod', 'pobj'] : 0.4444444444444444\n",
      "['acl', 'pobj', 'acl', 'dobj', 'conj', 'conj'] : ['dobj', 'pobj', 'punct', 'npadvmod', 'prep', 'nummod'] : 0.4444444444444444\n",
      "['acl', 'pobj', 'acl', 'dobj', 'conj', 'conj'] : ['ROOT', 'dobj', 'pobj', 'punct', 'npadvmod', 'prep'] : 0.38888888888888884\n",
      "['acl', 'pobj', 'acl', 'dobj', 'conj', 'conj'] : ['relcl', 'advcl', 'poss', 'dobj', 'acl', 'dobj'] : 0.38888888888888884\n",
      "['acl', 'pobj', 'acl', 'dobj', 'conj', 'conj'] : ['dobj', 'relcl', 'advcl', 'poss', 'dobj', 'acl'] : 0.4444444444444444\n",
      "['acl', 'pobj', 'acl', 'dobj', 'conj', 'conj'] : ['amod', 'dobj', 'relcl', 'advcl', 'poss', 'dobj'] : 0.4444444444444444\n",
      "['acl', 'pobj', 'acl', 'dobj', 'conj', 'conj'] : ['xcomp', 'amod', 'dobj', 'relcl', 'advcl', 'poss'] : 0.4444444444444444\n",
      "['acl', 'pobj', 'acl', 'dobj', 'conj', 'conj'] : ['acomp', 'xcomp', 'amod', 'dobj', 'relcl', 'advcl'] : 0.4444444444444444\n",
      "['acl', 'pobj', 'acl', 'dobj', 'conj', 'conj'] : ['nummod', 'acomp', 'xcomp', 'amod', 'dobj', 'relcl'] : 0.4444444444444444\n",
      "['acl', 'pobj', 'acl', 'dobj', 'conj', 'conj'] : ['ROOT', 'dobj', 'pobj', 'conj', 'advmod', 'dobj'] : 0.5555555555555555\n",
      "['acl', 'pobj', 'acl', 'dobj', 'conj', 'conj'] : ['nsubj', 'ROOT', 'dobj', 'pobj', 'conj', 'advmod'] : 0.5555555555555555\n",
      "['acl', 'pobj', 'acl', 'dobj', 'conj', 'conj'] : ['advmod', 'nsubj', 'ROOT', 'dobj', 'pobj', 'conj'] : 0.5555555555555555\n",
      "['acl', 'pobj', 'acl', 'dobj', 'conj', 'conj'] : ['advmod', 'advmod', 'nsubj', 'ROOT', 'dobj', 'pobj'] : 0.4444444444444444\n",
      "['acl', 'pobj', 'acl', 'dobj', 'conj', 'conj'] : ['prep', 'compound', 'compound', 'acl', 'dobj', 'pobj'] : 0.5555555555555555\n",
      "['acl', 'pobj', 'acl', 'dobj', 'conj', 'conj'] : ['attr', 'prep', 'compound', 'compound', 'acl', 'dobj'] : 0.5555555555555555\n",
      "['acl', 'pobj', 'acl', 'dobj', 'conj', 'conj'] : ['pobj', 'attr', 'prep', 'compound', 'compound', 'acl'] : 0.4444444444444444\n",
      "['acl', 'pobj', 'acl', 'dobj', 'conj', 'conj'] : ['case', 'amod', 'pobj', 'pobj', 'acl', 'nummod'] : 0.5555555555555555\n",
      "['acl', 'pobj', 'acl', 'dobj', 'conj', 'conj'] : ['pobj', 'poss', 'case', 'amod', 'pobj', 'pobj'] : 0.4444444444444444\n",
      "['acl', 'pobj', 'acl', 'dobj', 'conj', 'conj'] : ['nmod', 'pobj', 'poss', 'case', 'amod', 'pobj'] : 0.4444444444444444\n",
      "['acl', 'pobj', 'acl', 'dobj', 'conj', 'conj'] : ['pobj', 'nmod', 'pobj', 'poss', 'case', 'amod'] : 0.4444444444444444\n",
      "['acl', 'pobj', 'acl', 'dobj', 'conj', 'conj'] : ['pobj', 'pobj', 'nmod', 'pobj', 'poss', 'case'] : 0.4444444444444444\n",
      "['acl', 'pobj', 'acl', 'dobj', 'conj', 'conj'] : ['pobj', 'pobj', 'pobj', 'nmod', 'pobj', 'poss'] : 0.4444444444444444\n",
      "['acl', 'pobj', 'acl', 'dobj', 'conj', 'conj'] : ['pobj', 'pobj', 'pobj', 'pobj', 'nmod', 'pobj'] : 0.4444444444444444\n",
      "['acl', 'pobj', 'acl', 'dobj', 'conj', 'conj'] : ['dobj', 'pobj', 'pobj', 'pobj', 'pobj', 'nmod'] : 0.4444444444444444\n",
      "['acl', 'pobj', 'acl', 'dobj', 'conj', 'conj'] : ['ROOT', 'dobj', 'pobj', 'pobj', 'pobj', 'pobj'] : 0.38888888888888884\n",
      "['acl', 'pobj', 'acl', 'dobj', 'conj', 'conj'] : ['nsubj', 'ROOT', 'dobj', 'pobj', 'pobj', 'pobj'] : 0.38888888888888884\n",
      "['acl', 'pobj', 'acl', 'dobj', 'conj', 'conj'] : ['nsubj', 'compound', 'pobj', 'attr', 'compound', 'pobj'] : 0.4444444444444444\n",
      "['acl', 'pobj', 'acl', 'dobj', 'conj', 'conj'] : ['pobj', 'nsubj', 'compound', 'pobj', 'attr', 'compound'] : 0.4444444444444444\n",
      "['acl', 'pobj', 'acl', 'dobj', 'conj', 'conj'] : ['advmod', 'pobj', 'nsubj', 'compound', 'pobj', 'attr'] : 0.4444444444444444\n",
      "['acl', 'pobj', 'acl', 'dobj', 'conj', 'conj'] : ['pobj', 'advmod', 'pobj', 'nsubj', 'compound', 'pobj'] : 0.4444444444444444\n",
      "['acl', 'pobj', 'acl', 'dobj', 'conj', 'conj'] : ['acomp', 'pobj', 'advmod', 'pobj', 'nsubj', 'compound'] : 0.4444444444444444\n",
      "['acl', 'pobj', 'acl', 'dobj', 'conj', 'conj'] : ['pobj', 'acomp', 'pobj', 'advmod', 'pobj', 'nsubj'] : 0.4444444444444444\n",
      "['acl', 'pobj', 'acl', 'dobj', 'conj', 'conj'] : ['nsubj', 'pobj', 'acomp', 'pobj', 'advmod', 'pobj'] : 0.4444444444444444\n",
      "['acl', 'pobj', 'acl', 'dobj', 'conj', 'conj'] : ['pobj', 'nsubj', 'pobj', 'acomp', 'pobj', 'advmod'] : 0.4444444444444444\n",
      "['acl', 'pobj', 'acl', 'dobj', 'conj', 'conj'] : ['pobj', 'pobj', 'nsubj', 'pobj', 'acomp', 'pobj'] : 0.4444444444444444\n",
      "['acl', 'pobj', 'acl', 'dobj', 'conj', 'conj'] : ['nsubj', 'pobj', 'pobj', 'nsubj', 'pobj', 'acomp'] : 0.4444444444444444\n",
      "['acl', 'pobj', 'acl', 'dobj', 'conj', 'conj'] : ['amod', 'nsubj', 'pobj', 'pobj', 'nsubj', 'pobj'] : 0.4444444444444444\n",
      "['acl', 'pobj', 'acl', 'dobj', 'conj', 'conj'] : ['advmod', 'amod', 'nsubj', 'pobj', 'pobj', 'nsubj'] : 0.4444444444444444\n",
      "['acl', 'pobj', 'acl', 'dobj', 'conj', 'conj'] : ['poss', 'case', 'amod', 'pobj', 'pobj', 'acl'] : 0.4444444444444444\n",
      "['acl', 'pobj', 'acl', 'dobj', 'conj', 'conj'] : ['amod', 'pobj', 'pobj', 'acl', 'nummod', 'npadvmod'] : 0.5555555555555555\n",
      "['acl', 'pobj', 'acl', 'dobj', 'conj', 'conj'] : ['compound', 'pobj', 'nsubjpass', 'aux', 'ROOT', 'pobj'] : 0.4444444444444444\n",
      "['acl', 'pobj', 'acl', 'dobj', 'conj', 'conj'] : ['pobj', 'pobj', 'acl', 'nummod', 'npadvmod', 'nummod'] : 0.38888888888888884\n",
      "['acl', 'pobj', 'acl', 'dobj', 'conj', 'conj'] : ['npadvmod', 'compound', 'pobj', 'nsubjpass', 'aux', 'ROOT'] : 0.4444444444444444\n",
      "['acl', 'pobj', 'acl', 'dobj', 'conj', 'conj'] : ['pcomp', 'compound', 'dobj', 'conj', 'aux', 'acl'] : 0.5555555555555555\n",
      "['acl', 'pobj', 'acl', 'dobj', 'conj', 'conj'] : ['pobj', 'pcomp', 'compound', 'dobj', 'conj', 'aux'] : 0.6666666666666666\n",
      "['acl', 'pobj', 'acl', 'dobj', 'conj', 'conj'] : ['dobj', 'pobj', 'pcomp', 'compound', 'dobj', 'conj'] : 0.6666666666666666\n",
      "['acl', 'pobj', 'acl', 'dobj', 'conj', 'conj'] : ['ROOT', 'dobj', 'pobj', 'pcomp', 'compound', 'dobj'] : 0.38888888888888884\n",
      "['acl', 'pobj', 'acl', 'dobj', 'conj', 'conj'] : ['nsubj', 'ROOT', 'dobj', 'pobj', 'pcomp', 'compound'] : 0.38888888888888884\n",
      "['acl', 'pobj', 'acl', 'dobj', 'conj', 'conj'] : ['pobj', 'nsubj', 'ROOT', 'dobj', 'pobj', 'pcomp'] : 0.5555555555555555\n",
      "['acl', 'pobj', 'acl', 'dobj', 'conj', 'conj'] : ['pobj', 'ccomp', 'pcomp', 'amod', 'dobj', 'amod'] : 0.5555555555555555\n",
      "['acl', 'pobj', 'acl', 'dobj', 'conj', 'conj'] : ['compound', 'pobj', 'ccomp', 'pcomp', 'amod', 'dobj'] : 0.5555555555555555\n",
      "['acl', 'pobj', 'acl', 'dobj', 'conj', 'conj'] : ['nsubjpass', 'compound', 'pobj', 'ccomp', 'pcomp', 'amod'] : 0.4444444444444444\n",
      "['acl', 'pobj', 'acl', 'dobj', 'conj', 'conj'] : ['pobj', 'nsubjpass', 'compound', 'pobj', 'ccomp', 'pcomp'] : 0.4444444444444444\n",
      "['acl', 'pobj', 'acl', 'dobj', 'conj', 'conj'] : ['pobj', 'pobj', 'nsubjpass', 'compound', 'pobj', 'ccomp'] : 0.4444444444444444\n",
      "['acl', 'pobj', 'acl', 'dobj', 'conj', 'conj'] : ['dobj', 'pobj', 'pobj', 'nsubjpass', 'compound', 'pobj'] : 0.4444444444444444\n",
      "['acl', 'pobj', 'acl', 'dobj', 'conj', 'conj'] : ['conj', 'dobj', 'pobj', 'pobj', 'nsubjpass', 'compound'] : 0.38888888888888884\n",
      "['acl', 'pobj', 'acl', 'dobj', 'conj', 'conj'] : ['pobj', 'conj', 'dobj', 'pobj', 'pobj', 'nsubjpass'] : 0.5555555555555555\n",
      "['acl', 'pobj', 'acl', 'dobj', 'conj', 'conj'] : ['pobj', 'pobj', 'conj', 'dobj', 'pobj', 'pobj'] : 0.5555555555555555\n",
      "['acl', 'pobj', 'acl', 'dobj', 'conj', 'conj'] : ['nummod', 'pobj', 'pobj', 'conj', 'dobj', 'pobj'] : 0.5555555555555555\n",
      "['acl', 'pobj', 'acl', 'dobj', 'conj', 'conj'] : ['npadvmod', 'nummod', 'pobj', 'pobj', 'conj', 'dobj'] : 0.5555555555555555\n",
      "['acl', 'pobj', 'acl', 'dobj', 'conj', 'conj'] : ['nummod', 'npadvmod', 'nummod', 'pobj', 'pobj', 'conj'] : 0.5555555555555555\n",
      "['acl', 'pobj', 'acl', 'dobj', 'conj', 'conj'] : ['acl', 'nummod', 'npadvmod', 'nummod', 'pobj', 'pobj'] : 0.4444444444444444\n",
      "['acl', 'pobj', 'acl', 'dobj', 'conj', 'conj'] : ['pobj', 'acl', 'nummod', 'npadvmod', 'nummod', 'pobj'] : 0.38888888888888884\n",
      "['acl', 'pobj', 'acl', 'dobj', 'conj', 'conj'] : ['nsubj', 'ccomp', 'nsubjpass', 'pobj', 'advmod', 'ccomp'] : 0.4444444444444444\n"
     ]
    }
   ],
   "source": [
    "for i in freq_pat:\n",
    "    print(freq_pat[0][0],\":\",i[0],\":\",pe.jaro(freq_pat[0][0],i[0]))"
   ]
  },
  {
   "cell_type": "markdown",
   "metadata": {},
   "source": [
    "## set threshold and calculate jaro score using jaro score or avg_jaro_score for opposite set of classes on their seed patterns\n",
    "## The filtered patterns automatically identified as patterns for their respective classes and store in a seperate persistance storage for python use pickle and this is consider as a seed patterns"
   ]
  },
  {
   "cell_type": "markdown",
   "metadata": {},
   "source": [
    "Pattern Tagger function returns a list contains two arguments.1) tagged sentence with class labels concatenate along with sentence 2) partially matched patterns in a list."
   ]
  },
  {
   "cell_type": "code",
   "execution_count": 15,
   "metadata": {
    "collapsed": true
   },
   "outputs": [
    {
     "name": "stdout",
     "output_type": "stream",
     "text": [
      "[1, ['The applicant submitted that until an order of the court was relevantly made, if otherwise permissible, declaring the CDS Collective Agreement to be void under s 409(a) , it was taken to be in force.\\n', '12 In view of my conclusions, the order of the Court will be that the application is dismissed with costs and the name of the first respondent will be changed to the Minister for Immigration and Citizenship.\\n', 'In the event of liberty to apply under Order 3 not being availed of in the time permitted, the Court will make no order for compensation.\\n', 'I certify that the preceding eighteen (18) numbered paragraphs are a true copy of the Reasons for Judgment herein of the Honourable Justice Marshall.\\n', '\\'I can very well see that on the particular facts of many cases --- perhaps most cases --- the court might not consider it \"just and convenient\" to order the cross-examination of a defendant who has filed an affidavit in purported compliance with a Mareva order, in a case where the plaintiff has not yet seen fit to issue a motion for contempt and is not seeking an order for the swearing of a second affidavit by the defendant concerned.\\n', 'Lord Justice Slade made those remarks in the course of overruling the decision of Scott J at first instance, which decision had been to the effect that a court did not have the power under s 37 of the Supreme Court Act 1981 (UK) to make an order requiring cross-examination ancillary to compliance with a Mareva order, in the absence of circumstances whereby a justiciable issue is before the Court in respect of which the evidence of the deponent is relevant to the resolution thereof, for instance where the deponent of the disclosure affidavit was the subject of a contempt motion.\\n', \"'The tribunal affirms the decision under review in relation to the inclusion of the sum of $1,228,500 in the applicant's assessable income for the year ended 30 June 1988, but in relation to penalty remits the matter to the respondent with the direction that the assessment for that income year be amended by remitting additional tax in full.\\n\", 'In that sense, the Tribunal exercised the discretion for the purpose of reviewing the objection decision and any argument that it did not must be rejected.\\n', '24 For the foregoing reasons, the appeal must be dismissed with costs.\\n', 'In this case, there was no obligation upon the R R T to provide the Applicant with a transcript of the information provided to the R R T by George Ddungu.\\n', 'A consideration of the letter dated 27 February 2004 [32] demonstrates that the R R T conveyed the information the Tribunal then considered would be the reason or a part of the reason for affirming the decision under review, to the Applicant in clear and precise terms.\\n', 'Plainly enough, the Applicant understood the content of the letter and responded comprehensively [33].\\n', '102 Accordingly, the application must be dismissed.\\n', \"18 It is preferable to allow sufficient time to elapse to permit the parties' agreement to take effect.\\n\", 'I will place the onus on the Union to re-agitate this issue within 28 days of these reasons for judgment, failing which there will be no order made under s 298U(c) concerning compensation and the file will be closed. <decision> \\n'], []]\n"
     ]
    }
   ],
   "source": [
    "result=pe.pattern_tagger(\"/home/judson/Desktop/sentenceSeg/SecondPhase/SeedLabel/decision.txt\",freq_pat[0][0],\"<decision>\",6,True)\n",
    "print(result)"
   ]
  },
  {
   "cell_type": "markdown",
   "metadata": {},
   "source": [
    "### For pattern modification because in bootstrapping technique where pattern modification is an important phase where the pattern learning and the pattern exploration is happening.\n",
    "### We take a sample pattern for modification.usally this process will be carried out on partially matched patterns from the  pattern tagger function."
   ]
  },
  {
   "cell_type": "code",
   "execution_count": 17,
   "metadata": {
    "collapsed": true
   },
   "outputs": [
    {
     "data": {
      "text/plain": [
       "[['acl', 'pobj', 'acl', 'dobj', 'conj', 'conj'],\n",
       " ['relcl', 'ccomp', 'advcl', 'dobj', 'pobj', 'conj'],\n",
       " ['ROOT', 'dobj', 'pobj', 'pcomp', 'dobj', 'compound'],\n",
       " ['nsubj', 'ROOT', 'dobj', 'pobj', 'pcomp', 'dobj'],\n",
       " ['compound', 'nsubj', 'ROOT', 'dobj', 'pobj', 'pcomp'],\n",
       " ['compound', 'compound', 'nsubj', 'ROOT', 'dobj', 'pobj'],\n",
       " ['dobj', 'pobj', 'amod', 'pobj', 'pobj', 'acl'],\n",
       " ['conj', 'dobj', 'pobj', 'amod', 'pobj', 'pobj'],\n",
       " ['pobj', 'conj', 'dobj', 'pobj', 'amod', 'pobj'],\n",
       " ['dobj', 'pobj', 'conj', 'dobj', 'pobj', 'amod'],\n",
       " ['advcl', 'dobj', 'pobj', 'conj', 'dobj', 'pobj'],\n",
       " ['ccomp', 'advcl', 'dobj', 'pobj', 'conj', 'dobj'],\n",
       " ['advmod', 'relcl', 'ccomp', 'advcl', 'dobj', 'pobj'],\n",
       " ['pobj', 'pobj', 'pobj', 'advmod', 'amod', 'nsubj'],\n",
       " ['nsubj', 'advmod', 'relcl', 'ccomp', 'advcl', 'dobj'],\n",
       " ['pobj', 'nsubj', 'advmod', 'relcl', 'ccomp', 'advcl'],\n",
       " ['pobj', 'pobj', 'nsubj', 'advmod', 'relcl', 'ccomp'],\n",
       " ['compound', 'pobj', 'pobj', 'nsubj', 'advmod', 'relcl'],\n",
       " ['pobj', 'compound', 'pobj', 'pobj', 'nsubj', 'advmod'],\n",
       " ['amod', 'pobj', 'compound', 'pobj', 'pobj', 'nsubj'],\n",
       " ['dobj', 'amod', 'pobj', 'compound', 'pobj', 'pobj'],\n",
       " ['relcl', 'dobj', 'amod', 'pobj', 'compound', 'pobj'],\n",
       " ['pobj', 'relcl', 'dobj', 'amod', 'pobj', 'compound'],\n",
       " ['dobj', 'pobj', 'relcl', 'dobj', 'amod', 'pobj'],\n",
       " ['dobj', 'pobj', 'pcomp', 'dobj', 'compound', 'pobj'],\n",
       " ['pobj', 'pcomp', 'dobj', 'compound', 'pobj', 'amod'],\n",
       " ['pcomp', 'dobj', 'compound', 'pobj', 'amod', 'pobj'],\n",
       " ['dobj', 'compound', 'pobj', 'amod', 'pobj', 'nsubj'],\n",
       " ['xcomp', 'compound', 'pobj', 'pobj', 'pobj', 'advmod'],\n",
       " ['dobj', 'xcomp', 'compound', 'pobj', 'pobj', 'pobj'],\n",
       " ['punct', 'dobj', 'xcomp', 'compound', 'pobj', 'pobj'],\n",
       " ['compound', 'punct', 'dobj', 'xcomp', 'compound', 'pobj'],\n",
       " ['acl', 'compound', 'punct', 'dobj', 'xcomp', 'compound'],\n",
       " ['dobj', 'acl', 'compound', 'punct', 'dobj', 'xcomp'],\n",
       " ['acl', 'dobj', 'acl', 'compound', 'punct', 'dobj'],\n",
       " ['appos', 'acl', 'dobj', 'acl', 'compound', 'punct'],\n",
       " ['nummod', 'appos', 'acl', 'dobj', 'acl', 'compound'],\n",
       " ['pobj', 'nummod', 'appos', 'acl', 'dobj', 'acl'],\n",
       " ['compound', 'pobj', 'nummod', 'appos', 'acl', 'dobj'],\n",
       " ['compound', 'compound', 'pobj', 'nummod', 'appos', 'acl'],\n",
       " ['pobj', 'compound', 'compound', 'pobj', 'nummod', 'appos'],\n",
       " ['dobj', 'pobj', 'compound', 'compound', 'pobj', 'nummod'],\n",
       " ['nsubj', 'dobj', 'pobj', 'compound', 'compound', 'pobj'],\n",
       " ['pobj', 'nsubj', 'dobj', 'pobj', 'compound', 'compound'],\n",
       " ['nsubj', 'pobj', 'nsubj', 'dobj', 'pobj', 'compound'],\n",
       " ['pobj', 'nsubj', 'pobj', 'nsubj', 'dobj', 'pobj'],\n",
       " ['amod', 'pobj', 'nsubj', 'pobj', 'nsubj', 'dobj'],\n",
       " ['pobj', 'amod', 'pobj', 'nsubj', 'pobj', 'nsubj'],\n",
       " ['compound', 'pobj', 'amod', 'pobj', 'nsubj', 'pobj'],\n",
       " ['compound', 'dobj', 'pobj', 'relcl', 'dobj', 'amod'],\n",
       " ['advcl', 'compound', 'dobj', 'pobj', 'relcl', 'dobj'],\n",
       " ['ccomp', 'advcl', 'compound', 'dobj', 'pobj', 'relcl'],\n",
       " ['advcl', 'pobj', 'nummod', 'advcl', 'pobj', 'acl'],\n",
       " ['pobj', 'pobj', 'advcl', 'pobj', 'nummod', 'advcl'],\n",
       " ['amod', 'pobj', 'conj', 'pobj', 'pobj', 'conj'],\n",
       " ['nsubjpass', 'amod', 'pobj', 'conj', 'pobj', 'pobj'],\n",
       " ['pobj', 'nsubjpass', 'amod', 'pobj', 'conj', 'pobj'],\n",
       " ['ccomp', 'pobj', 'nsubjpass', 'amod', 'pobj', 'conj'],\n",
       " ['nsubjpass', 'ccomp', 'pobj', 'nsubjpass', 'amod', 'pobj'],\n",
       " ['pobj', 'nsubjpass', 'ccomp', 'pobj', 'nsubjpass', 'amod'],\n",
       " ['nsubj', 'pobj', 'nsubjpass', 'ccomp', 'pobj', 'nsubjpass'],\n",
       " ['pobj', 'nsubj', 'pobj', 'nsubjpass', 'ccomp', 'pobj'],\n",
       " ['pobj', 'pobj', 'nsubj', 'pobj', 'nsubjpass', 'ccomp'],\n",
       " ['ROOT', 'pobj', 'pobj', 'nsubj', 'pobj', 'nsubjpass'],\n",
       " ['compound', 'nsubjpass', 'ccomp', 'dobj', 'ROOT', 'pobj'],\n",
       " ['compound', 'compound', 'nsubjpass', 'ccomp', 'dobj', 'ROOT'],\n",
       " ['advcl', 'compound', 'compound', 'nsubjpass', 'ccomp', 'dobj'],\n",
       " ['advcl', 'advcl', 'compound', 'compound', 'nsubjpass', 'ccomp'],\n",
       " ['advmod', 'advcl', 'advcl', 'compound', 'compound', 'nsubjpass'],\n",
       " ['ccomp', 'advmod', 'advcl', 'advcl', 'compound', 'compound'],\n",
       " ['advmod', 'ccomp', 'advmod', 'advcl', 'advcl', 'compound'],\n",
       " ['pobj', 'advmod', 'ccomp', 'advmod', 'advcl', 'advcl'],\n",
       " ['nsubjpass', 'pobj', 'advmod', 'ccomp', 'advmod', 'advcl'],\n",
       " ['ccomp', 'nsubjpass', 'pobj', 'advmod', 'ccomp', 'advmod'],\n",
       " ['pobj', 'advcl', 'pobj', 'nummod', 'advcl', 'pobj'],\n",
       " ['pobj', 'nummod', 'advcl', 'pobj', 'acl', 'nsubj'],\n",
       " ['ccomp', 'ccomp', 'advcl', 'compound', 'dobj', 'pobj'],\n",
       " ['nummod', 'advcl', 'pobj', 'acl', 'nsubj', 'ROOT'],\n",
       " ['aux', 'ccomp', 'ccomp', 'advcl', 'compound', 'dobj'],\n",
       " ['nsubj', 'aux', 'ccomp', 'ccomp', 'advcl', 'compound'],\n",
       " ['pobj', 'nsubj', 'aux', 'ccomp', 'ccomp', 'advcl'],\n",
       " ['advmod', 'pobj', 'nsubj', 'aux', 'ccomp', 'ccomp'],\n",
       " ['pobj', 'advmod', 'pobj', 'nsubj', 'aux', 'ccomp'],\n",
       " ['amod', 'pobj', 'advmod', 'pobj', 'nsubj', 'aux'],\n",
       " ['pobj', 'amod', 'pobj', 'advmod', 'pobj', 'nsubj'],\n",
       " ['amod', 'pobj', 'amod', 'pobj', 'advmod', 'pobj'],\n",
       " ['ROOT', 'amod', 'pobj', 'amod', 'pobj', 'advmod'],\n",
       " ['advmod', 'ROOT', 'amod', 'pobj', 'amod', 'pobj'],\n",
       " ['pobj', 'compound', 'pobj', 'amod', 'compound', 'pobj'],\n",
       " ['attr', 'pobj', 'compound', 'pobj', 'amod', 'compound'],\n",
       " ['amod', 'attr', 'pobj', 'compound', 'pobj', 'amod'],\n",
       " ['nsubj', 'amod', 'attr', 'pobj', 'compound', 'pobj'],\n",
       " ['amod', 'nsubj', 'amod', 'attr', 'pobj', 'compound'],\n",
       " ['nummod', 'amod', 'nsubj', 'amod', 'attr', 'pobj'],\n",
       " ['nummod', 'nummod', 'amod', 'nsubj', 'amod', 'attr'],\n",
       " ['amod', 'nummod', 'nummod', 'amod', 'nsubj', 'amod'],\n",
       " ['ROOT', 'amod', 'nummod', 'nummod', 'amod', 'nsubj'],\n",
       " ['pobj', 'acl', 'nsubj', 'ROOT', 'dobj', 'pobj'],\n",
       " ['advcl', 'pobj', 'acl', 'nsubj', 'ROOT', 'dobj'],\n",
       " ['compound', 'pobj', 'pobj', 'pobj', 'advmod', 'amod'],\n",
       " ['pobj', 'pobj', 'advmod', 'amod', 'nsubj', 'pobj'],\n",
       " ['attr', 'acl', 'pobj', 'acl', 'dobj', 'conj'],\n",
       " ['nummod', 'appos', 'ROOT', 'compound', 'compound', 'ccomp'],\n",
       " ['attr', 'conj', 'pobj', 'pcomp', 'dobj', 'pobj'],\n",
       " ['aux', 'attr', 'conj', 'pobj', 'pcomp', 'dobj'],\n",
       " ['relcl', 'aux', 'attr', 'conj', 'pobj', 'pcomp'],\n",
       " ['nsubj', 'relcl', 'aux', 'attr', 'conj', 'pobj'],\n",
       " ['dobj', 'nsubj', 'relcl', 'aux', 'attr', 'conj'],\n",
       " ['ccomp', 'dobj', 'nsubj', 'relcl', 'aux', 'attr'],\n",
       " ['compound', 'ccomp', 'dobj', 'nsubj', 'relcl', 'aux'],\n",
       " ['compound', 'compound', 'ccomp', 'dobj', 'nsubj', 'relcl'],\n",
       " ['ROOT', 'compound', 'compound', 'ccomp', 'dobj', 'nsubj'],\n",
       " ['appos', 'ROOT', 'compound', 'compound', 'ccomp', 'dobj'],\n",
       " ['npadvmod', 'nummod', 'appos', 'ROOT', 'compound', 'compound'],\n",
       " ['pobj', 'advmod', 'amod', 'nsubj', 'pobj', 'pobj'],\n",
       " ['nummod', 'npadvmod', 'nummod', 'appos', 'ROOT', 'compound'],\n",
       " ['acl', 'nummod', 'npadvmod', 'nummod', 'appos', 'ROOT'],\n",
       " ['pobj', 'acl', 'nummod', 'npadvmod', 'nummod', 'appos'],\n",
       " ['nsubj', 'pobj', 'acl', 'nummod', 'npadvmod', 'nummod'],\n",
       " ['pobj', 'acl', 'compound', 'compound', 'compound', 'pobj'],\n",
       " ['pobj', 'pobj', 'acl', 'compound', 'compound', 'compound'],\n",
       " ['dobj', 'pobj', 'pobj', 'acl', 'compound', 'compound'],\n",
       " ['acl', 'dobj', 'pobj', 'pobj', 'acl', 'compound'],\n",
       " ['compound', 'acl', 'dobj', 'pobj', 'pobj', 'acl'],\n",
       " ['compound', 'compound', 'acl', 'dobj', 'pobj', 'pobj'],\n",
       " ['conj', 'pobj', 'pcomp', 'dobj', 'pobj', 'pobj'],\n",
       " ['pobj', 'pcomp', 'dobj', 'pobj', 'pobj', 'amod'],\n",
       " ['pcomp', 'dobj', 'pobj', 'pobj', 'amod', 'conj'],\n",
       " ['dobj', 'pobj', 'pobj', 'amod', 'conj', 'pobj'],\n",
       " ['advcl', 'attr', 'acl', 'pobj', 'acl', 'dobj'],\n",
       " ['pobj', 'advcl', 'attr', 'acl', 'pobj', 'acl'],\n",
       " ['pobj', 'pobj', 'advcl', 'attr', 'acl', 'pobj'],\n",
       " ['pobj', 'pobj', 'pobj', 'advcl', 'attr', 'acl'],\n",
       " ['nummod', 'pobj', 'pobj', 'pobj', 'advcl', 'attr'],\n",
       " ['prep', 'nummod', 'pobj', 'pobj', 'pobj', 'advcl'],\n",
       " ['npadvmod', 'prep', 'nummod', 'pobj', 'pobj', 'pobj'],\n",
       " ['punct', 'npadvmod', 'prep', 'nummod', 'pobj', 'pobj'],\n",
       " ['pobj', 'punct', 'npadvmod', 'prep', 'nummod', 'pobj'],\n",
       " ['dobj', 'pobj', 'punct', 'npadvmod', 'prep', 'nummod'],\n",
       " ['ROOT', 'dobj', 'pobj', 'punct', 'npadvmod', 'prep'],\n",
       " ['relcl', 'advcl', 'poss', 'dobj', 'acl', 'dobj'],\n",
       " ['dobj', 'relcl', 'advcl', 'poss', 'dobj', 'acl'],\n",
       " ['amod', 'dobj', 'relcl', 'advcl', 'poss', 'dobj'],\n",
       " ['xcomp', 'amod', 'dobj', 'relcl', 'advcl', 'poss'],\n",
       " ['acomp', 'xcomp', 'amod', 'dobj', 'relcl', 'advcl'],\n",
       " ['nummod', 'acomp', 'xcomp', 'amod', 'dobj', 'relcl'],\n",
       " ['ROOT', 'dobj', 'pobj', 'conj', 'advmod', 'dobj'],\n",
       " ['nsubj', 'ROOT', 'dobj', 'pobj', 'conj', 'advmod'],\n",
       " ['advmod', 'nsubj', 'ROOT', 'dobj', 'pobj', 'conj'],\n",
       " ['advmod', 'advmod', 'nsubj', 'ROOT', 'dobj', 'pobj'],\n",
       " ['prep', 'compound', 'compound', 'acl', 'dobj', 'pobj'],\n",
       " ['attr', 'prep', 'compound', 'compound', 'acl', 'dobj'],\n",
       " ['pobj', 'attr', 'prep', 'compound', 'compound', 'acl'],\n",
       " ['case', 'amod', 'pobj', 'pobj', 'acl', 'nummod'],\n",
       " ['pobj', 'poss', 'case', 'amod', 'pobj', 'pobj'],\n",
       " ['nmod', 'pobj', 'poss', 'case', 'amod', 'pobj'],\n",
       " ['pobj', 'nmod', 'pobj', 'poss', 'case', 'amod'],\n",
       " ['pobj', 'pobj', 'nmod', 'pobj', 'poss', 'case'],\n",
       " ['pobj', 'pobj', 'pobj', 'nmod', 'pobj', 'poss'],\n",
       " ['pobj', 'pobj', 'pobj', 'pobj', 'nmod', 'pobj'],\n",
       " ['dobj', 'pobj', 'pobj', 'pobj', 'pobj', 'nmod'],\n",
       " ['ROOT', 'dobj', 'pobj', 'pobj', 'pobj', 'pobj'],\n",
       " ['nsubj', 'ROOT', 'dobj', 'pobj', 'pobj', 'pobj'],\n",
       " ['nsubj', 'compound', 'pobj', 'attr', 'compound', 'pobj'],\n",
       " ['pobj', 'nsubj', 'compound', 'pobj', 'attr', 'compound'],\n",
       " ['advmod', 'pobj', 'nsubj', 'compound', 'pobj', 'attr'],\n",
       " ['pobj', 'advmod', 'pobj', 'nsubj', 'compound', 'pobj'],\n",
       " ['acomp', 'pobj', 'advmod', 'pobj', 'nsubj', 'compound'],\n",
       " ['pobj', 'acomp', 'pobj', 'advmod', 'pobj', 'nsubj'],\n",
       " ['nsubj', 'pobj', 'acomp', 'pobj', 'advmod', 'pobj'],\n",
       " ['pobj', 'nsubj', 'pobj', 'acomp', 'pobj', 'advmod'],\n",
       " ['pobj', 'pobj', 'nsubj', 'pobj', 'acomp', 'pobj'],\n",
       " ['nsubj', 'pobj', 'pobj', 'nsubj', 'pobj', 'acomp'],\n",
       " ['amod', 'nsubj', 'pobj', 'pobj', 'nsubj', 'pobj'],\n",
       " ['advmod', 'amod', 'nsubj', 'pobj', 'pobj', 'nsubj'],\n",
       " ['poss', 'case', 'amod', 'pobj', 'pobj', 'acl'],\n",
       " ['amod', 'pobj', 'pobj', 'acl', 'nummod', 'npadvmod'],\n",
       " ['compound', 'pobj', 'nsubjpass', 'aux', 'ROOT', 'pobj'],\n",
       " ['pobj', 'pobj', 'acl', 'nummod', 'npadvmod', 'nummod'],\n",
       " ['npadvmod', 'compound', 'pobj', 'nsubjpass', 'aux', 'ROOT'],\n",
       " ['pcomp', 'compound', 'dobj', 'conj', 'aux', 'acl'],\n",
       " ['pobj', 'pcomp', 'compound', 'dobj', 'conj', 'aux'],\n",
       " ['dobj', 'pobj', 'pcomp', 'compound', 'dobj', 'conj'],\n",
       " ['ROOT', 'dobj', 'pobj', 'pcomp', 'compound', 'dobj'],\n",
       " ['nsubj', 'ROOT', 'dobj', 'pobj', 'pcomp', 'compound'],\n",
       " ['pobj', 'nsubj', 'ROOT', 'dobj', 'pobj', 'pcomp'],\n",
       " ['pobj', 'ccomp', 'pcomp', 'amod', 'dobj', 'amod'],\n",
       " ['compound', 'pobj', 'ccomp', 'pcomp', 'amod', 'dobj'],\n",
       " ['nsubjpass', 'compound', 'pobj', 'ccomp', 'pcomp', 'amod'],\n",
       " ['pobj', 'nsubjpass', 'compound', 'pobj', 'ccomp', 'pcomp'],\n",
       " ['pobj', 'pobj', 'nsubjpass', 'compound', 'pobj', 'ccomp'],\n",
       " ['dobj', 'pobj', 'pobj', 'nsubjpass', 'compound', 'pobj'],\n",
       " ['conj', 'dobj', 'pobj', 'pobj', 'nsubjpass', 'compound'],\n",
       " ['pobj', 'conj', 'dobj', 'pobj', 'pobj', 'nsubjpass'],\n",
       " ['pobj', 'pobj', 'conj', 'dobj', 'pobj', 'pobj'],\n",
       " ['nummod', 'pobj', 'pobj', 'conj', 'dobj', 'pobj'],\n",
       " ['npadvmod', 'nummod', 'pobj', 'pobj', 'conj', 'dobj'],\n",
       " ['nummod', 'npadvmod', 'nummod', 'pobj', 'pobj', 'conj'],\n",
       " ['acl', 'nummod', 'npadvmod', 'nummod', 'pobj', 'pobj'],\n",
       " ['pobj', 'acl', 'nummod', 'npadvmod', 'nummod', 'pobj'],\n",
       " ['nsubj', 'ccomp', 'nsubjpass', 'pobj', 'advmod', 'ccomp']]"
      ]
     },
     "execution_count": 17,
     "metadata": {},
     "output_type": "execute_result"
    }
   ],
   "source": [
    "pat_collection=[i[0] for i in freq_pat]\n",
    "pat_collection"
   ]
  },
  {
   "cell_type": "markdown",
   "metadata": {},
   "source": [
    "### This pickle file contains count of elements in each class"
   ]
  },
  {
   "cell_type": "code",
   "execution_count": 18,
   "metadata": {
    "collapsed": true
   },
   "outputs": [
    {
     "data": {
      "text/plain": [
       "{'ratio.pickle': {'ccomp': 11,\n",
       "  'dobj': 41,\n",
       "  'advcl': 20,\n",
       "  'acomp': 9,\n",
       "  'amod': 35,\n",
       "  'pobj': 104,\n",
       "  'compound': 47,\n",
       "  'nsubj': 21,\n",
       "  'conj': 41,\n",
       "  'attr': 7,\n",
       "  'pcomp': 8,\n",
       "  'xcomp': 11,\n",
       "  'poss': 13,\n",
       "  'case': 11,\n",
       "  'relcl': 14,\n",
       "  'advmod': 11,\n",
       "  'ROOT': 18,\n",
       "  'acl': 24,\n",
       "  'appos': 19,\n",
       "  'nsubjpass': 12,\n",
       "  'prep': 5,\n",
       "  'quantmod': 4,\n",
       "  'nummod': 3,\n",
       "  'aux': 8,\n",
       "  'meta': 1},\n",
       " 'facts.pickle': {'conj': 46,\n",
       "  'ccomp': 32,\n",
       "  'pcomp': 18,\n",
       "  'amod': 56,\n",
       "  'dobj': 51,\n",
       "  'pobj': 88,\n",
       "  'attr': 22,\n",
       "  'nsubj': 56,\n",
       "  'advcl': 4,\n",
       "  'nsubjpass': 24,\n",
       "  'ROOT': 25,\n",
       "  'advmod': 25,\n",
       "  'acl': 21,\n",
       "  'compound': 49,\n",
       "  'acomp': 15,\n",
       "  'aux': 16,\n",
       "  'relcl': 14,\n",
       "  'nummod': 15,\n",
       "  'npadvmod': 1,\n",
       "  'poss': 6,\n",
       "  'case': 4,\n",
       "  'appos': 3,\n",
       "  'xcomp': 6,\n",
       "  'prep': 3},\n",
       " 'decision.pickle': {'acl': 33,\n",
       "  'pobj': 146,\n",
       "  'dobj': 68,\n",
       "  'conj': 21,\n",
       "  'relcl': 19,\n",
       "  'ccomp': 46,\n",
       "  'advcl': 43,\n",
       "  'advmod': 25,\n",
       "  'amod': 27,\n",
       "  'nsubj': 36,\n",
       "  'compound': 59,\n",
       "  'punct': 10,\n",
       "  'xcomp': 7,\n",
       "  'appos': 9,\n",
       "  'nummod': 35,\n",
       "  'nsubjpass': 23,\n",
       "  'ROOT': 17,\n",
       "  'aux': 16,\n",
       "  'attr': 16,\n",
       "  'pcomp': 9,\n",
       "  'npadvmod': 13,\n",
       "  'prep': 8,\n",
       "  'poss': 7,\n",
       "  'acomp': 2,\n",
       "  'case': 3,\n",
       "  'nmod': 4},\n",
       " 'arguments.pickle': {'pobj': 106,\n",
       "  'amod': 40,\n",
       "  'advmod': 59,\n",
       "  'aux': 15,\n",
       "  'advcl': 14,\n",
       "  'nsubj': 37,\n",
       "  'conj': 11,\n",
       "  'attr': 5,\n",
       "  'acl': 20,\n",
       "  'compound': 42,\n",
       "  'nsubjpass': 4,\n",
       "  'ROOT': 13,\n",
       "  'nummod': 15,\n",
       "  'npadvmod': 2,\n",
       "  'relcl': 6,\n",
       "  'dobj': 16,\n",
       "  'poss': 3,\n",
       "  'case': 3,\n",
       "  'acomp': 21,\n",
       "  'appos': 2,\n",
       "  'mark': 11,\n",
       "  'ccomp': 9,\n",
       "  'xcomp': 5,\n",
       "  'det': 5,\n",
       "  'nmod': 6,\n",
       "  'prep': 5,\n",
       "  'pcomp': 5},\n",
       " 'identify.pickle': {'compound': 217,\n",
       "  'pobj': 218,\n",
       "  'appos': 125,\n",
       "  'nsubj': 41,\n",
       "  'nummod': 56,\n",
       "  'acl': 36,\n",
       "  'nmod': 33,\n",
       "  'dobj': 42,\n",
       "  'conj': 60,\n",
       "  'ccomp': 12,\n",
       "  'prep': 14,\n",
       "  'mark': 5,\n",
       "  'attr': 13,\n",
       "  'amod': 69,\n",
       "  'acomp': 11,\n",
       "  'relcl': 20,\n",
       "  'npadvmod': 16,\n",
       "  'pcomp': 1,\n",
       "  'ROOT': 27,\n",
       "  'advmod': 17,\n",
       "  'dep': 6,\n",
       "  'advcl': 27,\n",
       "  'nsubjpass': 6,\n",
       "  'meta': 1,\n",
       "  'det': 4,\n",
       "  'aux': 9}}"
      ]
     },
     "execution_count": 18,
     "metadata": {},
     "output_type": "execute_result"
    }
   ],
   "source": [
    "import pickle\n",
    "c= pickle.load(open(\"Second_phase_pickle/count_element.pickle\",\"rb\"))\n",
    "c"
   ]
  },
  {
   "cell_type": "markdown",
   "metadata": {},
   "source": [
    "### This is the input pattern ['nsubj', 'advmod', 'relcl', 'ccomp', 'advcl', 'dobj']"
   ]
  },
  {
   "cell_type": "code",
   "execution_count": 35,
   "metadata": {},
   "outputs": [
    {
     "name": "stdout",
     "output_type": "stream",
     "text": [
      "{'nsubj': {'x': 36, 'y': 155}, 'advmod': {'x': 25, 'y': 112}, 'relcl': {'x': 19, 'y': 54}, 'ccomp': {'x': 46, 'y': 64}, 'advcl': {'x': 43, 'y': 65}, 'dobj': {'x': 68, 'y': 150}}\n",
      "[{'nsubj': 2.110158923709228e-52, 'advmod': 1.660724686695485e-38, 'relcl': 6.328039277549997e-16, 'ccomp': 1.52584300207296e-08, 'advcl': 2.795838281946607e-10, 'dobj': 2.4634565319499017e-36}, 'nsubj']\n",
      "[[[{'nsubj': 1, 'ccomp': 1, 'pobj': 4, 'advmod': 1}, 'pobj'], 0]]\n"
     ]
    },
    {
     "data": {
      "text/plain": [
       "['pobj', 'advmod', 'relcl', 'ccomp', 'advcl', 'dobj']"
      ]
     },
     "execution_count": 35,
     "metadata": {},
     "output_type": "execute_result"
    }
   ],
   "source": [
    "pe.pattern_modify(pat_collection[14],pat_collection,'decision.pickle',c)"
   ]
  },
  {
   "cell_type": "markdown",
   "metadata": {},
   "source": [
    "###  This is the modified pattern ['pobj', 'advmod', 'relcl', 'ccomp', 'advcl', 'dobj'] using this new modified pattern we can tag new sentences using the pattern tagger function."
   ]
  }
 ],
 "metadata": {
  "kernelspec": {
   "display_name": "Python 3",
   "language": "python",
   "name": "python3"
  },
  "language_info": {
   "codemirror_mode": {
    "name": "ipython",
    "version": 3
   },
   "file_extension": ".py",
   "mimetype": "text/x-python",
   "name": "python",
   "nbconvert_exporter": "python",
   "pygments_lexer": "ipython3",
   "version": "3.6.8"
  }
 },
 "nbformat": 4,
 "nbformat_minor": 2
}
