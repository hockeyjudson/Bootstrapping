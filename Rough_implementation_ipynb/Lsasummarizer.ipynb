{
 "cells": [
  {
   "cell_type": "code",
   "execution_count": 1,
   "metadata": {
    "collapsed": true
   },
   "outputs": [],
   "source": [
    "from sumy.parsers.plaintext import PlaintextParser\n",
    "from sumy.nlp.tokenizers import Tokenizer\n",
    "from sumy.summarizers.lsa import LsaSummarizer as Summarizer\n",
    "from sumy.nlp.stemmers import Stemmer"
   ]
  },
  {
   "cell_type": "code",
   "execution_count": 3,
   "metadata": {
    "collapsed": false
   },
   "outputs": [],
   "source": [
    "parser = PlaintextParser.from_file(\"/home/judson/Desktop/Refined/Input/ScopeNew1BL41545713.txt\", Tokenizer(\"english\"))\n",
    "summarizer = Summarizer()"
   ]
  },
  {
   "cell_type": "code",
   "execution_count": 4,
   "metadata": {
    "collapsed": false
   },
   "outputs": [
    {
     "name": "stdout",
     "output_type": "stream",
     "text": [
      "Respondent&apos;s commander, Col. Conway, issued a policy directive on April 15, 1997, providing in pertinent part:d. E-mail shall not be used for:.\n",
      "Employees obtained a copy of this letter, initialed by Cooper indicating that she received it on January 27, 1998.\n",
      "As of today myself or MSG Hill will review all AFGE messages prior to posting.General Counsel&apos;s Exh.\n",
      "And the Union was not notified nor provided an opportunity to bargain.General Counsel&apos;s Exh.\n",
      "And the Union was not notified nor provided an opportunity to bargain.General Counsel&apos;s Exh.\n",
      "He also found that the description of \"a senior military officer, in the military environment of Respondent\" was derogatory, annoying, constituted harassment, \"and was offensive to Colonel Cannon, personally, and to Respondent in general.\"\n",
      "n6 n6 We note that the reference to \"loose Cannon\" would likely be protected in other labor relations contexts, such as \"robust debate.\"\n",
      "There is no occasion, therefore, to address whether this precedent correctly construes and applies section 7116(a)(1) of the Statute.\n",
      "Respondent Army Reserve Personnel Command&apos;s automated communications is provided by Information Support Activity, ISA (Tr.\n",
      "3), Colonel Timothy W. Cannon, Deputy Chief of Staff for Personnel, Administration and Logistics, replied to Ms. Cooper&apos;s January 12, 1998, \".\n",
      "Ms. Cooper testified that her notice to all employees of January 29, 1998, was removed from the Union electronic bulletin board (Tr.\n",
      "Major David Mingo, Information Support Activity &lsqb;ISA&rsqb;, Saint Louis, which supports, automation-wise, Respondent, testified that he was working late on January 29, 1998, when, at about 5:30 p.m., Major Boyd Collins, Public Affairs Officer for Respondent, came to his office and said, \".\n",
      "29 January 1800, MAJ Boyd Collins came to CCA and asked that a derogatory message be removed from AFGE&apos;s Bulletin board.\n",
      "As of today myself or MSG Hill will review all AFGE messages prior to posting.\"\n",
      "I have appointed James Shepherd, Ray Wilkins, and Martha Parsons (Trainee) as my designees for Union Grievances.\n",
      "I filed the grievance, however, because it didn&apos;t say that they would remove what we put up there.\"\n",
      "because it &lsqb;the Collective Bargaining Agreement&rsqb; didn&apos;t say that they would remove what we put up there.\"\n",
      "because it &lsqb;Agreement&rsqb; didn&apos;t say that they would remove what we put up there.\"\n",
      "that the Agency will censor it&apos;s (sic) Electronic Bulletin Board and remove whatever they deem necessary.\n",
      "( Army Finance, supra, 38 FLRA at 1351) (There, grievant, Acting Union Executive Vice President, received a ten day suspension for asserted offensive or abusive language.\n"
     ]
    }
   ],
   "source": [
    "summary = summarizer(parser.document, 20) \n",
    "for sentence in summary:\n",
    "    print sentence"
   ]
  },
  {
   "cell_type": "code",
   "execution_count": 5,
   "metadata": {
    "collapsed": false
   },
   "outputs": [
    {
     "name": "stdout",
     "output_type": "stream",
     "text": [
      "Respondent&apos;s commander, Col. Conway, issued a policy directive on April 15, 1997, providing in pertinent part:d. E-mail shall not be used for:.\n",
      "n6 n6 We note that the reference to \"loose Cannon\" would likely be protected in other labor relations contexts, such as \"robust debate.\"\n",
      "There is no occasion, therefore, to address whether this precedent correctly construes and applies section 7116(a)(1) of the Statute.\n",
      "3), Colonel Timothy W. Cannon, Deputy Chief of Staff for Personnel, Administration and Logistics, replied to Ms. Cooper&apos;s January 12, 1998, \".\n",
      "Ms. Cooper testified that her notice to all employees of January 29, 1998, was removed from the Union electronic bulletin board (Tr.\n",
      "29 January 1800, MAJ Boyd Collins came to CCA and asked that a derogatory message be removed from AFGE&apos;s Bulletin board.\n",
      "I filed the grievance, however, because it didn&apos;t say that they would remove what we put up there.\"\n",
      "because it &lsqb;the Collective Bargaining Agreement&rsqb; didn&apos;t say that they would remove what we put up there.\"\n",
      "that the Agency will censor it&apos;s (sic) Electronic Bulletin Board and remove whatever they deem necessary.\n",
      "( Army Finance, supra, 38 FLRA at 1351) (There, grievant, Acting Union Executive Vice President, received a ten day suspension for asserted offensive or abusive language.\n"
     ]
    }
   ],
   "source": [
    "summary = summarizer(parser.document, 10) \n",
    "for sentence in summary:\n",
    "    print sentence"
   ]
  }
 ],
 "metadata": {
  "kernelspec": {
   "display_name": "Python 2",
   "language": "python",
   "name": "python2"
  },
  "language_info": {
   "codemirror_mode": {
    "name": "ipython",
    "version": 2
   },
   "file_extension": ".py",
   "mimetype": "text/x-python",
   "name": "python",
   "nbconvert_exporter": "python",
   "pygments_lexer": "ipython2",
   "version": "2.7.13"
  }
 },
 "nbformat": 4,
 "nbformat_minor": 0
}
