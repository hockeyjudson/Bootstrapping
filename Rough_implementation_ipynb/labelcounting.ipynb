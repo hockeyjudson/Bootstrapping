{
 "cells": [
  {
   "cell_type": "code",
   "execution_count": 1,
   "metadata": {},
   "outputs": [
    {
     "name": "stdout",
     "output_type": "stream",
     "text": [
      "['06_49.txt', '06_114.txt', '06_110.txt', '06_89.txt', '06_97.txt', '06_46.txt', '06_57.txt', '06_51.txt', '06_86.txt', '06_112.txt', '06_44.txt', '06_36.txt', '06_43.txt', '06_152.txt', '06_175.txt', '06_88.txt', '06_35.txt', '06_131.txt', '06_136.txt', '06_157.txt', '06_34.txt', '06_171.txt', '06_63.txt', '06_50.txt', '06_121.txt', '06_54.txt', '06_134.txt', '06_78.txt', '06_167.txt', '06_87.txt', '06_54.txt~', '06_125.txt', '06_58.txt', '06_148.txt', '06_136.txt~', '06_37.txt', '06_143.txt', '06_18.txt', '06_39.txt', '06_31.txt', '06_129.txt', '06_122.txt', '06_96.txt', '06_137.txt', '06_60.txt', '06_124.txt', '06_85.txt', '06_40.txt', '06_13.txt', '06_28.txt', '06_9.txt', '06_100.txt', '06_77.txt', '06_92.txt', '06_47.txt', '06_6.txt', '06_26.txt', '06_11.txt', '06_102.txt', '06_128.txt', '06_173.txt', '06_159.txt', '06_139.txt', '06_33.txt']\n"
     ]
    }
   ],
   "source": [
    "from os import walk\n",
    "fs=[]\n",
    "for (dp,dn,fn) in walk(\"/home/judson/Desktop/sentenceSeg/SentSegTest/\"):\n",
    "    fs.extend(fn)\n",
    "print(fs)"
   ]
  },
  {
   "cell_type": "code",
   "execution_count": 4,
   "metadata": {},
   "outputs": [],
   "source": [
    "def label_count(fn):\n",
    "    label=lb\n",
    "    file_name=\"/home/judson/Desktop/sentenceSeg/SentSegTest/\"\n",
    "    txt=open(file_name+fn,\"r\")\n",
    "    txt=txt.readlines()\n",
    "    l=[]\n",
    "    for j in txt:\n",
    "        k=j.strip().split()\n",
    "        if len(k)>3:\n",
    "            if k[-1]==label:\n",
    "                l.append(j)\n",
    "    return l"
   ]
  },
  {
   "cell_type": "code",
   "execution_count": 5,
   "metadata": {},
   "outputs": [],
   "source": [
    "#parallel processing implementation\n",
    "\n",
    "roles=[\"<arguments>\",\"<facts>\",\"<decision>\",\"<ratio>\",\"<identify>\",\"<IDENTIFY>\",\"<ARGUMENTS>\",\"<FACTS>\",\"<DECISION>\",\"<RATIO>\"]\n",
    "dl={}\n",
    "for i in roles:\n",
    "    lb=i\n",
    "    import concurrent.futures\n",
    "    s=concurrent.futures.ProcessPoolExecutor()\n",
    "    for j in s.map(label_count,fs):\n",
    "        if j!=[]:\n",
    "            #print(j)\n",
    "            if i not in dl:\n",
    "                dl[i]=j\n",
    "            else:\n",
    "                dl[i].extend(j)"
   ]
  },
  {
   "cell_type": "code",
   "execution_count": 8,
   "metadata": {},
   "outputs": [
    {
     "name": "stdout",
     "output_type": "stream",
     "text": [
      "<arguments> : 10\n",
      "<facts> : 46\n",
      "<decision> : 5\n",
      "<identify> : 4\n",
      "<IDENTIFY> : 103\n",
      "<ARGUMENTS> : 424\n",
      "<FACTS> : 31\n",
      "<DECISION> : 229\n",
      "<RATIO> : 44\n"
     ]
    }
   ],
   "source": [
    "for i, j in dl.items():\n",
    "    print(i,\":\",len(j))"
   ]
  }
 ],
 "metadata": {
  "kernelspec": {
   "display_name": "Python 3",
   "language": "python",
   "name": "python3"
  },
  "language_info": {
   "codemirror_mode": {
    "name": "ipython",
    "version": 3
   },
   "file_extension": ".py",
   "mimetype": "text/x-python",
   "name": "python",
   "nbconvert_exporter": "python",
   "pygments_lexer": "ipython3",
   "version": "3.6.5"
  }
 },
 "nbformat": 4,
 "nbformat_minor": 2
}
