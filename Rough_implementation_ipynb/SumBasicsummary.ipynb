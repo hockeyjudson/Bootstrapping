{
 "cells": [
  {
   "cell_type": "code",
   "execution_count": 2,
   "metadata": {
    "collapsed": false
   },
   "outputs": [],
   "source": [
    "from sumy.parsers.plaintext import PlaintextParser\n",
    "from sumy.nlp.tokenizers import Tokenizer\n",
    "from sumy.summarizers import sum_basic\n",
    "from sumy.nlp.stemmers import Stemmer"
   ]
  },
  {
   "cell_type": "code",
   "execution_count": 3,
   "metadata": {
    "collapsed": true
   },
   "outputs": [],
   "source": [
    "parser = PlaintextParser.from_file(\"/home/judson/Desktop/Refined/Input/ScopeNew1BL41545713.txt\", Tokenizer(\"english\"))\n",
    "summarizer = sum_basic.SumBasicSummarizer()"
   ]
  },
  {
   "cell_type": "code",
   "execution_count": 4,
   "metadata": {
    "collapsed": false
   },
   "outputs": [
    {
     "name": "stdout",
     "output_type": "stream",
     "text": [
      "1 at 3.\n",
      "promotions.\n",
      "I removed the message.2.\n",
      ".Respondent&apos;s Exh.\n",
      "Tr.\n",
      "The AFGE Bulletin &lsqb;board&rsqb; has NEVER been screened before.\n",
      "Complaint, General Counsel&apos;s Exh.\n",
      "n4 Id.\n",
      "Positions of the PartiesA.\n",
      "Respondent&apos;s Exh.\n",
      "D(7)).\n",
      "In asserting that \"the evidence .\n",
      "As this claim was not litigated, however, it is not properly before the Authority for resolution.\n",
      "13), which unit contains about 1100 employees, including employees of the Army Reserve Personnel Command (Tr.\n",
      "By letter dated January 26, 1998 n3 (G.C.\n",
      "Major Mingo stated that, \".\n",
      "Ms. Cooper testified,\".\n",
      "what we put up there.\"\n",
      "On February 11, 1988, ULP charge filed and on February 25, 1988, grievances were filed.\n",
      "Union message violated Policy on E-Mail use.\n"
     ]
    }
   ],
   "source": [
    "summary = summarizer(parser.document, 20) \n",
    "for sentence in summary:\n",
    "    print sentence"
   ]
  },
  {
   "cell_type": "code",
   "execution_count": 5,
   "metadata": {
    "collapsed": false
   },
   "outputs": [
    {
     "name": "stdout",
     "output_type": "stream",
     "text": [
      "1 at 3.\n",
      "I removed the message.2.\n",
      ".Respondent&apos;s Exh.\n",
      "Tr.\n",
      "Positions of the PartiesA.\n",
      "In asserting that \"the evidence .\n",
      "As this claim was not litigated, however, it is not properly before the Authority for resolution.\n",
      "By letter dated January 26, 1998 n3 (G.C.\n",
      "Ms. Cooper testified,\".\n",
      "Union message violated Policy on E-Mail use.\n"
     ]
    }
   ],
   "source": [
    "summary = summarizer(parser.document, 10) \n",
    "for sentence in summary:\n",
    "    print sentence"
   ]
  }
 ],
 "metadata": {
  "kernelspec": {
   "display_name": "Python 2",
   "language": "python",
   "name": "python2"
  },
  "language_info": {
   "codemirror_mode": {
    "name": "ipython",
    "version": 2
   },
   "file_extension": ".py",
   "mimetype": "text/x-python",
   "name": "python",
   "nbconvert_exporter": "python",
   "pygments_lexer": "ipython2",
   "version": "2.7.13"
  }
 },
 "nbformat": 4,
 "nbformat_minor": 0
}
