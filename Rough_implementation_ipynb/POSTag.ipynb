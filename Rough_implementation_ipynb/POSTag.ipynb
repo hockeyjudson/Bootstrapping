{
 "cells": [
  {
   "cell_type": "code",
   "execution_count": 4,
   "metadata": {
    "collapsed": false
   },
   "outputs": [],
   "source": [
    "from nltk import tokenize\n",
    "import nltk"
   ]
  },
  {
   "cell_type": "code",
   "execution_count": 2,
   "metadata": {
    "collapsed": false
   },
   "outputs": [
    {
     "data": {
      "text/plain": [
       "[\"7 provided, inter alia, that where the mortgagee's consent is required under the mortgage it was not valid unless expressly given in writing by the mortgagee.\\n\",\n",
       " \"The delegate explained his decision-making role to be to satisfy himself as follows: 'that the policy in place is legally valid, \\n\",\n",
       " 'As a result the opinion was not validly formed.\\n',\n",
       " \" '2(1) Service outside the Commonwealth of originating process is not valid under this Order unless --- \\n\",\n",
       " \"After a decision by a delegate of the Minister for Immigration and Multicultural and Indigenous Affairs ('the Minister') the Refugee Review Tribunal ('RRT') found the application was not valid because certain details had not been provided in the application.\\n\",\n",
       " \"The applicant's assertion that the delegate's decision was not valid was not a question that could be addressed by the Federal Magistrates Court which has no jurisdiction to review the delegate's decision.\\n\",\n",
       " \"10 The Bar Council seeks a declaration that the meeting of Mr Abdul-Karim's creditors, purportedly held by Mr Eddy on 22 February 2006, was not validly convened; in the alternative, a declaration that that creditors' meeting was not validly adjourned.\\n\",\n",
       " \"He referred to Mr Conlan's contention that that meeting was not valid because of want of a quorum.\\n\",\n",
       " 'He pointed out that it is unlikely the judicial officer who made the order would have intended that some severable part of the order would be valid if other parts of it were not valid.\\n',\n",
       " 'Accordingly it was not validly included in the legislation.\\n',\n",
       " \" 'If the assignments were not valid, ownership of the loan book may revert to me as liquidator.\\n\",\n",
       " ' If the assignments were not valid, ownership of the loan books may revert to me as liquidator .\\n',\n",
       " 'Clause 21 of the LFA provided that any amendment or variation of the LFA was not valid unless it was in writing and signed by all the parties to the agreement.\\n',\n",
       " 'No challenge is made in the present proceedings that: the notices are not valid because it was not open to the examiner \" to be satisfied that it is reasonable in all the circumstances \" to issue the notices; the notices are not valid by reason of any failure to include any notation on the face of the notice as to the purpose for which the notice has been issued or the particular \" special ACC operation/investigation \" to which the documents sought are said to be relevant; or the notices are not authorised by s 29 because they require not the production of an existing \" document or thing \", but rather require the person served with the notice to go away and to produce a \" document or thing \" which otherwise does not exist so that it can thereafter be produced.\\n',\n",
       " 'He said that QR considered \"the preservation sought by National Rail under cl 5(b)(a) [sic] is not valid\".\\n',\n",
       " \"So far as the appeal is based upon the ground that the Tribunal went beyond the Regulations in applying the policy that there be an endorsement from a national body is concerned, the respondent did not make any submissions about the validity of the policy on the basis that even if it was not valid, the Tribunal's decision would still stand independently of any issue relating to the policy.\\n\",\n",
       " 'That distinction is not valid.\\n',\n",
       " 'He claimed that his passport was not valid for return to China because \"it must have been blacklisted\".\\n',\n",
       " 'It seems to me that if the resolution did not validly remove City Pacific and appoint a replacement, then it cannot be described as having been validly passed.\\n',\n",
       " '214 as legally valid, and that it confused the test of \"not generally acceptable in Australia\" with a test of \"unlawful in Australia\".\\n',\n",
       " 'I see no reason why s 7C(1)(e) means that a determination of the class or classes of the form of pars 2 and 3 of Sch 2 to the first Instrument was not valid.\\n',\n",
       " 'The decision therefore to cancel was not valid.\\n',\n",
       " 'As the learned Federal Magistrate correctly found that the Bankruptcy Notice was defective against Maria Dimasi he could not validly then find she was liable in costs to the Creditor.\\n',\n",
       " ' Professor Banwell pointed out that Professor Davies had been using a simplified model that did not incorporate the substituents, and that this led Professor Davies to an analysis that was not valid.\\n',\n",
       " '6 In par 14 of his statement of claim Mr Parkin alleges that the adverse security assessment was not validly made because:\\n',\n",
       " ' I would be grateful if you could --- if necessary or desirable as you see fit --- draw this to the attention of the Prosecutor, although I note in his presentation he submitted to the court that the Request was legally valid.\\n',\n",
       " \"1 of Chapter 5C of the Corporations Act 2001 (Cth) ('the Act') were not validly passed and were defeated: \\n\",\n",
       " 'Sixth, the fact that the Commissioner accepted that the increased duty would need to be re-payed if Parliament did not validate the Excise Tariff alteration does not lead to any different construction of s 114.\\n',\n",
       " 'It is also common ground that the grants were not validated by subsequent amendments to the NTA .\\n',\n",
       " \"The freehold grants were future acts that were not validated by any provision of the NTA , with the result that they were impermissible future acts under the NTA as originally enacted and appear to be invalid to the extent that they affect native title: see Neowarra v State of Western Australia [2003] FCA 1402 (' Neowarra ') at [586].\\n\",\n",
       " 'It must follow that the problem created by the State by its 140 freehold grants, which were not validated by the NTA , will still have to be resolved by the relevant parties.\\n',\n",
       " \"The Yawuru claimants then claimed that, because 'public purposes' was not a purpose specified in reg 29, the reserve was not validly created.\\n\",\n",
       " 'The Tribunal accordingly found that the first protection visa applications were not valid and that the later application, lodged on 20 October 2005, was valid.\\n',\n",
       " '30 The Minister contended that the failure of the appellant to complete the form did not mean that the application was not valid.\\n',\n",
       " 'It follows that non-compliance by the Minister with s 47(3) does not mean that the decision to refuse to grant the visa is not valid.\\n',\n",
       " 'It was contended that the resolutions at the meetings were not validly put to the creditors or validly passed by them.\\n',\n",
       " '(2) the resolutions were not validly passed;\\n',\n",
       " '43 Declarations were sought that the procedural steps taken by the trustee were invalid; that the second proposal was a fresh proposal and not an amendment; attacking the resolutions; attacking the validity of the composition and attacking the validity of the annulment thereby; that the contract was not validly rescinded; that Labocus had an equitable interest; that there could be a variation of contract; and an order was sought, in effect, that the whole issue of what should occur should go back to creditors.\\n',\n",
       " \"It followed, so the respondent submitted, that the applicant's complaint is not valid when measured against the legislative purpose.\\n\",\n",
       " 'Another matter highlighted is the possibility of a defence on the basis that the patent was not validly granted because, it seems, of an allegation that the basis for the patent was nothing more than a reflection of common prior knowledge.\\n',\n",
       " ') The assignment is said to be for the removal of doubt in case the Indemnity Right did not form part of the \"Assigned Property\" and was not validly and enforceably assigned under either the original Deed of Assignment or the Supplementary Deed of Assignment.\\n',\n",
       " '3 The respondent contends that the first application was not valid because at the time it was made the applicant was subject to an administration order under the Guardianship and Administration Act 1990 (WA) (the Act).\\n',\n",
       " 'The respondent further contends that the second application is not valid because it is out of time and there is no power to extend time.\\n',\n",
       " 'Both Bowen CJ and Smithers J pointed out that a construction of s 25 of the AAT Act which required the decision the subject of an application before the tribunal for review to be legally valid and effective would create practical problems and inconvenience.\\n',\n",
       " '127 Only a court can decide authoritatively whether or not an administrative decision was legally valid or effective: Plantiff S157/2002 v The Commonwealth [2003] HCA 2 ; (2003) 211 CLR 476 at 505-506 [75] - [76] , 513-514 [104]; cf Minister for Immigration v Bhardwaj [2002']"
      ]
     },
     "execution_count": 2,
     "metadata": {},
     "output_type": "execute_result"
    }
   ],
   "source": [
    "f=open(\"/home/judson/Desktop/sentenceSeg/New/ratio_decision.txt\",\"r\")\n",
    "txt=f.readlines()\n",
    "txt"
   ]
  },
  {
   "cell_type": "code",
   "execution_count": 10,
   "metadata": {
    "collapsed": false
   },
   "outputs": [],
   "source": [
    "tf=\"/home/judson/Desktop/sentenceSeg/PosTagged/ratio_decision_pos.txt\"\n",
    "fw=open(tf,\"a\")\n",
    "for i in txt:\n",
    "    pt=nltk.pos_tag(tokenize.word_tokenize(i))\n",
    "    st=\" \".join(word+\"/\"+tag for word,tag in pt)\n",
    "    fw.writelines(st+\"\\n\")"
   ]
  },
  {
   "cell_type": "code",
   "execution_count": 11,
   "metadata": {
    "collapsed": true
   },
   "outputs": [],
   "source": [
    "f=open(\"/home/judson/Desktop/sentenceSeg/New/decision.txt\",\"r\")\n",
    "txt1=f.readlines()\n",
    "#txt1"
   ]
  },
  {
   "cell_type": "code",
   "execution_count": 12,
   "metadata": {
    "collapsed": true
   },
   "outputs": [],
   "source": [
    "tf=\"/home/judson/Desktop/sentenceSeg/PosTagged/decision_pos.txt\"\n",
    "fw=open(tf,\"a\")\n",
    "for i in txt1:\n",
    "    pt=nltk.pos_tag(tokenize.word_tokenize(i))\n",
    "    st=\" \".join(word+\"/\"+tag for word,tag in pt)\n",
    "    fw.writelines(st+\"\\n\")"
   ]
  },
  {
   "cell_type": "code",
   "execution_count": 13,
   "metadata": {
    "collapsed": true
   },
   "outputs": [],
   "source": [
    "f=open(\"/home/judson/Desktop/sentenceSeg/New/arguments.txt\",\"r\")\n",
    "txt2=f.readlines()\n",
    "#txt1"
   ]
  },
  {
   "cell_type": "code",
   "execution_count": 14,
   "metadata": {
    "collapsed": true
   },
   "outputs": [],
   "source": [
    "tf=\"/home/judson/Desktop/sentenceSeg/PosTagged/arguments_pos.txt\"\n",
    "fw=open(tf,\"a\")\n",
    "for i in txt2:\n",
    "    pt=nltk.pos_tag(tokenize.word_tokenize(i))\n",
    "    st=\" \".join(word+\"/\"+tag for word,tag in pt)\n",
    "    fw.writelines(st+\"\\n\")"
   ]
  },
  {
   "cell_type": "code",
   "execution_count": 15,
   "metadata": {
    "collapsed": true
   },
   "outputs": [],
   "source": [
    "f=open(\"/home/judson/Desktop/sentenceSeg/New/facts.txt\",\"r\")\n",
    "txt3=f.readlines()\n",
    "#txt1"
   ]
  },
  {
   "cell_type": "code",
   "execution_count": 16,
   "metadata": {
    "collapsed": true
   },
   "outputs": [],
   "source": [
    "tf=\"/home/judson/Desktop/sentenceSeg/PosTagged/facts_pos.txt\"\n",
    "fw=open(tf,\"a\")\n",
    "for i in txt3:\n",
    "    pt=nltk.pos_tag(tokenize.word_tokenize(i))\n",
    "    st=\" \".join(word+\"/\"+tag for word,tag in pt)\n",
    "    fw.writelines(st+\"\\n\")"
   ]
  }
 ],
 "metadata": {
  "kernelspec": {
   "display_name": "Python 2",
   "language": "python",
   "name": "python2"
  },
  "language_info": {
   "codemirror_mode": {
    "name": "ipython",
    "version": 2
   },
   "file_extension": ".py",
   "mimetype": "text/x-python",
   "name": "python",
   "nbconvert_exporter": "python",
   "pygments_lexer": "ipython2",
   "version": "2.7.13"
  }
 },
 "nbformat": 4,
 "nbformat_minor": 0
}
