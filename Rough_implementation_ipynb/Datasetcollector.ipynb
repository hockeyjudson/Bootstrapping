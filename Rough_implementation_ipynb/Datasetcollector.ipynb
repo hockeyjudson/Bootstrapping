{
 "cells": [
  {
   "cell_type": "code",
   "execution_count": 1,
   "metadata": {},
   "outputs": [
    {
     "name": "stdout",
     "output_type": "stream",
     "text": [
      "['06_1393.txt', '06_278.txt', '06_949.txt', '06_1509.txt', '06_1114.txt', '06_1202.txt', '06_848.txt', '06_684.txt', '06_1303.txt', '06_1230.txt', '06_1594.txt', '06_436.txt', '06_1308.txt', '06_1403.txt', '06_849.txt', '06_1142.txt', '06_1028.txt', '06_1438.txt', '06_555.txt', '06_897.txt', '06_481.txt', '06_941.txt', '06_1446.txt', '06_222.txt', '06_708.txt', '06_1529.txt', '06_918.txt', '06_737.txt', '06_1328.txt', '06_1535.txt', '06_1198.txt', '06_404.txt', '06_484.txt', '06_524.txt', '06_360.txt', '06_1418.txt', '06_1450.txt', '06_1268.txt', '06_1620.txt', '06_661.txt', '06_336.txt', '06_1443.txt', '06_1683.txt', '06_802.txt', '06_934.txt', '06_318.txt', '06_1517.txt', '06_916.txt', '06_754.txt', '06_1234.txt', '06_1220.txt', '06_1555.txt', '06_1706.txt', '06_1543.txt', '06_1601.txt', '06_818.txt', '06_1271.txt', '06_507.txt', '06_964.txt', '06_807.txt', '06_1546.txt', '06_882.txt', '06_267.txt', '06_443.txt', '06_582.txt', '06_1247.txt', '06_1614.txt', '06_49.txt', '06_1082.txt', '06_517.txt', '06_706.txt', '06_1163.txt', '06_1410.txt', '06_1110.txt', '06_1375.txt', '06_1551.txt', '06_826.txt', '06_1116.txt', '06_118.txt', '06_1237.txt', '06_1449.txt', '06_769.txt', '06_306.txt', '06_38.txt', '06_958.txt', '06_1405.txt', '06_1069.txt', '06_1070.txt', '06_1027.txt', '06_812.txt', '06_68.txt', '06_1033.txt', '06_506.txt', '06_107.txt', '06_1386.txt', '06_1243.txt', '06_71.txt', '06_1611.txt', '06_438.txt', '06_1362.txt', '06_724.txt', '06_1228.txt', '06_1078.txt', '06_176.txt', '06_1435.txt', '06_446.txt', '06_809.txt', '06_1409.txt', '06_1297.txt', '06_457.txt', '06_166.txt', '06_741.txt', '06_458.txt', '06_1301.txt', '06_618.txt', '06_996.txt', '06_715.txt', '06_25.txt', '06_328.txt', '06_178.txt', '06_1075.txt', '06_231.txt', '06_701.txt', '06_105.txt', '06_1652.txt', '06_1363.txt', '06_1554.txt', '06_114.txt', '06_1523.txt', '06_836.txt', '06_639.txt', '06_844.txt', '06_840.txt', '06_258.txt', '06_1141.txt', '06_17.txt', '06_8.txt', '06_979.txt', '06_110.txt', '06_760.txt', '06_14.txt', '06_450.txt', '06_1432.txt', '06_1200.txt', '06_739.txt', '06_657.txt', '06_847.txt', '06_163.txt', '06_1671.txt', '06_1199.txt', '06_895.txt', '06_1172.txt', '06_109.txt', '06_519.txt', '06_1346.txt', '06_1086.txt', '06_670.txt', '06_1259.txt', '06_254.txt', '06_21.txt', '06_868.txt', '06_907.txt', '06_1537.txt', '06_1257.txt', '06_1508.txt', '06_164.txt', '06_160.txt', '06_1229.txt', '06_151.txt', '06_494.txt', '06_517.txt~', '06_259.txt', '06_943.txt', '06_1334.txt', '06_1484.txt', '06_405.txt', '06_1374.txt', '06_1663.txt', '06_704.txt', '06_1242.txt', '06_696.txt', '06_981.txt', '06_1367.txt', '06_1180.txt', '06_1548.txt', '06_526.txt', '06_140.txt', '06_525.txt', '06_1442.txt', '06_1624.txt', '06_1402.txt', '06_885.txt', '06_1376.txt', '06_248.txt', '06_341.txt', '06_622.txt', '06_174.txt', '06_7.txt', '06_649.txt', '06_89.txt', '06_271.txt', '06_1289.txt', '06_1404.txt', '06_1022.txt', '06_425.txt', '06_12.txt', '06_1177.txt', '06_1630.txt', '06_735.txt', '06_302.txt', '06_1695.txt', '06_944.txt', '06_1285.txt', '06_1197.txt', '06_79.txt', '06_240.txt', '06_1338.txt', '06_935.txt', '06_713.txt', '06_1699.txt', '06_584.txt', '06_3.txt', '06_1113.txt', '06_783.txt', '06_466.txt', '06_399.txt', '06_1302.txt', '06_56.txt', '06_4.txt', '06_1134.txt', '06_700.txt', '06_52.txt', '06_626.txt', '06_1416.txt', '06_912.txt', '06_852.txt', '06_230.txt', '06_434.txt', '06_363.txt', '06_16.txt', '06_793.txt', '06_531.txt', '06_1532.txt', '06_1702.txt', '06_1540.txt', '06_1298.txt', '06_892.txt', '06_256.txt', '06_1098.txt', '06_1041.txt', '06_709.txt', '06_1318.txt', '06_884.txt', '06_1126.txt', '06_1119.txt', '06_761.txt', '06_470.txt', '06_91.txt', '06_407.txt', '06_1018.txt', '06_1072.txt', '06_901.txt', '06_322.txt', '06_1495.txt', '06_825.txt', '06_644.txt', '06_442.txt', '06_721.txt', '06_813.txt', '06_1369.txt', '06_498.txt', '06_1023.txt', '06_619.txt', '06_1066.txt', '06_209.txt', '06_925.txt', '06_1252.txt', '06_518.txt', '06_880.txt', '06_734.txt', '06_59.txt', '06_1254.txt', '06_316.txt', '06_808.txt', '06_1472.txt', '06_786.txt', '06_1071.txt', '06_1352.txt', '06_1707.txt', '06_1026.txt', '06_447.txt', '06_61.txt', '06_451.txt', '06_1021.txt', '06_933.txt', '06_1280.txt', '06_1169.txt', '06_774.txt', '06_94.txt', '06_1688.txt', '06_1170.txt', '06_1265.txt', '06_666.txt', '06_552.txt', '06_83.txt', '06_1598.txt', '06_445.txt', '06_937.txt', '06_1644.txt', '06_1320.txt', '06_627.txt', '06_394.txt', '06_660.txt', '06_269.txt', '06_533.txt', '06_540.txt', '06_1209.txt', '06_202.txt', '06_212.txt', '06_1361.txt', '06_516.txt', '06_1032.txt', '06_1079.txt', '06_632.txt', '06_1596.txt', '06_961.txt', '06_1046.txt', '06_816.txt', '06_449.txt', '06_396.txt', '06_1597.txt', '06_1448.txt', '06_686.txt', '06_1077.txt', '06_1260.txt', '06_15.txt', '06_1433.txt', '06_752.txt', '06_846.txt', '06_522.txt', '06_1576.txt', '06_872.txt', '06_1475.txt', '06_45.txt', '06_417.txt', '06_1545.txt', '06_97.txt', '06_288.txt', '06_1478.txt', '06_1612.txt', '06_1.txt', '06_1006.txt', '06_1625.txt', '06_766.txt', '06_828.txt', '06_896.txt', '06_573.txt', '06_327.txt', '06_32.txt', '06_455.txt', '06_1029.txt', '06_643.txt', '06_702.txt', '06_279.txt', '06_651.txt', '06_42.txt', '06_1642.txt', '06_1343.txt', '06_133.txt', '06_1015.txt', '06_1669.txt', '06_722.txt', '06_1447.txt', '06_1089.txt', '06_538.txt', '06_1462.txt', '06_1654.txt', '06_1335.txt', '06_315.txt', '06_224.txt', '06_1452.txt', '06_414.txt', '06_1267.txt', '06_1526.txt', '06_1226.txt', '06_1287.txt', '06_1615.txt', '06_1571.txt', '06_1534.txt', '06_1590.txt', '06_571.txt', '06_788.txt', '06_67.txt', '06_437.txt', '06_930.txt', '06_1552.txt', '06_1339.txt', '06_76.txt', '06_354.txt', '06_727.txt', '06_1340.txt', '06_591.txt', '06_814.txt', '06_1519.txt', '06_452.txt', '06_635.txt', '06_1290.txt', '06_1542.txt', '06_206.txt', '06_904.txt', '06_1646.txt', '06_1005.txt', '06_199.txt', '06_400.txt', '06_403.txt', '06_459.txt', '06_664.txt', '06_356.txt', '06_1420.txt', '06_1380.txt', '06_287.txt', '06_301.txt', '06_220.txt', '06_646.txt', '06_1648.txt', '06_221.txt', '06_1129.txt', '06_505.txt', '06_355.txt', '06_488.txt', '06_1181.txt', '06_1391.txt', '06_74.txt', '06_1106.txt', '06_1270.txt', '06_616.txt', '06_1291.txt', '06_1074.txt', '06_23.txt', '06_1327.txt', '06_1186.txt', '06_1616.txt', '06_607.txt', '06_314.txt', '06_888.txt', '06_1505.txt', '06_218.txt', '06_980.txt', '06_532.txt', '06_242.txt', '06_1619.txt', '06_1458.txt', '06_695.txt', '06_280.txt', '06_1572.txt', '06_779.txt', '06_70.txt', '06_352.txt', '06_1553.txt', '06_955.txt', '06_714.txt', '06_1147.txt', '06_1401.txt', '06_1115.txt', '06_1419.txt', '06_881.txt', '06_994.txt', '06_967.txt', '06_1430.txt', '06_898.txt', '06_82.txt', '06_66.txt', '06_648.txt', '06_1705.txt', '06_247.txt', '06_98.txt', '06_1667.txt', '06_106.txt', '06_421.txt', '06_475.txt', '06_1492.txt', '06_1533.txt', '06_655.txt', '06_1575.txt', '06_1329.txt', '06_460.txt', '06_465.txt', '06_93.txt', '06_270.txt', '06_705.txt', '06_350.txt', '06_1500.txt', '06_1379.txt', '06_1184.txt', '06_135.txt', '06_264.txt', '06_246.txt', '06_1158.txt', '06_972.txt', '06_132.txt', '06_162.txt', '06_172.txt', '06_636.txt', '06_1309.txt', '06_679.txt', '06_383.txt', '06_954.txt', '06_899.txt', '06_999.txt', '06_906.txt', '06_1672.txt', '06_647.txt', '06_196.txt', '06_831.txt', '06_1550.txt', '06_527.txt~', '06_1395.txt', '06_1305.txt', '06_1422.txt', '06_126.txt', '06_575.txt', '06_1398.txt', '06_688.txt', '06_1085.txt', '06_389.txt', '06_913.txt', '06_682.txt', '06_617.txt', '06_1522.txt', '06_782.txt', '06_190.txt', '06_1538.txt', '06_1321.txt', '06_792.txt', '06_463.txt', '06_1347.txt', '06_1411.txt', '06_574.txt', '06_965.txt', '06_22.txt', '06_611.txt', '06_146.txt', '06_740.txt', '06_641.txt', '06_90.txt', '06_1017.txt', '06_1269.txt', '06_717.txt', '06_1437.txt', '06_1253.txt', '06_426.txt', '06_637.txt', '06_1156.txt', '06_1577.txt', '06_931.txt', '06_1324.txt', '06_275.txt', '06_914.txt', '06_1122.txt', '06_823.txt', '06_1637.txt', '06_244.txt', '06_1235.txt', '06_46.txt', '06_1227.txt', '06_1494.txt', '06_1323.txt', '06_1459.txt', '06_640.txt', '06_520.txt', '06_57.txt', '06_41.txt', '06_366.txt', '06_1541.txt', '06_1549.txt', '06_286.txt', '06_406.txt', '06_889.txt', '06_609.txt', '06_373.txt', '06_325.txt', '06_462.txt', '06_1397.txt', '06_1685.txt', '06_1314.txt', '06_945.txt', '06_232.txt', '06_600.txt', '06_767.txt', '06_1394.txt', '06_349.txt', '06_963.txt', '06_1222.txt', '06_1630.txt~', '06_440.txt', '06_1261.txt', '06_548.txt', '06_431.txt', '06_1451.txt', '06_1330.txt', '06_1088.txt', '06_1354.txt', '06_307.txt', '06_51.txt', '06_1463.txt', '06_213.txt', '06_86.txt', '06_1101.txt', '06_112.txt', '06_711.txt', '06_811.txt', '06_326.txt', '06_966.txt', '06_936.txt', '06_1681.txt', '06_1506.txt', '06_361.txt', '06_1408.txt', '06_559.txt', '06_1373.txt', '06_1190.txt', '06_610.txt', '06_1348.txt', '06_772.txt', '06_44.txt', '06_1412.txt', '06_364.txt', '06_1279.txt', '06_388.txt', '06_920.txt', '06_36.txt', '06_241.txt', '06_500.txt', '06_843.txt', '06_603.txt', '06_921.txt', '06_324.txt', '06_1381.txt', '06_546.txt', '06_1203.txt', '06_1368.txt', '06_1187.txt', '06_1387.txt', '06_1355.txt', '06_43.txt', '06_810.txt', '06_1639.txt', '06_1655.txt', '06_392.txt', '06_748.txt', '06_942.txt', '06_805.txt', '06_832.txt', '06_152.txt', '06_410.txt', '06_1112.txt', '06_175.txt', '06_1140.txt', '06_1121.txt', '06_88.txt', '06_1399.txt', '06_613.txt', '06_382.txt', '06_419.txt', '06_1390.txt', '06_180.txt', '06_588.txt', '06_1692.txt', '06_1084.txt', '06_510.txt', '06_338.txt', '06_1307.txt', '06_663.txt', '06_1531.txt', '06_606.txt', '06_833.txt', '06_527.txt', '06_736.txt', '06_1434.txt', '06_1083.txt', '06_395.txt', '06_1388.txt', '06_1216.txt', '06_1544.txt', '06_587.txt', '06_35.txt', '06_131.txt', '06_136.txt', '06_1557.txt', '06_1370.txt', '06_668.txt', '06_1573.txt', '06_1264.txt', '06_1578.txt', '06_1426.txt', '06_157.txt', '06_1104.txt', '06_845.txt', '06_473.txt', '06_34.txt', '06_171.txt', '06_1691.txt', '06_773.txt', '06_745.txt', '06_1504.txt', '06_890.txt', '06_784.txt', '06_1670.txt', '06_1640.txt', '06_397.txt', '06_710.txt', '06_1239.txt', '06_1293.txt', '06_367.txt', '06_63.txt', '06_50.txt', '06_1641.txt', '06_121.txt', '06_790.txt', '06_781.txt', '06_1044.txt', '06_188.txt', '06_54.txt', '06_653.txt', '06_869.txt', '06_815.txt', '06_842.txt', '06_274.txt', '06_330.txt', '06_503.txt', '06_305.txt', '06_1417.txt', '06_1244.txt', '06_1591.txt', '06_515.txt', '06_1632.txt', '06_134.txt', '06_758.txt', '06_1250.txt', '06_393.txt', '06_1436.txt', '06_342.txt', '06_245.txt', '06_908.txt', '06_728.txt', '06_1473.txt', '06_587.txt~', '06_1201.txt', '06_1166.txt', '06_1610.txt', '06_1275.txt', '06_78.txt', '06_1174.txt', '06_1470.txt', '06_1326.txt', '06_905.txt', '06_1004.txt', '06_685.txt', '06_167.txt', '06_453.txt', '06_1521.txt', '06_195.txt', '06_87.txt', '06_1507.txt', '06_633.txt', '06_384.txt', '06_239.txt', '06_125.txt', '06_343.txt', '06_58.txt', '06_148.txt', '06_490.txt', '06_743.txt', '06_1608.txt', '06_386.txt', '06_416.txt', '06_1680.txt', '06_707.txt', '06_1193.txt', '06_650.txt', '06_726.txt', '06_401.txt', '06_1689.txt', '06_703.txt', '06_1294.txt', '06_1514.txt', '06_37.txt', '06_1547.txt', '06_1350.txt', '06_478.txt', '06_1223.txt', '06_1001.txt', '06_435.txt', '06_143.txt', '06_834.txt', '06_1453.txt', '06_430.txt', '06_780.txt', '06_1498.txt', '06_427.txt', '06_1299.txt', '06_768.txt', '06_863.txt', '06_927.txt', '06_1645.txt', '06_1694.txt', '06_1045.txt', '06_1117.txt', '06_1120.txt', '06_1510.txt', '06_1292.txt', '06_499.txt', '06_18.txt', '06_1439.txt', '06_939.txt', '06_1366.txt', '06_39.txt', '06_590.txt', '06_495.txt', '06_838.txt', '06_733.txt', '06_1477.txt', '06_900.txt', '06_699.txt', '06_1042.txt', '06_1480.txt', '06_228.txt', '06_1561.txt', '06_662.txt', '06_1415.txt', '06_1102.txt', '06_219.txt', '06_729.txt', '06_31.txt', '06_1633.txt', '06_1215.txt', '06_1617.txt', '06_652.txt', '06_1124.txt', '06_511.txt', '06_1638.txt', '06_948.txt', '06_969.txt', '06_1056.txt', '06_1054.txt', '06_444.txt', '06_1592.txt', '06_1400.txt', '06_1413.txt', '06_1474.txt', '06_551.txt', '06_1457.txt', '06_598.txt', '06_757.txt', '06_208.txt', '06_891.txt', '06_129.txt', '06_420.txt', '06_822.txt', '06_311.txt', '06_1493.txt', '06_903.txt', '06_1407.txt', '06_378.txt', '06_1653.txt', '06_489.txt', '06_1255.txt', '06_821.txt', '06_624.txt', '06_122.txt', '06_1396.txt', '06_1295.txt', '06_96.txt', '06_508.txt', '06_137.txt', '06_732.txt', '06_1097.txt', '06_377.txt', '06_469.txt', '06_723.txt', '06_1421.txt', '06_272.txt', '06_1288.txt', '06_601.txt', '06_946.txt', '06_630.txt', '06_60.txt', '06_379.txt', '06_124.txt', '06_1377.txt', '06_917.txt', '06_432.txt', '06_1336.txt', '06_191.txt', '06_719.txt', '06_536.txt', '06_893.txt', '06_85.txt', '06_1360.txt', '06_251.txt', '06_402.txt', '06_1489.txt', '06_693.txt', '06_1530.txt', '06_243.txt', '06_40.txt', '06_371.txt', '06_1171.txt', '06_13.txt', '06_1219.txt', '06_28.txt', '06_1183.txt', '06_9.txt', '06_385.txt', '06_1168.txt', '06_1048.txt', '06_1281.txt', '06_1656.txt', '06_1317.txt', '06_229.txt', '06_100.txt', '06_1130.txt', '06_1454.txt', '06_77.txt', '06_765.txt', '06_755.txt', '06_1263.txt', '06_659.txt', '06_1274.txt', '06_92.txt', '06_47.txt', '06_1406.txt', '06_1051.txt', '06_497.txt', '06_433.txt', '06_1073.txt', '06_1414.txt', '06_277.txt', '06_819.txt', '06_886.txt', '06_6.txt', '06_408.txt', '06_26.txt', '06_192.txt', '06_1445.txt', '06_1175.txt', '06_496.txt', '06_387.txt', '06_672.txt', '06_1703.txt', '06_642.txt', '06_468.txt', '06_675.txt', '06_1095.txt', '06_263.txt', '06_887.txt', '06_902.txt', '06_1164.txt', '06_11.txt', '06_851.txt', '06_348.txt', '06_487.txt', '06_1236.txt', '06_1043.txt', '06_1698.txt', '06_334.txt', '06_1050.txt', '06_671.txt', '06_1357.txt', '06_1249.txt', '06_656.txt', '06_249.txt', '06_1176.txt', '06_1096.txt', '06_850.txt', '06_102.txt', '06_1173.txt', '06_1628.txt', '06_1431.txt', '06_1241.txt', '06_472.txt', '06_923.txt', '06_128.txt', '06_1325.txt', '06_362.txt', '06_623.txt', '06_1251.txt', '06_173.txt', '06_592.txt', '06_159.txt', '06_725.txt', '06_1080.txt', '06_351.txt', '06_1562.txt', '06_759.txt', '06_1049.txt', '06_331.txt', '06_589.txt', '06_139.txt', '06_1358.txt', '06_376.txt', '06_33.txt', '06_1246.txt', '06_862.txt', '06_1392.txt']\n"
     ]
    }
   ],
   "source": [
    "import re\n",
    "from os import walk\n",
    "fs=[]\n",
    "for (dp,dn,fn) in walk(\"/home/judson/Desktop/sentenceSeg/clean_sent_train/\"):\n",
    "    fs.extend(fn)\n",
    "print(fs)"
   ]
  },
  {
   "cell_type": "code",
   "execution_count": 13,
   "metadata": {},
   "outputs": [],
   "source": [
    "#\"<arguments>\",\"<facts>\",\"<decision>\",\"<ratio>\",\"<identify>\",\"<IDENTIFY>\",\"<ARGUMENTS>\",\"<FACTS>\",\"<DECISION>\",\"<RATIO>\"\n",
    "def label_extract(fn):\n",
    "    fl=\"/home/judson/Desktop/sentenceSeg/clean_sent_train/\"\n",
    "    txt=open(fl+fn,\"r\")\n",
    "    txt=txt.readlines()\n",
    "    j=[]\n",
    "    for k in txt:\n",
    "        k=k.strip().split()\n",
    "        if len(k)<3:\n",
    "            continue\n",
    "        if k[-1] in [\"<DECISION>\"]:\n",
    "            j.append(\" \".join(k[:-1]))\n",
    "    return j"
   ]
  },
  {
   "cell_type": "code",
   "execution_count": 2,
   "metadata": {},
   "outputs": [],
   "source": [
    "def parallel_Ex(fntxt,fs1):\n",
    "    dl=[]\n",
    "    import concurrent.futures\n",
    "    s=concurrent.futures.ProcessPoolExecutor()\n",
    "    for m in s.map(label_extract,fs1):\n",
    "        if m==[]:\n",
    "            continue\n",
    "        else:\n",
    "            dl.extend(m)\n",
    "    fln=\"/home/judson/Desktop/sentenceSeg/Labelled2/\"\n",
    "    f=open(fln+fntxt,\"a\")\n",
    "    for i in dl:\n",
    "        f.write(i+\"\\n\")\n",
    "    print(\"done...\")\n"
   ]
  },
  {
   "cell_type": "code",
   "execution_count": 14,
   "metadata": {},
   "outputs": [
    {
     "name": "stdout",
     "output_type": "stream",
     "text": [
      "done...\n"
     ]
    }
   ],
   "source": [
    "parallel_Ex(\"decision.txt\",fs)"
   ]
  },
  {
   "cell_type": "code",
   "execution_count": 52,
   "metadata": {},
   "outputs": [],
   "source": [
    "def parallel_Ex1(fntxt,fs1):\n",
    "    dl=[]\n",
    "    import concurrent.futures\n",
    "    import os\n",
    "    s=concurrent.futures.ProcessPoolExecutor()\n",
    "    for m in s.map(label_extract,fs1):\n",
    "        if m==[]:\n",
    "            continue\n",
    "        else:\n",
    "            dl.extend(m)\n",
    "    fln=\"/home/judson/Desktop/sentenceSeg/Labelled1/\"\n",
    "    f1=open(fln+fntxt,\"r\")\n",
    "    txt=f1.readlines()\n",
    "    dl=list(set(txt+dl))\n",
    "    os.remove(fln+fntxt)\n",
    "    f=open(fln+fntxt,\"a\")\n",
    "    for i in dl:\n",
    "        f.write(i.strip()+\"\\n\")\n",
    "    print(\"done...\")"
   ]
  },
  {
   "cell_type": "code",
   "execution_count": 53,
   "metadata": {},
   "outputs": [
    {
     "name": "stdout",
     "output_type": "stream",
     "text": [
      "done...\n"
     ]
    }
   ],
   "source": [
    "parallel_Ex1(\"identify.txt\",fs)"
   ]
  },
  {
   "cell_type": "code",
   "execution_count": 58,
   "metadata": {},
   "outputs": [],
   "source": [
    "import os\n",
    "t=open(\"/home/judson/Desktop/sentenceSeg/Labelled1/arguments.txt\",\"r\")\n",
    "t=t.readlines()\n",
    "t=[ i for i in t if i!=\"\\n\"]\n",
    "t\n",
    "os.remove(\"/home/judson/Desktop/sentenceSeg/Labelled1/arguments.txt\")\n",
    "t1=open(\"/home/judson/Desktop/sentenceSeg/Labelled1/arguments.txt\",\"a\")\n",
    "for i in t:\n",
    "    t1.write(i)"
   ]
  },
  {
   "cell_type": "code",
   "execution_count": 16,
   "metadata": {},
   "outputs": [
    {
     "name": "stdout",
     "output_type": "stream",
     "text": [
      "<ARGUMENTS> : 24\n",
      "<IDENTIFY> : 24\n",
      "<RATIO> : 32\n",
      "<FACTS> : 16\n",
      "<DECISION> : 27\n"
     ]
    }
   ],
   "source": [
    "#after tagging 1000 documents\n",
    "import pickle\n",
    "tag=pickle.load(open(\"tagged_patterns.pickle\",\"rb\"))\n",
    "for i,j in tag.items():\n",
    "    print(i,\":\",len(j))"
   ]
  }
 ],
 "metadata": {
  "kernelspec": {
   "display_name": "Python 3",
   "language": "python",
   "name": "python3"
  },
  "language_info": {
   "codemirror_mode": {
    "name": "ipython",
    "version": 3
   },
   "file_extension": ".py",
   "mimetype": "text/x-python",
   "name": "python",
   "nbconvert_exporter": "python",
   "pygments_lexer": "ipython3",
   "version": "3.6.5"
  }
 },
 "nbformat": 4,
 "nbformat_minor": 2
}
