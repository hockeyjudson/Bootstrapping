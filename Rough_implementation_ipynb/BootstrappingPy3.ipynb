{
 "cells": [
  {
   "cell_type": "code",
   "execution_count": 1,
   "metadata": {},
   "outputs": [
    {
     "data": {
      "text/plain": [
       "(52, 358, 50, 93, 639)"
      ]
     },
     "execution_count": 1,
     "metadata": {},
     "output_type": "execute_result"
    }
   ],
   "source": [
    "import pickle\n",
    "arg_list=pickle.load(open(\"argument.pickle\",\"rb\"))\n",
    "dec_list=pickle.load(open(\"decision.pickle\",\"rb\"))\n",
    "fact_list=pickle.load(open(\"facts.pickle\",\"rb\"))\n",
    "ratio_list=pickle.load(open(\"ratiolist.pickle\",\"rb\"))\n",
    "identify_list=pickle.load(open(\"identifylist.pickle\",\"rb\"))\n",
    "len(arg_list),len(dec_list),len(fact_list),len(ratio_list),len(identify_list)"
   ]
  },
  {
   "cell_type": "code",
   "execution_count": 4,
   "metadata": {},
   "outputs": [],
   "source": [
    "def pattern_create(ip_list):\n",
    "    from copy import deepcopy\n",
    "    patr=deepcopy(ip_list)\n",
    "    n=0\n",
    "    print(\"@Main Function\\n1.Element replacement\\n2.Block replacement\\n3.End\")\n",
    "    while int(n)!=3:\n",
    "        n=input(\"enter a number between 1-3\\n\")\n",
    "        if int(n)==1:\n",
    "            patr=Element_replacement_fn(patr)\n",
    "        elif int(n)==2:\n",
    "            patr=Block_replacement(patr)\n",
    "        elif int(n)==3:\n",
    "            return patr\n",
    "        else:\n",
    "            print(\"enter number between 1-3\")"
   ]
  },
  {
   "cell_type": "code",
   "execution_count": 2,
   "metadata": {},
   "outputs": [],
   "source": [
    "def Element_replacement_fn(patr):\n",
    "    print(\"@element replacement Function\")\n",
    "    print(\"1.Element replacement\\n2.end\")\n",
    "    while True:\n",
    "        print(\"@Element replacement function\")\n",
    "        print(\"pattern:\")\n",
    "        for i,j in enumerate(patr):\n",
    "            print(\"Block\",i,\":\",j)\n",
    "        n1=input(\"enter a number between 1-2\\n\")\n",
    "        if int(n1)==1:\n",
    "            print(\"\\n1.single element replacement\\n2.group replacement\")\n",
    "            bn=input(\"enter a number between 1-2:\\n\")\n",
    "            if int(bn)==1:\n",
    "                return single_element(patr)\n",
    "            elif int(bn)==2:\n",
    "                return group_element_replacement(patr)\n",
    "            else:\n",
    "                print(\"enter number between 1-2\")\n",
    "        elif int(n1)==2:\n",
    "            return patr\n",
    "        else:\n",
    "             print(\"enter number between 1-2\")"
   ]
  },
  {
   "cell_type": "code",
   "execution_count": 3,
   "metadata": {},
   "outputs": [],
   "source": [
    "def single_element(patr):\n",
    "    while True:\n",
    "        print(\"@Single Element Function\")\n",
    "        bn=input(\"enter a value to navigate into block for value between 0 to %s: \\n\" % (str(len(patr)-1)))\n",
    "        if 0<=int(bn)<len(patr):\n",
    "            for i,j in enumerate(patr[int(bn)]):\n",
    "                print(\"index: %s,element %s\" % (str(i),str(j)))\n",
    "            iv=input(\"enter index value to mask the element\\n\")\n",
    "            if 0<=int(iv)<len(patr[int(bn)]):\n",
    "                patr[int(bn)][int(iv)]=\"*\"\n",
    "                return patr\n",
    "            else:\n",
    "                print(\"wrong input\")\n",
    "                return patr\n",
    "        else:\n",
    "            print(\"enter a value to navigate into block for value between 0 to %s: \\n\" % (str(len(patr)-1)))"
   ]
  },
  {
   "cell_type": "code",
   "execution_count": 4,
   "metadata": {},
   "outputs": [],
   "source": [
    "def group_element_replacement(patr):\n",
    "    while True:\n",
    "        print(\"@Group Element replacement Function\")\n",
    "        bn=input(\"enter a value to navigate into block for value between 0 to %s: \\n\" % (str(len(patr)-1)))\n",
    "        if 0<=int(bn)<len(patr):\n",
    "            for i,j in enumerate(patr[int(bn)]):\n",
    "                print(\"index: %s,element %s\" % (str(i),str(j)))\n",
    "            iv=input(\"enter starting index value to mask the element(Dont enter final index value):\\n\")\n",
    "            if 0<=int(iv)<len(patr[int(bn)]):\n",
    "                ev=input(\"enter ending index value to mask the element:(should between %s to %s)\\n\" % (str(iv),str(len(patr[int(bn)])-1)))\n",
    "                if int(iv)< int(ev):\n",
    "                    patr[int(bn)][int(iv):int(ev)+1]=\"*\"\n",
    "                    return patr\n",
    "                else:\n",
    "                    print(\"wrong group index range value check index\")\n",
    "                return patr\n",
    "            else:\n",
    "                print(\"wrong starting index value check range of values\")\n",
    "                return patr\n",
    "        else:\n",
    "            print(\"enter a value to navigate into block for value between 0 to %s: \\n\" % (str(len(patr)-1)))"
   ]
  },
  {
   "cell_type": "code",
   "execution_count": 5,
   "metadata": {},
   "outputs": [],
   "source": [
    "def Block_replacement(patr):\n",
    "    while True:\n",
    "        print(\"@Block replacement function\")\n",
    "        for i,j in enumerate(patr):\n",
    "                print(\"index: %s,element %s\" % (str(i),str(j)))\n",
    "        bn=input(\"enter a value to mask the block [value between 0 to %s]: \\n\" % (str(len(patr)-1)))\n",
    "        if 0<=int(bn)<len(patr):\n",
    "            patr[int(bn)]=\"*\"\n",
    "        ret=input(\"Enter '1' for execute the current function and  any number for return to main function \")\n",
    "        if int(ret)==1:\n",
    "            pass\n",
    "        else:\n",
    "            return patr"
   ]
  },
  {
   "cell_type": "code",
   "execution_count": 7,
   "metadata": {
    "collapsed": true
   },
   "outputs": [
    {
     "name": "stdout",
     "output_type": "stream",
     "text": [
      "@Main Function\n",
      "1.Element replacement\n",
      "2.Block replacement\n",
      "3.End\n",
      "enter a number between 1-3\n",
      "1\n"
     ]
    },
    {
     "ename": "NameError",
     "evalue": "name 'Element_replacement_fn' is not defined",
     "output_type": "error",
     "traceback": [
      "\u001b[0;31m---------------------------------------------------------------------------\u001b[0m",
      "\u001b[0;31mNameError\u001b[0m                                 Traceback (most recent call last)",
      "\u001b[0;32m<ipython-input-7-ac32c2bf9c1b>\u001b[0m in \u001b[0;36m<module>\u001b[0;34m()\u001b[0m\n\u001b[0;32m----> 1\u001b[0;31m \u001b[0mpattern_create\u001b[0m\u001b[0;34m(\u001b[0m\u001b[0marg_list\u001b[0m\u001b[0;34m[\u001b[0m\u001b[0;36m0\u001b[0m\u001b[0;34m]\u001b[0m\u001b[0;34m)\u001b[0m\u001b[0;34m\u001b[0m\u001b[0m\n\u001b[0m",
      "\u001b[0;32m<ipython-input-4-b31b172089c4>\u001b[0m in \u001b[0;36mpattern_create\u001b[0;34m(ip_list)\u001b[0m\n\u001b[1;32m      7\u001b[0m         \u001b[0mn\u001b[0m\u001b[0;34m=\u001b[0m\u001b[0minput\u001b[0m\u001b[0;34m(\u001b[0m\u001b[0;34m\"enter a number between 1-3\\n\"\u001b[0m\u001b[0;34m)\u001b[0m\u001b[0;34m\u001b[0m\u001b[0m\n\u001b[1;32m      8\u001b[0m         \u001b[0;32mif\u001b[0m \u001b[0mint\u001b[0m\u001b[0;34m(\u001b[0m\u001b[0mn\u001b[0m\u001b[0;34m)\u001b[0m\u001b[0;34m==\u001b[0m\u001b[0;36m1\u001b[0m\u001b[0;34m:\u001b[0m\u001b[0;34m\u001b[0m\u001b[0m\n\u001b[0;32m----> 9\u001b[0;31m             \u001b[0mpatr\u001b[0m\u001b[0;34m=\u001b[0m\u001b[0mElement_replacement_fn\u001b[0m\u001b[0;34m(\u001b[0m\u001b[0mpatr\u001b[0m\u001b[0;34m)\u001b[0m\u001b[0;34m\u001b[0m\u001b[0m\n\u001b[0m\u001b[1;32m     10\u001b[0m         \u001b[0;32melif\u001b[0m \u001b[0mint\u001b[0m\u001b[0;34m(\u001b[0m\u001b[0mn\u001b[0m\u001b[0;34m)\u001b[0m\u001b[0;34m==\u001b[0m\u001b[0;36m2\u001b[0m\u001b[0;34m:\u001b[0m\u001b[0;34m\u001b[0m\u001b[0m\n\u001b[1;32m     11\u001b[0m             \u001b[0mpatr\u001b[0m\u001b[0;34m=\u001b[0m\u001b[0mBlock_replacement\u001b[0m\u001b[0;34m(\u001b[0m\u001b[0mpatr\u001b[0m\u001b[0;34m)\u001b[0m\u001b[0;34m\u001b[0m\u001b[0m\n",
      "\u001b[0;31mNameError\u001b[0m: name 'Element_replacement_fn' is not defined"
     ]
    }
   ],
   "source": [
    "pattern_create(arg_list[0])"
   ]
  },
  {
   "cell_type": "code",
   "execution_count": 2,
   "metadata": {},
   "outputs": [],
   "source": [
    "def star_merger(pat_ls):\n",
    "    k=0\n",
    "    m=[]\n",
    "    for i,j in enumerate(pat_ls):\n",
    "        if j!=\"*\" and k==0:\n",
    "            m.append(j)\n",
    "        elif j!=\"*\" and k>0:\n",
    "            m.append(\"*\")\n",
    "            m.append(j)\n",
    "            k=0\n",
    "        elif j==\"*\":\n",
    "            if len(pat_ls)-1==i:\n",
    "                m.append(j)\n",
    "            k=k+1\n",
    "    return m"
   ]
  },
  {
   "cell_type": "code",
   "execution_count": 3,
   "metadata": {},
   "outputs": [],
   "source": [
    "def base_pattern_creater(pat_ls):\n",
    "    pat_ls=star_merger(pat_ls)\n",
    "    return [star_merger(i) if i!=\"*\" else \"*\" for i in pat_ls ]"
   ]
  },
  {
   "cell_type": "code",
   "execution_count": 56,
   "metadata": {
    "collapsed": true
   },
   "outputs": [
    {
     "name": "stdout",
     "output_type": "stream",
     "text": [
      "@Main Function\n",
      "1.Element replacement\n",
      "2.Block replacement\n",
      "3.End\n",
      "enter a number between 1-3\n",
      "1\n",
      "@element replacement Function\n",
      "1.Element replacement\n",
      "2.end\n",
      "@Element replacement function\n",
      "pattern:\n",
      "Block 0 : ['ROOT', 'prep', 'pcomp', 'mark']\n",
      "Block 1 : ['ROOT', 'prep', 'pcomp', 'nsubj', 'det']\n",
      "Block 2 : ['ROOT', 'prep', 'pcomp', 'prep', 'pobj', 'acl', 'prt']\n",
      "Block 3 : ['ROOT', 'prep', 'pcomp', 'prep', 'pobj', 'acl', 'prep', 'pobj', 'det']\n",
      "Block 4 : ['ROOT', 'prep', 'pcomp', 'prep', 'pobj', 'acl', 'prep', 'pobj', 'compound']\n",
      "Block 5 : ['ROOT', 'prep', 'pcomp', 'prep', 'pobj', 'acl', 'prep', 'pobj', 'compound']\n",
      "Block 6 : ['ROOT', 'nsubj', 'compound']\n",
      "Block 7 : ['ROOT', 'nsubj', 'cc']\n",
      "Block 8 : ['ROOT', 'nsubj', 'conj', 'compound']\n",
      "Block 9 : ['ROOT', 'prep', 'pobj', 'acl', 'agent', 'pobj', 'compound']\n",
      "Block 10 : ['ROOT', 'prep', 'pobj', 'acl', 'agent', 'pobj', 'cc']\n",
      "Block 11 : ['ROOT', 'prep', 'pobj', 'acl', 'agent', 'pobj', 'conj', 'compound']\n",
      "Block 12 : ['ROOT', 'prep', 'pobj', 'det']\n",
      "enter a number between 1-2\n",
      "2\n",
      "enter a number between 1-3\n",
      "1\n",
      "@element replacement Function\n",
      "1.Element replacement\n",
      "2.end\n",
      "@Element replacement function\n",
      "pattern:\n",
      "Block 0 : ['ROOT', 'prep', 'pcomp', 'mark']\n",
      "Block 1 : ['ROOT', 'prep', 'pcomp', 'nsubj', 'det']\n",
      "Block 2 : ['ROOT', 'prep', 'pcomp', 'prep', 'pobj', 'acl', 'prt']\n",
      "Block 3 : ['ROOT', 'prep', 'pcomp', 'prep', 'pobj', 'acl', 'prep', 'pobj', 'det']\n",
      "Block 4 : ['ROOT', 'prep', 'pcomp', 'prep', 'pobj', 'acl', 'prep', 'pobj', 'compound']\n",
      "Block 5 : ['ROOT', 'prep', 'pcomp', 'prep', 'pobj', 'acl', 'prep', 'pobj', 'compound']\n",
      "Block 6 : ['ROOT', 'nsubj', 'compound']\n",
      "Block 7 : ['ROOT', 'nsubj', 'cc']\n",
      "Block 8 : ['ROOT', 'nsubj', 'conj', 'compound']\n",
      "Block 9 : ['ROOT', 'prep', 'pobj', 'acl', 'agent', 'pobj', 'compound']\n",
      "Block 10 : ['ROOT', 'prep', 'pobj', 'acl', 'agent', 'pobj', 'cc']\n",
      "Block 11 : ['ROOT', 'prep', 'pobj', 'acl', 'agent', 'pobj', 'conj', 'compound']\n",
      "Block 12 : ['ROOT', 'prep', 'pobj', 'det']\n",
      "enter a number between 1-2\n",
      "1\n",
      "\n",
      "1.single element replacement\n",
      "2.group replacement\n",
      "enter a number between 1-2:\n",
      "1\n",
      "@Single Element Function\n",
      "enter a value to navigate into block for value between 0 to 12: \n",
      "3\n",
      "index: 0,element ROOT\n",
      "index: 1,element prep\n",
      "index: 2,element pcomp\n",
      "index: 3,element prep\n",
      "index: 4,element pobj\n",
      "index: 5,element acl\n",
      "index: 6,element prep\n",
      "index: 7,element pobj\n",
      "index: 8,element det\n",
      "enter index value to mask the element\n",
      "2\n",
      "enter a number between 1-3\n",
      "1\n",
      "@element replacement Function\n",
      "1.Element replacement\n",
      "2.end\n",
      "@Element replacement function\n",
      "pattern:\n",
      "Block 0 : ['ROOT', 'prep', 'pcomp', 'mark']\n",
      "Block 1 : ['ROOT', 'prep', 'pcomp', 'nsubj', 'det']\n",
      "Block 2 : ['ROOT', 'prep', 'pcomp', 'prep', 'pobj', 'acl', 'prt']\n",
      "Block 3 : ['ROOT', 'prep', '*', 'prep', 'pobj', 'acl', 'prep', 'pobj', 'det']\n",
      "Block 4 : ['ROOT', 'prep', 'pcomp', 'prep', 'pobj', 'acl', 'prep', 'pobj', 'compound']\n",
      "Block 5 : ['ROOT', 'prep', 'pcomp', 'prep', 'pobj', 'acl', 'prep', 'pobj', 'compound']\n",
      "Block 6 : ['ROOT', 'nsubj', 'compound']\n",
      "Block 7 : ['ROOT', 'nsubj', 'cc']\n",
      "Block 8 : ['ROOT', 'nsubj', 'conj', 'compound']\n",
      "Block 9 : ['ROOT', 'prep', 'pobj', 'acl', 'agent', 'pobj', 'compound']\n",
      "Block 10 : ['ROOT', 'prep', 'pobj', 'acl', 'agent', 'pobj', 'cc']\n",
      "Block 11 : ['ROOT', 'prep', 'pobj', 'acl', 'agent', 'pobj', 'conj', 'compound']\n",
      "Block 12 : ['ROOT', 'prep', 'pobj', 'det']\n",
      "enter a number between 1-2\n",
      "3\n",
      "enter number between 1-2\n",
      "@Element replacement function\n",
      "pattern:\n",
      "Block 0 : ['ROOT', 'prep', 'pcomp', 'mark']\n",
      "Block 1 : ['ROOT', 'prep', 'pcomp', 'nsubj', 'det']\n",
      "Block 2 : ['ROOT', 'prep', 'pcomp', 'prep', 'pobj', 'acl', 'prt']\n",
      "Block 3 : ['ROOT', 'prep', '*', 'prep', 'pobj', 'acl', 'prep', 'pobj', 'det']\n",
      "Block 4 : ['ROOT', 'prep', 'pcomp', 'prep', 'pobj', 'acl', 'prep', 'pobj', 'compound']\n",
      "Block 5 : ['ROOT', 'prep', 'pcomp', 'prep', 'pobj', 'acl', 'prep', 'pobj', 'compound']\n",
      "Block 6 : ['ROOT', 'nsubj', 'compound']\n",
      "Block 7 : ['ROOT', 'nsubj', 'cc']\n",
      "Block 8 : ['ROOT', 'nsubj', 'conj', 'compound']\n",
      "Block 9 : ['ROOT', 'prep', 'pobj', 'acl', 'agent', 'pobj', 'compound']\n",
      "Block 10 : ['ROOT', 'prep', 'pobj', 'acl', 'agent', 'pobj', 'cc']\n",
      "Block 11 : ['ROOT', 'prep', 'pobj', 'acl', 'agent', 'pobj', 'conj', 'compound']\n",
      "Block 12 : ['ROOT', 'prep', 'pobj', 'det']\n",
      "enter a number between 1-2\n",
      "1\n",
      "\n",
      "1.single element replacement\n",
      "2.group replacement\n",
      "enter a number between 1-2:\n",
      "1\n",
      "@Single Element Function\n",
      "enter a value to navigate into block for value between 0 to 12: \n",
      "3\n",
      "index: 0,element ROOT\n",
      "index: 1,element prep\n",
      "index: 2,element *\n",
      "index: 3,element prep\n",
      "index: 4,element pobj\n",
      "index: 5,element acl\n",
      "index: 6,element prep\n",
      "index: 7,element pobj\n",
      "index: 8,element det\n",
      "enter index value to mask the element\n",
      "3\n",
      "enter a number between 1-3\n",
      "2\n",
      "@Block replacement function\n",
      "index: 0,element ['ROOT', 'prep', 'pcomp', 'mark']\n",
      "index: 1,element ['ROOT', 'prep', 'pcomp', 'nsubj', 'det']\n",
      "index: 2,element ['ROOT', 'prep', 'pcomp', 'prep', 'pobj', 'acl', 'prt']\n",
      "index: 3,element ['ROOT', 'prep', '*', '*', 'pobj', 'acl', 'prep', 'pobj', 'det']\n",
      "index: 4,element ['ROOT', 'prep', 'pcomp', 'prep', 'pobj', 'acl', 'prep', 'pobj', 'compound']\n",
      "index: 5,element ['ROOT', 'prep', 'pcomp', 'prep', 'pobj', 'acl', 'prep', 'pobj', 'compound']\n",
      "index: 6,element ['ROOT', 'nsubj', 'compound']\n",
      "index: 7,element ['ROOT', 'nsubj', 'cc']\n",
      "index: 8,element ['ROOT', 'nsubj', 'conj', 'compound']\n",
      "index: 9,element ['ROOT', 'prep', 'pobj', 'acl', 'agent', 'pobj', 'compound']\n",
      "index: 10,element ['ROOT', 'prep', 'pobj', 'acl', 'agent', 'pobj', 'cc']\n",
      "index: 11,element ['ROOT', 'prep', 'pobj', 'acl', 'agent', 'pobj', 'conj', 'compound']\n",
      "index: 12,element ['ROOT', 'prep', 'pobj', 'det']\n",
      "enter a value to mask the block [value between 0 to 12]: \n",
      "11\n",
      "Enter '1' for execute the current function and  any number for return to main function 1\n",
      "@Block replacement function\n",
      "index: 0,element ['ROOT', 'prep', 'pcomp', 'mark']\n",
      "index: 1,element ['ROOT', 'prep', 'pcomp', 'nsubj', 'det']\n",
      "index: 2,element ['ROOT', 'prep', 'pcomp', 'prep', 'pobj', 'acl', 'prt']\n",
      "index: 3,element ['ROOT', 'prep', '*', '*', 'pobj', 'acl', 'prep', 'pobj', 'det']\n",
      "index: 4,element ['ROOT', 'prep', 'pcomp', 'prep', 'pobj', 'acl', 'prep', 'pobj', 'compound']\n",
      "index: 5,element ['ROOT', 'prep', 'pcomp', 'prep', 'pobj', 'acl', 'prep', 'pobj', 'compound']\n",
      "index: 6,element ['ROOT', 'nsubj', 'compound']\n",
      "index: 7,element ['ROOT', 'nsubj', 'cc']\n",
      "index: 8,element ['ROOT', 'nsubj', 'conj', 'compound']\n",
      "index: 9,element ['ROOT', 'prep', 'pobj', 'acl', 'agent', 'pobj', 'compound']\n",
      "index: 10,element ['ROOT', 'prep', 'pobj', 'acl', 'agent', 'pobj', 'cc']\n",
      "index: 11,element *\n",
      "index: 12,element ['ROOT', 'prep', 'pobj', 'det']\n",
      "enter a value to mask the block [value between 0 to 12]: \n",
      "12\n",
      "Enter '1' for execute the current function and  any number for return to main function 1\n",
      "@Block replacement function\n",
      "index: 0,element ['ROOT', 'prep', 'pcomp', 'mark']\n",
      "index: 1,element ['ROOT', 'prep', 'pcomp', 'nsubj', 'det']\n",
      "index: 2,element ['ROOT', 'prep', 'pcomp', 'prep', 'pobj', 'acl', 'prt']\n",
      "index: 3,element ['ROOT', 'prep', '*', '*', 'pobj', 'acl', 'prep', 'pobj', 'det']\n",
      "index: 4,element ['ROOT', 'prep', 'pcomp', 'prep', 'pobj', 'acl', 'prep', 'pobj', 'compound']\n",
      "index: 5,element ['ROOT', 'prep', 'pcomp', 'prep', 'pobj', 'acl', 'prep', 'pobj', 'compound']\n",
      "index: 6,element ['ROOT', 'nsubj', 'compound']\n",
      "index: 7,element ['ROOT', 'nsubj', 'cc']\n",
      "index: 8,element ['ROOT', 'nsubj', 'conj', 'compound']\n",
      "index: 9,element ['ROOT', 'prep', 'pobj', 'acl', 'agent', 'pobj', 'compound']\n",
      "index: 10,element ['ROOT', 'prep', 'pobj', 'acl', 'agent', 'pobj', 'cc']\n",
      "index: 11,element *\n",
      "index: 12,element *\n",
      "enter a value to mask the block [value between 0 to 12]: \n",
      "0\n",
      "Enter '1' for execute the current function and  any number for return to main function 2\n",
      "enter a number between 1-3\n",
      "3\n"
     ]
    }
   ],
   "source": [
    "j=pattern_create(arg_list[0])"
   ]
  },
  {
   "cell_type": "code",
   "execution_count": 58,
   "metadata": {
    "collapsed": true
   },
   "outputs": [
    {
     "data": {
      "text/plain": [
       "(['*',\n",
       "  ['ROOT', 'prep', 'pcomp', 'nsubj', 'det'],\n",
       "  ['ROOT', 'prep', 'pcomp', 'prep', 'pobj', 'acl', 'prt'],\n",
       "  ['ROOT', 'prep', '*', 'pobj', 'acl', 'prep', 'pobj', 'det'],\n",
       "  ['ROOT', 'prep', 'pcomp', 'prep', 'pobj', 'acl', 'prep', 'pobj', 'compound'],\n",
       "  ['ROOT', 'prep', 'pcomp', 'prep', 'pobj', 'acl', 'prep', 'pobj', 'compound'],\n",
       "  ['ROOT', 'nsubj', 'compound'],\n",
       "  ['ROOT', 'nsubj', 'cc'],\n",
       "  ['ROOT', 'nsubj', 'conj', 'compound'],\n",
       "  ['ROOT', 'prep', 'pobj', 'acl', 'agent', 'pobj', 'compound'],\n",
       "  ['ROOT', 'prep', 'pobj', 'acl', 'agent', 'pobj', 'cc'],\n",
       "  '*'],\n",
       " ['*',\n",
       "  ['ROOT', 'prep', 'pcomp', 'nsubj', 'det'],\n",
       "  ['ROOT', 'prep', 'pcomp', 'prep', 'pobj', 'acl', 'prt'],\n",
       "  ['ROOT', 'prep', '*', '*', 'pobj', 'acl', 'prep', 'pobj', 'det'],\n",
       "  ['ROOT', 'prep', 'pcomp', 'prep', 'pobj', 'acl', 'prep', 'pobj', 'compound'],\n",
       "  ['ROOT', 'prep', 'pcomp', 'prep', 'pobj', 'acl', 'prep', 'pobj', 'compound'],\n",
       "  ['ROOT', 'nsubj', 'compound'],\n",
       "  ['ROOT', 'nsubj', 'cc'],\n",
       "  ['ROOT', 'nsubj', 'conj', 'compound'],\n",
       "  ['ROOT', 'prep', 'pobj', 'acl', 'agent', 'pobj', 'compound'],\n",
       "  ['ROOT', 'prep', 'pobj', 'acl', 'agent', 'pobj', 'cc'],\n",
       "  '*',\n",
       "  '*'])"
      ]
     },
     "execution_count": 58,
     "metadata": {},
     "output_type": "execute_result"
    }
   ],
   "source": [
    "base_pattern_creater(j),j"
   ]
  },
  {
   "cell_type": "code",
   "execution_count": 4,
   "metadata": {},
   "outputs": [],
   "source": [
    "#a1=[\"*\",[1,2],\"*\",[3,2],\"*\"]\n",
    "#b1=[[2,3,4],[1,2,3],[1,2],[3,2],[9],[0]]\n",
    "def pattern_filler(a1,b1):\n",
    "    f=0\n",
    "    #m=0\n",
    "    if len(a1)<=len(b1):\n",
    "        for i,j in enumerate(a1):\n",
    "            if a1[i]==\"*\":\n",
    "                if i==0:\n",
    "                    a1[i]=b1[i]\n",
    "                    for k in range(i+1,len(b1)):\n",
    "                        if a1[i+k]==b1[k]:\n",
    "                            break \n",
    "                        else:\n",
    "                            a1.insert(i+k,b1[k])\n",
    "                            #m=k\n",
    "                elif len(a1)-1==i:\n",
    "                    if len(a1)>len(b1):\n",
    "                        a1.pop(len(a1)-1)\n",
    "                    else:\n",
    "                        a1[len(a1)-1]=b1[len(a1)-1]\n",
    "                        a1.extend(b1[len(a1):])\n",
    "                else:\n",
    "                    if i+1<=len(b1):\n",
    "                        a1[i]=b1[i]\n",
    "                        for k in range(i+1,len(b1)):\n",
    "                            if a1[k]==b1[k]:\n",
    "                                break \n",
    "                            else:\n",
    "                                a1.insert(i+k,b1[k])\n",
    "                                #m=k\n",
    "                    else:\n",
    "                        f=1\n",
    "                        break\n",
    "    elif len(a1)>len(b1):\n",
    "        f=1\n",
    "    if f==1:\n",
    "        return 1\n",
    "    else:\n",
    "        return a1"
   ]
  },
  {
   "cell_type": "code",
   "execution_count": 4,
   "metadata": {},
   "outputs": [],
   "source": [
    "def pattern_filler1(a1,b1):\n",
    "    #f=0\n",
    "    m=0\n",
    "    a=[]\n",
    "    if len(a1)<=len(b1):\n",
    "        for i,j in enumerate(a1):\n",
    "            if a1[i]==\"*\":\n",
    "                if i==0:\n",
    "                    if len(a1)==1:\n",
    "                        return b1\n",
    "                    else:\n",
    "                        for k in range(i,len(b1)):\n",
    "                            if a1[i+k]==b1[k]:\n",
    "                                m=k\n",
    "                                break \n",
    "                            else:\n",
    "                                a.append(b1[k])\n",
    "                                m=k\n",
    "                        if len(b1)-1==m:\n",
    "                            return 1\n",
    "                elif(len(a1)-1)==i:\n",
    "                    if len(a)>=len(b1):\n",
    "                        return a\n",
    "                    elif(len(a)-1)==len(b1):\n",
    "                        a.append(b1[-1])\n",
    "                        return a\n",
    "                    else:\n",
    "                        for l in b1[m:]:\n",
    "                            a.append(l)\n",
    "                        return a\n",
    "                else:\n",
    "                    if len(b1)>m:\n",
    "                        for k in range(m,len(b1)):\n",
    "                            if a1[i+1]==b1[k]:\n",
    "                                break \n",
    "                            else:\n",
    "                                a.append(b1[k])\n",
    "                                m=m+1\n",
    "                            if len(b1)-1<=m:\n",
    "                                return 1\n",
    "            else:\n",
    "                a.append(j)\n",
    "                m=m+1\n",
    "        else:\n",
    "            return 1"
   ]
  },
  {
   "cell_type": "code",
   "execution_count": 5,
   "metadata": {},
   "outputs": [],
   "source": [
    "def pattern_matcher(a1,b1):\n",
    "    a=pattern_filler1(a1,b1)\n",
    "    if a==1:\n",
    "        return 1\n",
    "    else:\n",
    "        return a"
   ]
  },
  {
   "cell_type": "code",
   "execution_count": 6,
   "metadata": {},
   "outputs": [],
   "source": [
    "def base_pattern_matcher(pat,ip_list):\n",
    "    patmod=pattern_matcher(pat,ip_list)\n",
    "    #print(patmod,\"----------\",ip_list)\n",
    "    if patmod==1:\n",
    "        return 1\n",
    "    else:\n",
    "        \"\"\"\n",
    "        if len(patmod)==len(ip_list):\n",
    "            for i in range(len(patmod)):\n",
    "                if \"*\" in patmod[i]:\n",
    "                    s=pattern_matcher(patmod[i],ip_list[i])\n",
    "                    if s==1:\n",
    "                        return 1\n",
    "                    else:\n",
    "                        patmod[i]=s\n",
    "        \"\"\"\n",
    "        if patmod==ip_list:\n",
    "                return patmod\n",
    "        else:\n",
    "            return 1"
   ]
  },
  {
   "cell_type": "code",
   "execution_count": 5,
   "metadata": {},
   "outputs": [
    {
     "name": "stdout",
     "output_type": "stream",
     "text": [
      "[[23], [4, 5, 6, 7], [5], [6], [7], [8], [9]]\n"
     ]
    },
    {
     "data": {
      "text/plain": [
       "[[23], [4, 5, 6, 7], [5], [6], [7], [8], [9]]"
      ]
     },
     "execution_count": 5,
     "metadata": {},
     "output_type": "execute_result"
    }
   ],
   "source": [
    "base_pattern_matcher(a1,b1)"
   ]
  },
  {
   "cell_type": "code",
   "execution_count": 7,
   "metadata": {},
   "outputs": [],
   "source": [
    "#find unique nested list\n",
    "#input ip_list->nested list\n",
    "#output uniq_list->nested list\n",
    "def uniq_list(ip_list):\n",
    "    uniq_list=[ip_list[0]]\n",
    "    for i in ip_list:\n",
    "        k=0\n",
    "        for j in uniq_list:\n",
    "            if j==i:\n",
    "                k=0\n",
    "                break\n",
    "            else:\n",
    "                k=1\n",
    "        if k==1:\n",
    "            uniq_list.append(i)\n",
    "    return uniq_list"
   ]
  },
  {
   "cell_type": "code",
   "execution_count": 312,
   "metadata": {},
   "outputs": [
    {
     "data": {
      "text/plain": [
       "(265, 265)"
      ]
     },
     "execution_count": 312,
     "metadata": {},
     "output_type": "execute_result"
    }
   ],
   "source": [
    "arif_ls=arg_list+ratio_list+identify_list[0:70]+fact_list\n",
    "u_arif_ls=uniq_list(arif_ls)\n",
    "len(arif_ls),len(u_arif_ls)"
   ]
  },
  {
   "cell_type": "code",
   "execution_count": 13,
   "metadata": {},
   "outputs": [],
   "source": [
    "#precision=TP/TP+FP\n",
    "def pattern_score(tp,fp):\n",
    "    return float(tp)/float(tp+fp)\n",
    "#pattern_score(10,20)"
   ]
  },
  {
   "cell_type": "code",
   "execution_count": 12,
   "metadata": {},
   "outputs": [],
   "source": [
    "def pattern_match_collector(pat,ip_list):\n",
    "    pat_col=[]\n",
    "    for i in ip_list:\n",
    "        s=base_pattern_matcher(pat,i)\n",
    "        if isinstance(s,int):\n",
    "            continue\n",
    "        else:\n",
    "            pat_col.append(s)\n",
    "    return pat_col"
   ]
  },
  {
   "cell_type": "code",
   "execution_count": 23,
   "metadata": {
    "collapsed": true
   },
   "outputs": [
    {
     "name": "stdout",
     "output_type": "stream",
     "text": [
      "@Main Function\n",
      "1.Element replacement\n",
      "2.Block replacement\n",
      "3.End\n",
      "enter a number between 1-3\n",
      "2\n",
      "@Block replacement function\n",
      "index: 0,element ['ROOT', 'prep', 'pcomp', 'mark']\n",
      "index: 1,element ['ROOT', 'prep', 'pcomp', 'nsubj', 'det']\n",
      "index: 2,element ['ROOT', 'prep', 'pcomp', 'prep', 'pobj', 'acl', 'prt']\n",
      "index: 3,element ['ROOT', 'prep', 'pcomp', 'prep', 'pobj', 'acl', 'prep', 'pobj', 'det']\n",
      "index: 4,element ['ROOT', 'prep', 'pcomp', 'prep', 'pobj', 'acl', 'prep', 'pobj', 'compound']\n",
      "index: 5,element ['ROOT', 'prep', 'pcomp', 'prep', 'pobj', 'acl', 'prep', 'pobj', 'compound']\n",
      "index: 6,element ['ROOT', 'nsubj', 'compound']\n",
      "index: 7,element ['ROOT', 'nsubj', 'cc']\n",
      "index: 8,element ['ROOT', 'nsubj', 'conj', 'compound']\n",
      "index: 9,element ['ROOT', 'prep', 'pobj', 'acl', 'agent', 'pobj', 'compound']\n",
      "index: 10,element ['ROOT', 'prep', 'pobj', 'acl', 'agent', 'pobj', 'cc']\n",
      "index: 11,element ['ROOT', 'prep', 'pobj', 'acl', 'agent', 'pobj', 'conj', 'compound']\n",
      "index: 12,element ['ROOT', 'prep', 'pobj', 'det']\n",
      "enter a value to mask the block [value between 0 to 12]: \n",
      "1\n",
      "Enter '1' for execute the current function and  any number for return to main function 1\n",
      "@Block replacement function\n",
      "index: 0,element ['ROOT', 'prep', 'pcomp', 'mark']\n",
      "index: 1,element *\n",
      "index: 2,element ['ROOT', 'prep', 'pcomp', 'prep', 'pobj', 'acl', 'prt']\n",
      "index: 3,element ['ROOT', 'prep', 'pcomp', 'prep', 'pobj', 'acl', 'prep', 'pobj', 'det']\n",
      "index: 4,element ['ROOT', 'prep', 'pcomp', 'prep', 'pobj', 'acl', 'prep', 'pobj', 'compound']\n",
      "index: 5,element ['ROOT', 'prep', 'pcomp', 'prep', 'pobj', 'acl', 'prep', 'pobj', 'compound']\n",
      "index: 6,element ['ROOT', 'nsubj', 'compound']\n",
      "index: 7,element ['ROOT', 'nsubj', 'cc']\n",
      "index: 8,element ['ROOT', 'nsubj', 'conj', 'compound']\n",
      "index: 9,element ['ROOT', 'prep', 'pobj', 'acl', 'agent', 'pobj', 'compound']\n",
      "index: 10,element ['ROOT', 'prep', 'pobj', 'acl', 'agent', 'pobj', 'cc']\n",
      "index: 11,element ['ROOT', 'prep', 'pobj', 'acl', 'agent', 'pobj', 'conj', 'compound']\n",
      "index: 12,element ['ROOT', 'prep', 'pobj', 'det']\n",
      "enter a value to mask the block [value between 0 to 12]: \n",
      "2\n",
      "Enter '1' for execute the current function and  any number for return to main function 3\n",
      "enter a number between 1-3\n",
      "2\n",
      "@Block replacement function\n",
      "index: 0,element ['ROOT', 'prep', 'pcomp', 'mark']\n",
      "index: 1,element *\n",
      "index: 2,element *\n",
      "index: 3,element ['ROOT', 'prep', 'pcomp', 'prep', 'pobj', 'acl', 'prep', 'pobj', 'det']\n",
      "index: 4,element ['ROOT', 'prep', 'pcomp', 'prep', 'pobj', 'acl', 'prep', 'pobj', 'compound']\n",
      "index: 5,element ['ROOT', 'prep', 'pcomp', 'prep', 'pobj', 'acl', 'prep', 'pobj', 'compound']\n",
      "index: 6,element ['ROOT', 'nsubj', 'compound']\n",
      "index: 7,element ['ROOT', 'nsubj', 'cc']\n",
      "index: 8,element ['ROOT', 'nsubj', 'conj', 'compound']\n",
      "index: 9,element ['ROOT', 'prep', 'pobj', 'acl', 'agent', 'pobj', 'compound']\n",
      "index: 10,element ['ROOT', 'prep', 'pobj', 'acl', 'agent', 'pobj', 'cc']\n",
      "index: 11,element ['ROOT', 'prep', 'pobj', 'acl', 'agent', 'pobj', 'conj', 'compound']\n",
      "index: 12,element ['ROOT', 'prep', 'pobj', 'det']\n",
      "enter a value to mask the block [value between 0 to 12]: \n",
      "3\n",
      "Enter '1' for execute the current function and  any number for return to main function 1\n",
      "@Block replacement function\n",
      "index: 0,element ['ROOT', 'prep', 'pcomp', 'mark']\n",
      "index: 1,element *\n",
      "index: 2,element *\n",
      "index: 3,element *\n",
      "index: 4,element ['ROOT', 'prep', 'pcomp', 'prep', 'pobj', 'acl', 'prep', 'pobj', 'compound']\n",
      "index: 5,element ['ROOT', 'prep', 'pcomp', 'prep', 'pobj', 'acl', 'prep', 'pobj', 'compound']\n",
      "index: 6,element ['ROOT', 'nsubj', 'compound']\n",
      "index: 7,element ['ROOT', 'nsubj', 'cc']\n",
      "index: 8,element ['ROOT', 'nsubj', 'conj', 'compound']\n",
      "index: 9,element ['ROOT', 'prep', 'pobj', 'acl', 'agent', 'pobj', 'compound']\n",
      "index: 10,element ['ROOT', 'prep', 'pobj', 'acl', 'agent', 'pobj', 'cc']\n",
      "index: 11,element ['ROOT', 'prep', 'pobj', 'acl', 'agent', 'pobj', 'conj', 'compound']\n",
      "index: 12,element ['ROOT', 'prep', 'pobj', 'det']\n",
      "enter a value to mask the block [value between 0 to 12]: \n",
      "4\n",
      "Enter '1' for execute the current function and  any number for return to main function 1\n",
      "@Block replacement function\n",
      "index: 0,element ['ROOT', 'prep', 'pcomp', 'mark']\n",
      "index: 1,element *\n",
      "index: 2,element *\n",
      "index: 3,element *\n",
      "index: 4,element *\n",
      "index: 5,element ['ROOT', 'prep', 'pcomp', 'prep', 'pobj', 'acl', 'prep', 'pobj', 'compound']\n",
      "index: 6,element ['ROOT', 'nsubj', 'compound']\n",
      "index: 7,element ['ROOT', 'nsubj', 'cc']\n",
      "index: 8,element ['ROOT', 'nsubj', 'conj', 'compound']\n",
      "index: 9,element ['ROOT', 'prep', 'pobj', 'acl', 'agent', 'pobj', 'compound']\n",
      "index: 10,element ['ROOT', 'prep', 'pobj', 'acl', 'agent', 'pobj', 'cc']\n",
      "index: 11,element ['ROOT', 'prep', 'pobj', 'acl', 'agent', 'pobj', 'conj', 'compound']\n",
      "index: 12,element ['ROOT', 'prep', 'pobj', 'det']\n",
      "enter a value to mask the block [value between 0 to 12]: \n",
      "5\n",
      "Enter '1' for execute the current function and  any number for return to main function 1\n",
      "@Block replacement function\n",
      "index: 0,element ['ROOT', 'prep', 'pcomp', 'mark']\n",
      "index: 1,element *\n",
      "index: 2,element *\n",
      "index: 3,element *\n",
      "index: 4,element *\n",
      "index: 5,element *\n",
      "index: 6,element ['ROOT', 'nsubj', 'compound']\n",
      "index: 7,element ['ROOT', 'nsubj', 'cc']\n",
      "index: 8,element ['ROOT', 'nsubj', 'conj', 'compound']\n",
      "index: 9,element ['ROOT', 'prep', 'pobj', 'acl', 'agent', 'pobj', 'compound']\n",
      "index: 10,element ['ROOT', 'prep', 'pobj', 'acl', 'agent', 'pobj', 'cc']\n",
      "index: 11,element ['ROOT', 'prep', 'pobj', 'acl', 'agent', 'pobj', 'conj', 'compound']\n",
      "index: 12,element ['ROOT', 'prep', 'pobj', 'det']\n",
      "enter a value to mask the block [value between 0 to 12]: \n",
      "6\n",
      "Enter '1' for execute the current function and  any number for return to main function 1\n",
      "@Block replacement function\n",
      "index: 0,element ['ROOT', 'prep', 'pcomp', 'mark']\n",
      "index: 1,element *\n",
      "index: 2,element *\n",
      "index: 3,element *\n",
      "index: 4,element *\n",
      "index: 5,element *\n",
      "index: 6,element *\n",
      "index: 7,element ['ROOT', 'nsubj', 'cc']\n",
      "index: 8,element ['ROOT', 'nsubj', 'conj', 'compound']\n",
      "index: 9,element ['ROOT', 'prep', 'pobj', 'acl', 'agent', 'pobj', 'compound']\n",
      "index: 10,element ['ROOT', 'prep', 'pobj', 'acl', 'agent', 'pobj', 'cc']\n",
      "index: 11,element ['ROOT', 'prep', 'pobj', 'acl', 'agent', 'pobj', 'conj', 'compound']\n",
      "index: 12,element ['ROOT', 'prep', 'pobj', 'det']\n",
      "enter a value to mask the block [value between 0 to 12]: \n",
      "7\n",
      "Enter '1' for execute the current function and  any number for return to main function 1\n",
      "@Block replacement function\n",
      "index: 0,element ['ROOT', 'prep', 'pcomp', 'mark']\n",
      "index: 1,element *\n",
      "index: 2,element *\n",
      "index: 3,element *\n",
      "index: 4,element *\n",
      "index: 5,element *\n",
      "index: 6,element *\n",
      "index: 7,element *\n",
      "index: 8,element ['ROOT', 'nsubj', 'conj', 'compound']\n",
      "index: 9,element ['ROOT', 'prep', 'pobj', 'acl', 'agent', 'pobj', 'compound']\n",
      "index: 10,element ['ROOT', 'prep', 'pobj', 'acl', 'agent', 'pobj', 'cc']\n",
      "index: 11,element ['ROOT', 'prep', 'pobj', 'acl', 'agent', 'pobj', 'conj', 'compound']\n",
      "index: 12,element ['ROOT', 'prep', 'pobj', 'det']\n",
      "enter a value to mask the block [value between 0 to 12]: \n",
      "8\n",
      "Enter '1' for execute the current function and  any number for return to main function 1\n",
      "@Block replacement function\n",
      "index: 0,element ['ROOT', 'prep', 'pcomp', 'mark']\n",
      "index: 1,element *\n",
      "index: 2,element *\n",
      "index: 3,element *\n",
      "index: 4,element *\n",
      "index: 5,element *\n",
      "index: 6,element *\n",
      "index: 7,element *\n",
      "index: 8,element *\n",
      "index: 9,element ['ROOT', 'prep', 'pobj', 'acl', 'agent', 'pobj', 'compound']\n",
      "index: 10,element ['ROOT', 'prep', 'pobj', 'acl', 'agent', 'pobj', 'cc']\n",
      "index: 11,element ['ROOT', 'prep', 'pobj', 'acl', 'agent', 'pobj', 'conj', 'compound']\n",
      "index: 12,element ['ROOT', 'prep', 'pobj', 'det']\n",
      "enter a value to mask the block [value between 0 to 12]: \n",
      "9\n",
      "Enter '1' for execute the current function and  any number for return to main function 1\n",
      "@Block replacement function\n",
      "index: 0,element ['ROOT', 'prep', 'pcomp', 'mark']\n",
      "index: 1,element *\n",
      "index: 2,element *\n",
      "index: 3,element *\n",
      "index: 4,element *\n",
      "index: 5,element *\n",
      "index: 6,element *\n",
      "index: 7,element *\n",
      "index: 8,element *\n",
      "index: 9,element *\n",
      "index: 10,element ['ROOT', 'prep', 'pobj', 'acl', 'agent', 'pobj', 'cc']\n",
      "index: 11,element ['ROOT', 'prep', 'pobj', 'acl', 'agent', 'pobj', 'conj', 'compound']\n",
      "index: 12,element ['ROOT', 'prep', 'pobj', 'det']\n"
     ]
    },
    {
     "name": "stdout",
     "output_type": "stream",
     "text": [
      "enter a value to mask the block [value between 0 to 12]: \n",
      "10\n",
      "Enter '1' for execute the current function and  any number for return to main function 1\n",
      "@Block replacement function\n",
      "index: 0,element ['ROOT', 'prep', 'pcomp', 'mark']\n",
      "index: 1,element *\n",
      "index: 2,element *\n",
      "index: 3,element *\n",
      "index: 4,element *\n",
      "index: 5,element *\n",
      "index: 6,element *\n",
      "index: 7,element *\n",
      "index: 8,element *\n",
      "index: 9,element *\n",
      "index: 10,element *\n",
      "index: 11,element ['ROOT', 'prep', 'pobj', 'acl', 'agent', 'pobj', 'conj', 'compound']\n",
      "index: 12,element ['ROOT', 'prep', 'pobj', 'det']\n",
      "enter a value to mask the block [value between 0 to 12]: \n",
      "11\n",
      "Enter '1' for execute the current function and  any number for return to main function 1\n",
      "@Block replacement function\n",
      "index: 0,element ['ROOT', 'prep', 'pcomp', 'mark']\n",
      "index: 1,element *\n",
      "index: 2,element *\n",
      "index: 3,element *\n",
      "index: 4,element *\n",
      "index: 5,element *\n",
      "index: 6,element *\n",
      "index: 7,element *\n",
      "index: 8,element *\n",
      "index: 9,element *\n",
      "index: 10,element *\n",
      "index: 11,element *\n",
      "index: 12,element ['ROOT', 'prep', 'pobj', 'det']\n",
      "enter a value to mask the block [value between 0 to 12]: \n",
      "12\n",
      "Enter '1' for execute the current function and  any number for return to main function 2\n",
      "enter a number between 1-3\n",
      "3\n"
     ]
    }
   ],
   "source": [
    "p=base_pattern_creater(pattern_create(arg_list[0]))"
   ]
  },
  {
   "cell_type": "code",
   "execution_count": 370,
   "metadata": {},
   "outputs": [
    {
     "data": {
      "text/plain": [
       "(1, 0)"
      ]
     },
     "execution_count": 370,
     "metadata": {},
     "output_type": "execute_result"
    }
   ],
   "source": [
    "dec_pat_col=pattern_match_collector(a,dec_list[:70])\n",
    "arif_pat_col=pattern_match_collector(a,u_arif_ls)\n",
    "#for i,j in enumerate(pattern_match_collector(p,arg_list)):\n",
    "#    print(i,\":\",j)\n",
    "len(dec_pat_col),len(arif_pat_col)"
   ]
  },
  {
   "cell_type": "code",
   "execution_count": 121,
   "metadata": {},
   "outputs": [
    {
     "data": {
      "text/plain": [
       "(0.8, 0.2)"
      ]
     },
     "execution_count": 121,
     "metadata": {},
     "output_type": "execute_result"
    }
   ],
   "source": [
    "pattern_score(len(fac_pat_col),len(adri_pat_col)),pattern_score(len(adri_pat_col),len(fac_pat_col))"
   ]
  },
  {
   "cell_type": "code",
   "execution_count": 2,
   "metadata": {},
   "outputs": [
    {
     "data": {
      "text/plain": [
       "[['ROOT', 'prep', 'pobj', 'det'],\n",
       " ['ROOT', 'prep', 'pobj', 'prep', 'pobj'],\n",
       " ['ROOT', 'nsubj', 'det'],\n",
       " '*']"
      ]
     },
     "execution_count": 2,
     "metadata": {},
     "output_type": "execute_result"
    }
   ],
   "source": [
    "from copy import deepcopy\n",
    "a=deepcopy(dec_list[34])\n",
    "a[3:]=\"*\"\n",
    "a"
   ]
  },
  {
   "cell_type": "code",
   "execution_count": 3,
   "metadata": {},
   "outputs": [
    {
     "data": {
      "text/plain": [
       "[['ROOT', 'prep', 'pobj', 'det'],\n",
       " ['ROOT', 'prep', 'pobj', 'prep', 'pobj'],\n",
       " ['ROOT', 'nsubj', 'det'],\n",
       " ['ROOT', 'xcomp', 'aux'],\n",
       " ['ROOT', 'xcomp', 'auxpass'],\n",
       " ['ROOT', 'xcomp', 'prep', 'pobj', 'det'],\n",
       " ['ROOT', 'xcomp', 'prep', 'pobj', 'prep', 'pobj', 'det']]"
      ]
     },
     "execution_count": 3,
     "metadata": {},
     "output_type": "execute_result"
    }
   ],
   "source": [
    "dec_list[34]"
   ]
  }
 ],
 "metadata": {
  "kernelspec": {
   "display_name": "Python 3",
   "language": "python",
   "name": "python3"
  },
  "language_info": {
   "codemirror_mode": {
    "name": "ipython",
    "version": 3
   },
   "file_extension": ".py",
   "mimetype": "text/x-python",
   "name": "python",
   "nbconvert_exporter": "python",
   "pygments_lexer": "ipython3",
   "version": "3.6.5"
  }
 },
 "nbformat": 4,
 "nbformat_minor": 2
}
