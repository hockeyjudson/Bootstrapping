{
 "cells": [
  {
   "cell_type": "code",
   "execution_count": 13,
   "metadata": {
    "collapsed": true
   },
   "outputs": [],
   "source": [
    "import spacy\n",
    "nlp=spacy.load('en_core_web_sm')\n",
    "def remove_stop_punct(s):\n",
    "        from nltk.corpus import stopwords\n",
    "        stopwords=stopwords.words('english')\n",
    "        doc=nlp(s)\n",
    "        #k=sorted([\".\",\"DT\",\"TO\",\"CC\",\"IN\"])\n",
    "        st=\" \".join(t.text for t in doc if (t.pos_ not in [\"PUNCT\"] )and(t.text.lower() not in stopwords))\n",
    "        return st\n",
    "#print remove_stop_punct(s)"
   ]
  },
  {
   "cell_type": "code",
   "execution_count": 3,
   "metadata": {
    "collapsed": true
   },
   "outputs": [],
   "source": [
    "def dict_conv(st):\n",
    "    doc=nlp(remove_stop_punct(st))\n",
    "    d={tok.text:[tok.dep_,tok.head.text,tok.tag_,[child for child in tok.children]] for tok in doc}\n",
    "    return d"
   ]
  },
  {
   "cell_type": "code",
   "execution_count": 4,
   "metadata": {
    "collapsed": true
   },
   "outputs": [],
   "source": [
    "def dfs(data, path, paths = []):   \n",
    "    datum = str(path[-1])\n",
    "    if datum in data:\n",
    "        if data[datum]==[]:\n",
    "            paths+=[path]\n",
    "            return paths\n",
    "        else:\n",
    "            for val in data[datum]:\n",
    "                new_path = path + [val]\n",
    "                paths = dfs(data, new_path, paths)\n",
    "    else:\n",
    "        paths += [path]\n",
    "    return paths"
   ]
  },
  {
   "cell_type": "code",
   "execution_count": 28,
   "metadata": {
    "collapsed": true
   },
   "outputs": [],
   "source": [
    "def parse_depend(dt):\n",
    "    md= {i:j[3] for i,j in dt.items()}\n",
    "    m=\"\"\n",
    "    for i,j in dt.items():\n",
    "        if j[0]==\"ROOT\":\n",
    "            m=str(i)\n",
    "    ml=dfs(md,[m],[])\n",
    "    mpos=[[dt[str(j)][2] for j in i]for i in ml]\n",
    "    mdep=[[dt[str(j)][0] for j in i]for i in ml]\n",
    "    return mpos,mdep"
   ]
  },
  {
   "cell_type": "code",
   "execution_count": 6,
   "metadata": {
    "collapsed": true
   },
   "outputs": [],
   "source": [
    "def deppars_matcher(s1,s2):\n",
    "    m1=parse_depend(dict_conv(unicode(s1, \"utf-8\")))\n",
    "    m2=parse_depend(dict_conv(unicode(s2, \"utf-8\")))\n",
    "    m3=[]\n",
    "    for i in m1:\n",
    "        if i in m2:\n",
    "            m3.append(i)\n",
    "    return m3"
   ]
  },
  {
   "cell_type": "code",
   "execution_count": 1,
   "metadata": {
    "collapsed": false
   },
   "outputs": [
    {
     "ename": "NameError",
     "evalue": "name 'remove_stop_punct' is not defined",
     "output_type": "error",
     "traceback": [
      "\u001b[1;31m---------------------------------------------------------------------------\u001b[0m",
      "\u001b[1;31mNameError\u001b[0m                                 Traceback (most recent call last)",
      "\u001b[1;32m<ipython-input-1-91927f0e0cdc>\u001b[0m in \u001b[0;36m<module>\u001b[1;34m()\u001b[0m\n\u001b[0;32m      3\u001b[0m \u001b[0mtxt\u001b[0m\u001b[1;33m=\u001b[0m\u001b[0mf1\u001b[0m\u001b[1;33m.\u001b[0m\u001b[0mreadlines\u001b[0m\u001b[1;33m(\u001b[0m\u001b[1;33m)\u001b[0m\u001b[1;33m\u001b[0m\u001b[0m\n\u001b[0;32m      4\u001b[0m \u001b[1;32mfor\u001b[0m \u001b[0mi\u001b[0m \u001b[1;32min\u001b[0m \u001b[0mtxt\u001b[0m\u001b[1;33m:\u001b[0m\u001b[1;33m\u001b[0m\u001b[0m\n\u001b[1;32m----> 5\u001b[1;33m     \u001b[0ms\u001b[0m\u001b[1;33m=\u001b[0m\u001b[0mremove_stop_punct\u001b[0m\u001b[1;33m(\u001b[0m\u001b[0municode\u001b[0m\u001b[1;33m(\u001b[0m\u001b[0mi\u001b[0m\u001b[1;33m,\u001b[0m\u001b[1;34m\"utf-8\"\u001b[0m\u001b[1;33m)\u001b[0m\u001b[1;33m)\u001b[0m\u001b[1;33m\u001b[0m\u001b[0m\n\u001b[0m\u001b[0;32m      6\u001b[0m     \u001b[0mt\u001b[0m\u001b[1;33m=\u001b[0m\u001b[0mnlp\u001b[0m\u001b[1;33m(\u001b[0m\u001b[0ms\u001b[0m\u001b[1;33m)\u001b[0m\u001b[1;33m\u001b[0m\u001b[0m\n\u001b[0;32m      7\u001b[0m     \u001b[0mpos\u001b[0m\u001b[1;33m=\u001b[0m\u001b[1;33m[\u001b[0m\u001b[0mi\u001b[0m\u001b[1;33m.\u001b[0m\u001b[0mtag_\u001b[0m \u001b[1;32mfor\u001b[0m \u001b[0mi\u001b[0m \u001b[1;32min\u001b[0m \u001b[0mt\u001b[0m\u001b[1;33m]\u001b[0m\u001b[1;33m\u001b[0m\u001b[0m\n",
      "\u001b[1;31mNameError\u001b[0m: name 'remove_stop_punct' is not defined"
     ]
    }
   ],
   "source": [
    "f=open('/home/judson/Desktop/sentenceSeg/POS_IntraSent/arguments_POS.txt',\"a\")\n",
    "f1=open('/home/judson/Desktop/sentenceSeg/Labelled/arguments.txt',\"r\")\n",
    "txt=f1.readlines()\n",
    "for i in txt:\n",
    "    s=remove_stop_punct(unicode(i,\"utf-8\"))\n",
    "    t=nlp(s)\n",
    "    pos=[i.tag_ for i in t]\n",
    "    f.writelines(s+\"\\t\"+\",\".join(pos)+\"\\t<ARGUMENTS>\\n\")"
   ]
  },
  {
   "cell_type": "code",
   "execution_count": 25,
   "metadata": {
    "collapsed": true
   },
   "outputs": [
    {
     "ename": "UnicodeEncodeError",
     "evalue": "'ascii' codec can't encode character u'\\u2022' in position 2: ordinal not in range(128)",
     "output_type": "error",
     "traceback": [
      "\u001b[1;31m---------------------------------------------------------------------------\u001b[0m",
      "\u001b[1;31mUnicodeEncodeError\u001b[0m                        Traceback (most recent call last)",
      "\u001b[1;32m<ipython-input-25-28e0bdbbe27c>\u001b[0m in \u001b[0;36m<module>\u001b[1;34m()\u001b[0m\n\u001b[0;32m      6\u001b[0m     \u001b[0mt\u001b[0m\u001b[1;33m=\u001b[0m\u001b[0mnlp\u001b[0m\u001b[1;33m(\u001b[0m\u001b[0ms\u001b[0m\u001b[1;33m)\u001b[0m\u001b[1;33m\u001b[0m\u001b[0m\n\u001b[0;32m      7\u001b[0m     \u001b[0mpos\u001b[0m\u001b[1;33m=\u001b[0m\u001b[1;33m[\u001b[0m\u001b[0mi\u001b[0m\u001b[1;33m.\u001b[0m\u001b[0mtag_\u001b[0m \u001b[1;32mfor\u001b[0m \u001b[0mi\u001b[0m \u001b[1;32min\u001b[0m \u001b[0mt\u001b[0m\u001b[1;33m]\u001b[0m\u001b[1;33m\u001b[0m\u001b[0m\n\u001b[1;32m----> 8\u001b[1;33m     \u001b[0mf\u001b[0m\u001b[1;33m.\u001b[0m\u001b[0mwritelines\u001b[0m\u001b[1;33m(\u001b[0m\u001b[0mstr\u001b[0m\u001b[1;33m(\u001b[0m\u001b[0ms\u001b[0m\u001b[1;33m+\u001b[0m\u001b[1;34m\"\\t\"\u001b[0m\u001b[1;33m+\u001b[0m\u001b[1;34m\",\"\u001b[0m\u001b[1;33m.\u001b[0m\u001b[0mjoin\u001b[0m\u001b[1;33m(\u001b[0m\u001b[0mpos\u001b[0m\u001b[1;33m)\u001b[0m\u001b[1;33m+\u001b[0m\u001b[1;34m\"\\t<DECISION>\\n\"\u001b[0m\u001b[1;33m)\u001b[0m\u001b[1;33m)\u001b[0m\u001b[1;33m\u001b[0m\u001b[0m\n\u001b[0m",
      "\u001b[1;31mUnicodeEncodeError\u001b[0m: 'ascii' codec can't encode character u'\\u2022' in position 2: ordinal not in range(128)"
     ]
    }
   ],
   "source": [
    "f=open('/home/judson/Desktop/sentenceSeg/POS_IntraSent/decision_POS.txt',\"a\")\n",
    "f1=open('/home/judson/Desktop/sentenceSeg/Labelled/decision.txt',\"r\")\n",
    "txt=f1.readlines()\n",
    "for i in txt:\n",
    "    s=remove_stop_punct(unicode(i,\"utf-8\"))\n",
    "    t=nlp(s)\n",
    "    pos=[i.tag_ for i in t]\n",
    "    f.writelines(str(s+\"\\t\"+\",\".join(pos)+\"\\t<DECISION>\\n\"))"
   ]
  },
  {
   "cell_type": "code",
   "execution_count": 26,
   "metadata": {
    "collapsed": true
   },
   "outputs": [],
   "source": [
    "f=open('/home/judson/Desktop/sentenceSeg/POS_IntraSent/facts_POS.txt',\"a\")\n",
    "f1=open('/home/judson/Desktop/sentenceSeg/Labelled/facts.txt',\"r\")\n",
    "txt=f1.readlines()\n",
    "for i in txt:\n",
    "    s=remove_stop_punct(unicode(i,\"utf-8\"))\n",
    "    t=nlp(s)\n",
    "    pos=[i.tag_ for i in t]\n",
    "    f.writelines(str(s+\"\\t\"+\",\".join(pos)+\"\\t<FACTS>\\n\"))"
   ]
  },
  {
   "cell_type": "code",
   "execution_count": 27,
   "metadata": {
    "collapsed": true
   },
   "outputs": [],
   "source": [
    "f=open('/home/judson/Desktop/sentenceSeg/POS_IntraSent/ratio_Decision_POS.txt',\"a\")\n",
    "f1=open('/home/judson/Desktop/sentenceSeg/Labelled/ratio_decision.txt',\"r\")\n",
    "txt=f1.readlines()\n",
    "for i in txt:\n",
    "    s=remove_stop_punct(unicode(i,\"utf-8\"))\n",
    "    t=nlp(s)\n",
    "    pos=[i.tag_ for i in t]\n",
    "    f.writelines(str(s+\"\\t\"+\",\".join(pos)+\"\\t<RATIO>\\n\"))"
   ]
  },
  {
   "cell_type": "code",
   "execution_count": 29,
   "metadata": {
    "collapsed": true
   },
   "outputs": [],
   "source": [
    "def find_all_paths(graph, start, end, path=[]):\n",
    "        path = path + [start]\n",
    "        if start == end:\n",
    "            return [path]\n",
    "        if not graph.has_key(start):\n",
    "            return []\n",
    "        paths = []\n",
    "        for node in graph[start]:\n",
    "            if node not in path:\n",
    "                newpaths = find_all_paths(graph, node, end, path)\n",
    "                for newpath in newpaths:\n",
    "                    paths.append(newpath)\n",
    "        return paths"
   ]
  }
 ],
 "metadata": {
  "kernelspec": {
   "display_name": "Python 2",
   "language": "python",
   "name": "python2"
  },
  "language_info": {
   "codemirror_mode": {
    "name": "ipython",
    "version": 2
   },
   "file_extension": ".py",
   "mimetype": "text/x-python",
   "name": "python",
   "nbconvert_exporter": "python",
   "pygments_lexer": "ipython2",
   "version": "2.7.13"
  }
 },
 "nbformat": 4,
 "nbformat_minor": 0
}
