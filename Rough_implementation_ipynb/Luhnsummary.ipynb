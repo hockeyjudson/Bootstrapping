{
 "cells": [
  {
   "cell_type": "code",
   "execution_count": 1,
   "metadata": {
    "collapsed": true
   },
   "outputs": [],
   "source": [
    "from sumy.parsers.plaintext import PlaintextParser\n",
    "from sumy.nlp.tokenizers import Tokenizer\n",
    "from sumy.summarizers import luhn\n",
    "from sumy.nlp.stemmers import Stemmer"
   ]
  },
  {
   "cell_type": "code",
   "execution_count": 2,
   "metadata": {
    "collapsed": true
   },
   "outputs": [],
   "source": [
    "parser = PlaintextParser.from_file(\"/home/judson/Desktop/Refined/Input/ScopeNew1BL41545713.txt\", Tokenizer(\"english\"))\n",
    "summarizer = luhn.LuhnSummarizer()"
   ]
  },
  {
   "cell_type": "code",
   "execution_count": 3,
   "metadata": {
    "collapsed": false
   },
   "outputs": [
    {
     "name": "stdout",
     "output_type": "stream",
     "text": [
      "﻿This unfair labor practice case is before the Authority on exceptions to the attached decision of the Administrative Law Judge (Judge) filed by the General Counsel (GC).The complaint alleges that the Respondent violated section 7116(a)(1) of the Federal Service Labor-Management Relations Statute (the Statute) by ordering the removal of two notices posted by the Charging Party, American Federation of Government Employees, AFL-CIO, Local 900, (AFGE Local 900 or the Union) on the electronic bulletin board, which is maintained by the Respondent.\n",
      "Tim \"LOOSE\" Cannon issued copies of his letter and the Union&apos;s request to negotiate to management and employees; thereby, attempting to BUST UP THE UNION.Tim \"LOOSE\" Cannon sent me a letter via cc:mail &lsqb;e-mail&rsqb; stating that Management will proceed with the promotions of the GS-5&apos;s. He further stated that if the Union disagreed with the promotions, we could take appropriate actions.\n",
      "The Union filed a grievance, dated February 5, 1998, which states, in pertinent part:Union Grievance RE: Censorship of the Union&apos;s Electronic Bulletin BoardDear Ms. Calloway:The Union was informed &lsqb;on&rsqb; February 3, 1998 that the Agency will censor it&apos;s &lsqb;sic&rsqb; Electronic Bulletin Board and remove whatever they deem necessary.\n",
      "On September 20, 1998, the Union filed an amended charge, which reads as follows:On February 3, 1998 the Agency unilaterally changed a &lsqb;past&rsqb; practice without notifying this Union.Specifically, the Agency instructed the Centralized Communications Agency (CCA) to screen all Union messages on the AFGE Bulletin cc mail account and to remove two messages from the AFGE electronic \"bulletin board\".\n",
      "The Judge found that: Because the grievance and the charge each arose from the same factual circumstances and because each asserted the same theory, namely, the screening, or censorship, of the Union&apos;s messages on the electronic bulletin board, the Complaint herein is barred, pursuant to  &lsqb;71&rsqb;16(d) of the Statute, by the prior filed grievance.\n",
      "However, he found that the amended charge asserted no new cause of action The Judge stated that if the Authority should determine that the complaint alleging a ULP for removing the \"loose Cannon\" message is not barred by section 7116(d), then he would nevertheless find that, both times it was posted, the memo \"was removed because it plainly violated established Command Policy on the use of E-mail, &lsqb;and therefore&rsqb; constituted no change of established conditions of employment and did not violate &lsqb;section 7116(a)(1)&rsqb; of the Statute.\"\n",
      "The General Counsel states that although Cooper testified she later discovered that the CBA does not explicitly cover the subject of electronic bulletin boards, the issue is not whether the grievance had merit under the theory alleged, but only whether the theory alleged in the grievance is the same as in the ULP charge.\n",
      "General Counsel&apos;s Exception to the Judge&apos;s Failure to Find On the Merits that Removal of the Messages Violated the Statute The Judge determined that if the Authority should find that the complaint is not barred by section 7116(d), then the complaint regarding the \"loose Cannon\" postings should be dismissed on the merits.\n",
      "The General Counsel states that to the extent there was confusion as to whether the reference to \"two\" notices posted on the Union&apos;s electronic bulletin board meant the staffing posting, which was posted twice, or meant the staffing posting and the Partnership Council posting, \"the totality of the circumstances here should have made it clear by the time the ALJ wrote his decision that the notice concerning partnership was clearly an allegation in the case.\"\n",
      "The ULP Complaint Is Not Barred By Section 7116(d) Consistent with Authority precedent, \"in determining whether a ULP and a grievance involve the same issue, the Authority focuses on whether the ULP arose from the same set of factual circumstances as the grievance and whether the theories advanced in support of the ULP and the grievance are substantially similar.\"\n",
      "Removal of the \"Loose Cannon\" Memo Did Not Violate the Statute In Department of the Air Force, Scott Air Force Base, Illinois, 34 FLRA 1129, 1136 (1990) (Scott), on which the General Counsel relies to support its exceptions, the Authority stated:Where a right of access to agency property has been established by past practice &lsqb;use of the Agency newspaper, in that case&rsqb;, an employer would reasonably tend to discourage union activity in violation of section 7116(a)(1) of the Statute if: .\n",
      "C. The Judge Did Not Address An Allegation That Was Properly Before Him On its face the complaint&apos;s reference to the removal of \"two notices\" is ambiguous, and might refer either to the notice on staffing, which was posted twice, or to the twice-posted staffing notice as the first notice, and the Partnership Council notice as the second.\n",
      "Because the Judge did not address the allegation that the removal of the Partnership Council posting violated the Statute, the Authority does not have the benefit of the Judge&apos;s findings concerning the reason for the removal of the posting, and whether it was removed because it did not meet the Respondent&apos;s established standards.\n",
      "In her letter, Ms. Cooper stated that the Labor Management had expired January 1, 1998; that \"It has been brought to the attention of the Union that your subordinates are still utilizing the guidelines of this agreement\"; and then, Ms. Cooper&apos;s letter stated, \"The Union request all actions as it pertains to the Agreement of the staffing plan cease until negotiations are complete.\"\n",
      "55) As to the charge:\"A When we filed the unfair labor practice charge, we were alleging that they were violating the statute by interfering with the union the way that we represented our employees, that they were changing the practice, that they were refusing to bargain in good faith by notifying us that they were -- by not notifying us they were removing it, that they didn&apos;t allow us the opportunity to bargain.\"\n",
      "the elements of section 7116(d) which must attach in order for a grievance to be precluded &lsqb;or, conversely, for an unfair labor practice complaint to be precluded, Internal Revenue Service, Chicago, Illinois, 3 FLRA 479 (1980)&rsqb; are: (1) the issue which is the subject matter of the grievance is the same as the issue which is the subject matter of the unfair labor practice; (2) such issue was earlier raised under the unfair labor practice procedures; and (3) the selection of the unfair labor practice procedures was in the discretion of the aggrieved party.\n",
      "There is no dispute that the grievance and the charge herein each arose from the same set of factual circumstances, namely, the removal, or \"censorship\", of Ms. Cooper&apos;s February 2, 1998, message from the Union electronic bulletin board at which time, Respondent at 10:41 a.m., February 2, 1998, gave the Union written notice of its action (G.C.\n",
      "The Union filed its grievance on February 5, 1998, and the Union filed the charge on March 6, 1998, so, plainly, the Union as the \"aggrieved\" party in each instance made its own free choice to file its grievance before it filed its charge-indeed, it actually prepared and signed its charge on February 3, 1998; but then \"sat on it\" for more than a month and did not file it until March 6, 1998.\n",
      "we were alleging that they were violating the statute by interfering with the union the way that we represented our employees, that they were changing the practice, that they were refusing to bargain in good faith by notifying us that they were -- by not notifying us they were removing it, that they didn&apos;t allow us the opportunity to bargain.\"\n",
      "Accordingly, if it should be determined that the Complaint is not barred by § 16(d) of the Statute, I would, nevertheless, find that because Ms. Cooper&apos;s message of January 29, 1998, which she, \"re-posted\" on February 2, 1998, was removed because it plainly violated established Command Policy on the use of E-mail, constituted no change of established conditions of employment and did not violate § 16(a)(1) of the Statute.\n"
     ]
    }
   ],
   "source": [
    "summary = summarizer(parser.document, 20) \n",
    "for sentence in summary:\n",
    "    print sentence"
   ]
  },
  {
   "cell_type": "code",
   "execution_count": 4,
   "metadata": {
    "collapsed": false
   },
   "outputs": [
    {
     "name": "stdout",
     "output_type": "stream",
     "text": [
      "﻿This unfair labor practice case is before the Authority on exceptions to the attached decision of the Administrative Law Judge (Judge) filed by the General Counsel (GC).The complaint alleges that the Respondent violated section 7116(a)(1) of the Federal Service Labor-Management Relations Statute (the Statute) by ordering the removal of two notices posted by the Charging Party, American Federation of Government Employees, AFL-CIO, Local 900, (AFGE Local 900 or the Union) on the electronic bulletin board, which is maintained by the Respondent.\n",
      "Tim \"LOOSE\" Cannon issued copies of his letter and the Union&apos;s request to negotiate to management and employees; thereby, attempting to BUST UP THE UNION.Tim \"LOOSE\" Cannon sent me a letter via cc:mail &lsqb;e-mail&rsqb; stating that Management will proceed with the promotions of the GS-5&apos;s. He further stated that if the Union disagreed with the promotions, we could take appropriate actions.\n",
      "However, he found that the amended charge asserted no new cause of action The Judge stated that if the Authority should determine that the complaint alleging a ULP for removing the \"loose Cannon\" message is not barred by section 7116(d), then he would nevertheless find that, both times it was posted, the memo \"was removed because it plainly violated established Command Policy on the use of E-mail, &lsqb;and therefore&rsqb; constituted no change of established conditions of employment and did not violate &lsqb;section 7116(a)(1)&rsqb; of the Statute.\"\n",
      "The General Counsel states that to the extent there was confusion as to whether the reference to \"two\" notices posted on the Union&apos;s electronic bulletin board meant the staffing posting, which was posted twice, or meant the staffing posting and the Partnership Council posting, \"the totality of the circumstances here should have made it clear by the time the ALJ wrote his decision that the notice concerning partnership was clearly an allegation in the case.\"\n",
      "Removal of the \"Loose Cannon\" Memo Did Not Violate the Statute In Department of the Air Force, Scott Air Force Base, Illinois, 34 FLRA 1129, 1136 (1990) (Scott), on which the General Counsel relies to support its exceptions, the Authority stated:Where a right of access to agency property has been established by past practice &lsqb;use of the Agency newspaper, in that case&rsqb;, an employer would reasonably tend to discourage union activity in violation of section 7116(a)(1) of the Statute if: .\n",
      "In her letter, Ms. Cooper stated that the Labor Management had expired January 1, 1998; that \"It has been brought to the attention of the Union that your subordinates are still utilizing the guidelines of this agreement\"; and then, Ms. Cooper&apos;s letter stated, \"The Union request all actions as it pertains to the Agreement of the staffing plan cease until negotiations are complete.\"\n",
      "55) As to the charge:\"A When we filed the unfair labor practice charge, we were alleging that they were violating the statute by interfering with the union the way that we represented our employees, that they were changing the practice, that they were refusing to bargain in good faith by notifying us that they were -- by not notifying us they were removing it, that they didn&apos;t allow us the opportunity to bargain.\"\n",
      "the elements of section 7116(d) which must attach in order for a grievance to be precluded &lsqb;or, conversely, for an unfair labor practice complaint to be precluded, Internal Revenue Service, Chicago, Illinois, 3 FLRA 479 (1980)&rsqb; are: (1) the issue which is the subject matter of the grievance is the same as the issue which is the subject matter of the unfair labor practice; (2) such issue was earlier raised under the unfair labor practice procedures; and (3) the selection of the unfair labor practice procedures was in the discretion of the aggrieved party.\n",
      "we were alleging that they were violating the statute by interfering with the union the way that we represented our employees, that they were changing the practice, that they were refusing to bargain in good faith by notifying us that they were -- by not notifying us they were removing it, that they didn&apos;t allow us the opportunity to bargain.\"\n",
      "Accordingly, if it should be determined that the Complaint is not barred by § 16(d) of the Statute, I would, nevertheless, find that because Ms. Cooper&apos;s message of January 29, 1998, which she, \"re-posted\" on February 2, 1998, was removed because it plainly violated established Command Policy on the use of E-mail, constituted no change of established conditions of employment and did not violate § 16(a)(1) of the Statute.\n"
     ]
    }
   ],
   "source": [
    "summary = summarizer(parser.document, 10) \n",
    "for sentence in summary:\n",
    "    print sentence"
   ]
  }
 ],
 "metadata": {
  "kernelspec": {
   "display_name": "Python 2",
   "language": "python",
   "name": "python2"
  },
  "language_info": {
   "codemirror_mode": {
    "name": "ipython",
    "version": 2
   },
   "file_extension": ".py",
   "mimetype": "text/x-python",
   "name": "python",
   "nbconvert_exporter": "python",
   "pygments_lexer": "ipython2",
   "version": "2.7.13"
  }
 },
 "nbformat": 4,
 "nbformat_minor": 0
}
