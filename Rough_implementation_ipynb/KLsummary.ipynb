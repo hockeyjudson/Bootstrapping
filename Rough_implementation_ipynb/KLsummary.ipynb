{
 "cells": [
  {
   "cell_type": "code",
   "execution_count": 1,
   "metadata": {
    "collapsed": true
   },
   "outputs": [],
   "source": [
    "from sumy.parsers.plaintext import PlaintextParser\n",
    "from sumy.nlp.tokenizers import Tokenizer\n",
    "from sumy.summarizers import kl\n",
    "from sumy.nlp.stemmers import Stemmer"
   ]
  },
  {
   "cell_type": "code",
   "execution_count": 5,
   "metadata": {
    "collapsed": false
   },
   "outputs": [],
   "source": [
    "parser = PlaintextParser.from_file(\"/home/judson/Desktop/Refined/Input/ScopeNew1BL41545713.txt\", Tokenizer(\"english\"))\n",
    "summarizer = kl.KLSummarizer()"
   ]
  },
  {
   "cell_type": "code",
   "execution_count": 6,
   "metadata": {
    "collapsed": false
   },
   "outputs": [
    {
     "name": "stdout",
     "output_type": "stream",
     "text": [
      "First and foremost, your request will put a hold on 37 .\n",
      "The General Counsel argues that the Judge_s framing of the theory of violation in both the grievance and the ULP as \"the screening, or censorship, of the Union&apos;s messages on the electronic bulletin board\" was incorrect.\n",
      "The General Counsel contends that the result should be a finding that the Respondent&apos;s removal of both the \"loose Cannon\" posting and the Partnership Council posting violated the Statute as alleged.D.\n",
      "The ULP Amended charge alleges that the Respondent&apos;s removal of the postings from the bulletin board violated section 7116(a)(1) of the Statute.\n",
      "Thus, the grievance explicitly alleged a violation of the CBA, and the basis of the ULP allegation was a violation of the Statute.\n",
      "In asserting that \"the evidence .\n",
      "In these circumstances, we find that the issue of improper removal of the Partnership Council posting was litigated, and is before the Authority.D.\n",
      "The remainder of the complaint is dismissed.\n",
      "1(a)) and a First Amended Charge, filed on September 30, 1998 (G.C.\n",
      "The Complaint and Notice of Hearing issued on September 30, 1998 (G.C.\n",
      "On February 5, 1998, Ms. Cooper, as President of the Union, filed the following grievance:\"Union Grievance RE: Censorship of the Union&apos;s Electronic Bulletin Board\"Dear Ms. Calloway: \"The Union was informed in February 3, 1998 that the Agency will censor it&apos;s Electronic Bulletin Board and remove whatever they deem necessary.\n",
      "1(b)).Whatever might have been alleged in the original charge, plainly the First Amended charge, as does the Complaint, alleges only a violation of § 16(a)(1)(G.C.\n",
      "we did file a grievance, but it wasn&apos;t protesting the removal.\n",
      "The bulletin board was covered in our contract.\n",
      "The grievance which the Union filed on February 5, 1998, read, as material, as follows:\"Union Grievance RE: Censorship of the Union&apos;s Electronic Bulletin Board\"Dear Ms. Calloway: \"The Union was informed in February 3, 1998 that the Agency will censor it&apos;s Electronic Bulletin Board and remove whatever they deem necessary.\n",
      "the contract doesn&apos;t say anything about electronic bulletin boards.\n",
      "It is true that the grievance asserted that the censorship violated the parties&apos; Agreement while the charge asserted that the censorship violated the Statute.\n",
      "it is clear that the ULP arose from the same set of factual circumstances as the grievance and the same theory was advanced in support of both the ULP and the grievance.\"\n",
      "The original charge alleged, \".\n",
      "1(a)) and the First Amended Charge added as instances of the screening, \".\n"
     ]
    }
   ],
   "source": [
    "summary = summarizer(parser.document, 20) \n",
    "for sentence in summary:\n",
    "    print sentence"
   ]
  },
  {
   "cell_type": "code",
   "execution_count": 7,
   "metadata": {
    "collapsed": false
   },
   "outputs": [
    {
     "name": "stdout",
     "output_type": "stream",
     "text": [
      "The General Counsel argues that the Judge_s framing of the theory of violation in both the grievance and the ULP as \"the screening, or censorship, of the Union&apos;s messages on the electronic bulletin board\" was incorrect.\n",
      "The General Counsel contends that the result should be a finding that the Respondent&apos;s removal of both the \"loose Cannon\" posting and the Partnership Council posting violated the Statute as alleged.D.\n",
      "The ULP Amended charge alleges that the Respondent&apos;s removal of the postings from the bulletin board violated section 7116(a)(1) of the Statute.\n",
      "Thus, the grievance explicitly alleged a violation of the CBA, and the basis of the ULP allegation was a violation of the Statute.\n",
      "1(a)) and a First Amended Charge, filed on September 30, 1998 (G.C.\n",
      "On February 5, 1998, Ms. Cooper, as President of the Union, filed the following grievance:\"Union Grievance RE: Censorship of the Union&apos;s Electronic Bulletin Board\"Dear Ms. Calloway: \"The Union was informed in February 3, 1998 that the Agency will censor it&apos;s Electronic Bulletin Board and remove whatever they deem necessary.\n",
      "The grievance which the Union filed on February 5, 1998, read, as material, as follows:\"Union Grievance RE: Censorship of the Union&apos;s Electronic Bulletin Board\"Dear Ms. Calloway: \"The Union was informed in February 3, 1998 that the Agency will censor it&apos;s Electronic Bulletin Board and remove whatever they deem necessary.\n",
      "It is true that the grievance asserted that the censorship violated the parties&apos; Agreement while the charge asserted that the censorship violated the Statute.\n",
      "it is clear that the ULP arose from the same set of factual circumstances as the grievance and the same theory was advanced in support of both the ULP and the grievance.\"\n",
      "1(a)) and the First Amended Charge added as instances of the screening, \".\n"
     ]
    }
   ],
   "source": [
    "summary = summarizer(parser.document, 10) \n",
    "for sentence in summary:\n",
    "    print sentence"
   ]
  }
 ],
 "metadata": {
  "kernelspec": {
   "display_name": "Python 2",
   "language": "python",
   "name": "python2"
  },
  "language_info": {
   "codemirror_mode": {
    "name": "ipython",
    "version": 2
   },
   "file_extension": ".py",
   "mimetype": "text/x-python",
   "name": "python",
   "nbconvert_exporter": "python",
   "pygments_lexer": "ipython2",
   "version": "2.7.13"
  }
 },
 "nbformat": 4,
 "nbformat_minor": 0
}
